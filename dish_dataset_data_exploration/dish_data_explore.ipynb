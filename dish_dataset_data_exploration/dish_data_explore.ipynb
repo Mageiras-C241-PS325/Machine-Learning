{
 "cells": [
  {
   "cell_type": "code",
   "execution_count": 25,
   "metadata": {},
   "outputs": [],
   "source": [
    "import pandas as pd\n",
    "import numpy as np\n",
    "import matplotlib.pyplot as plt\n",
    "import seaborn as sns\n",
    "import ast\n",
    "import random"
   ]
  },
  {
   "cell_type": "code",
   "execution_count": 26,
   "metadata": {},
   "outputs": [],
   "source": [
    "dish_ds = pd.read_csv('3A2M_EXTENDED.csv')"
   ]
  },
  {
   "cell_type": "code",
   "execution_count": 27,
   "metadata": {},
   "outputs": [
    {
     "data": {
      "text/html": [
       "<div>\n",
       "<style scoped>\n",
       "    .dataframe tbody tr th:only-of-type {\n",
       "        vertical-align: middle;\n",
       "    }\n",
       "\n",
       "    .dataframe tbody tr th {\n",
       "        vertical-align: top;\n",
       "    }\n",
       "\n",
       "    .dataframe thead th {\n",
       "        text-align: right;\n",
       "    }\n",
       "</style>\n",
       "<table border=\"1\" class=\"dataframe\">\n",
       "  <thead>\n",
       "    <tr style=\"text-align: right;\">\n",
       "      <th></th>\n",
       "      <th>title</th>\n",
       "      <th>NER</th>\n",
       "      <th>Extended_NER</th>\n",
       "      <th>genre</th>\n",
       "      <th>label</th>\n",
       "      <th>directions</th>\n",
       "    </tr>\n",
       "  </thead>\n",
       "  <tbody>\n",
       "    <tr>\n",
       "      <th>0</th>\n",
       "      <td>\\t Arugula Pomegranate Salad</td>\n",
       "      <td>[\"baby spinach\", \"baby arugula\", \"pomegranate ...</td>\n",
       "      <td>['alfalfa sprouts', 'baby spinach', 'baby arug...</td>\n",
       "      <td>vegetables</td>\n",
       "      <td>4</td>\n",
       "      <td>[\"Toss together spinach and arugula, then plac...</td>\n",
       "    </tr>\n",
       "    <tr>\n",
       "      <th>1</th>\n",
       "      <td>\\t Black Bean And Turkey Chili</td>\n",
       "      <td>[\"olive oil\", \"yellow onion\", \"garlic\", \"groun...</td>\n",
       "      <td>['one', 'yellow onion', 'tomato paste', 'about...</td>\n",
       "      <td>sides</td>\n",
       "      <td>8</td>\n",
       "      <td>[\"Dice the onion and mince the garlic. Add the...</td>\n",
       "    </tr>\n",
       "    <tr>\n",
       "      <th>2</th>\n",
       "      <td>\\t Finger Lickin' Tofu Nuggets</td>\n",
       "      <td>[\"extra firm\", \"almond flour\", \"nutritional ye...</td>\n",
       "      <td>['extra firm', '2', 'coconut oil', 'almond flo...</td>\n",
       "      <td>nonveg</td>\n",
       "      <td>3</td>\n",
       "      <td>[\"Wrap the tofu in a clean tea towel and press...</td>\n",
       "    </tr>\n",
       "    <tr>\n",
       "      <th>3</th>\n",
       "      <td>\\t Jerk Beef Stew With Carrots And Tomatoes</td>\n",
       "      <td>[\"olive oil\", \"boneless beef chuck\", \"onion\", ...</td>\n",
       "      <td>['boneless beef chuck', '2', 'Saute', 'onion',...</td>\n",
       "      <td>vegetables</td>\n",
       "      <td>4</td>\n",
       "      <td>[\"Preheat oven to 350 degrees F.\", \"Heat the o...</td>\n",
       "    </tr>\n",
       "    <tr>\n",
       "      <th>4</th>\n",
       "      <td>\\t Pomegranate Couscous Salad</td>\n",
       "      <td>[\"pomegranate arils\", \"whole wheat couscous\", ...</td>\n",
       "      <td>['whole wheat couscous', '10 minutes', 'lemon ...</td>\n",
       "      <td>vegetables</td>\n",
       "      <td>4</td>\n",
       "      <td>[\"Place couscous in a bowl with 11/2 cups of h...</td>\n",
       "    </tr>\n",
       "  </tbody>\n",
       "</table>\n",
       "</div>"
      ],
      "text/plain": [
       "                                         title  \\\n",
       "0                 \\t Arugula Pomegranate Salad   \n",
       "1               \\t Black Bean And Turkey Chili   \n",
       "2               \\t Finger Lickin' Tofu Nuggets   \n",
       "3  \\t Jerk Beef Stew With Carrots And Tomatoes   \n",
       "4                \\t Pomegranate Couscous Salad   \n",
       "\n",
       "                                                 NER  \\\n",
       "0  [\"baby spinach\", \"baby arugula\", \"pomegranate ...   \n",
       "1  [\"olive oil\", \"yellow onion\", \"garlic\", \"groun...   \n",
       "2  [\"extra firm\", \"almond flour\", \"nutritional ye...   \n",
       "3  [\"olive oil\", \"boneless beef chuck\", \"onion\", ...   \n",
       "4  [\"pomegranate arils\", \"whole wheat couscous\", ...   \n",
       "\n",
       "                                        Extended_NER       genre  label  \\\n",
       "0  ['alfalfa sprouts', 'baby spinach', 'baby arug...  vegetables      4   \n",
       "1  ['one', 'yellow onion', 'tomato paste', 'about...       sides      8   \n",
       "2  ['extra firm', '2', 'coconut oil', 'almond flo...      nonveg      3   \n",
       "3  ['boneless beef chuck', '2', 'Saute', 'onion',...  vegetables      4   \n",
       "4  ['whole wheat couscous', '10 minutes', 'lemon ...  vegetables      4   \n",
       "\n",
       "                                          directions  \n",
       "0  [\"Toss together spinach and arugula, then plac...  \n",
       "1  [\"Dice the onion and mince the garlic. Add the...  \n",
       "2  [\"Wrap the tofu in a clean tea towel and press...  \n",
       "3  [\"Preheat oven to 350 degrees F.\", \"Heat the o...  \n",
       "4  [\"Place couscous in a bowl with 11/2 cups of h...  "
      ]
     },
     "execution_count": 27,
     "metadata": {},
     "output_type": "execute_result"
    }
   ],
   "source": [
    "dish_ds.head()"
   ]
  },
  {
   "cell_type": "code",
   "execution_count": 28,
   "metadata": {},
   "outputs": [],
   "source": [
    "def preprocess_ingredients(row):\n",
    "    ingredients = ast.literal_eval(row['Extended_NER'])\n",
    "    second_ingredients = ast.literal_eval(row['NER'])\n",
    "    return str(ingredients + second_ingredients)"
   ]
  },
  {
   "cell_type": "code",
   "execution_count": 29,
   "metadata": {},
   "outputs": [],
   "source": [
    "dish_ds['ingredients'] = dish_ds.apply(preprocess_ingredients, axis=1)\n",
    "dish_ds['genre'] = dish_ds['genre'].apply(lambda x: x.lower())"
   ]
  },
  {
   "cell_type": "code",
   "execution_count": 30,
   "metadata": {},
   "outputs": [],
   "source": [
    "dish_ds_ner_combined = dish_ds.drop(['NER', 'Extended_NER'], axis=1)"
   ]
  },
  {
   "cell_type": "code",
   "execution_count": 31,
   "metadata": {},
   "outputs": [
    {
     "data": {
      "text/html": [
       "<div>\n",
       "<style scoped>\n",
       "    .dataframe tbody tr th:only-of-type {\n",
       "        vertical-align: middle;\n",
       "    }\n",
       "\n",
       "    .dataframe tbody tr th {\n",
       "        vertical-align: top;\n",
       "    }\n",
       "\n",
       "    .dataframe thead th {\n",
       "        text-align: right;\n",
       "    }\n",
       "</style>\n",
       "<table border=\"1\" class=\"dataframe\">\n",
       "  <thead>\n",
       "    <tr style=\"text-align: right;\">\n",
       "      <th></th>\n",
       "      <th>title</th>\n",
       "      <th>genre</th>\n",
       "      <th>label</th>\n",
       "      <th>directions</th>\n",
       "      <th>ingredients</th>\n",
       "    </tr>\n",
       "  </thead>\n",
       "  <tbody>\n",
       "    <tr>\n",
       "      <th>0</th>\n",
       "      <td>\\t Arugula Pomegranate Salad</td>\n",
       "      <td>vegetables</td>\n",
       "      <td>4</td>\n",
       "      <td>[\"Toss together spinach and arugula, then plac...</td>\n",
       "      <td>['alfalfa sprouts', 'baby spinach', 'baby arug...</td>\n",
       "    </tr>\n",
       "    <tr>\n",
       "      <th>1</th>\n",
       "      <td>\\t Black Bean And Turkey Chili</td>\n",
       "      <td>sides</td>\n",
       "      <td>8</td>\n",
       "      <td>[\"Dice the onion and mince the garlic. Add the...</td>\n",
       "      <td>['one', 'yellow onion', 'tomato paste', 'about...</td>\n",
       "    </tr>\n",
       "    <tr>\n",
       "      <th>2</th>\n",
       "      <td>\\t Finger Lickin' Tofu Nuggets</td>\n",
       "      <td>nonveg</td>\n",
       "      <td>3</td>\n",
       "      <td>[\"Wrap the tofu in a clean tea towel and press...</td>\n",
       "      <td>['extra firm', '2', 'coconut oil', 'almond flo...</td>\n",
       "    </tr>\n",
       "    <tr>\n",
       "      <th>3</th>\n",
       "      <td>\\t Jerk Beef Stew With Carrots And Tomatoes</td>\n",
       "      <td>vegetables</td>\n",
       "      <td>4</td>\n",
       "      <td>[\"Preheat oven to 350 degrees F.\", \"Heat the o...</td>\n",
       "      <td>['boneless beef chuck', '2', 'Saute', 'onion',...</td>\n",
       "    </tr>\n",
       "    <tr>\n",
       "      <th>4</th>\n",
       "      <td>\\t Pomegranate Couscous Salad</td>\n",
       "      <td>vegetables</td>\n",
       "      <td>4</td>\n",
       "      <td>[\"Place couscous in a bowl with 11/2 cups of h...</td>\n",
       "      <td>['whole wheat couscous', '10 minutes', 'lemon ...</td>\n",
       "    </tr>\n",
       "  </tbody>\n",
       "</table>\n",
       "</div>"
      ],
      "text/plain": [
       "                                         title       genre  label  \\\n",
       "0                 \\t Arugula Pomegranate Salad  vegetables      4   \n",
       "1               \\t Black Bean And Turkey Chili       sides      8   \n",
       "2               \\t Finger Lickin' Tofu Nuggets      nonveg      3   \n",
       "3  \\t Jerk Beef Stew With Carrots And Tomatoes  vegetables      4   \n",
       "4                \\t Pomegranate Couscous Salad  vegetables      4   \n",
       "\n",
       "                                          directions  \\\n",
       "0  [\"Toss together spinach and arugula, then plac...   \n",
       "1  [\"Dice the onion and mince the garlic. Add the...   \n",
       "2  [\"Wrap the tofu in a clean tea towel and press...   \n",
       "3  [\"Preheat oven to 350 degrees F.\", \"Heat the o...   \n",
       "4  [\"Place couscous in a bowl with 11/2 cups of h...   \n",
       "\n",
       "                                         ingredients  \n",
       "0  ['alfalfa sprouts', 'baby spinach', 'baby arug...  \n",
       "1  ['one', 'yellow onion', 'tomato paste', 'about...  \n",
       "2  ['extra firm', '2', 'coconut oil', 'almond flo...  \n",
       "3  ['boneless beef chuck', '2', 'Saute', 'onion',...  \n",
       "4  ['whole wheat couscous', '10 minutes', 'lemon ...  "
      ]
     },
     "execution_count": 31,
     "metadata": {},
     "output_type": "execute_result"
    }
   ],
   "source": [
    "dish_ds_ner_combined.head()"
   ]
  },
  {
   "cell_type": "code",
   "execution_count": 32,
   "metadata": {},
   "outputs": [],
   "source": [
    "available_ingredients = [\n",
    "    \"pig\",\n",
    "    \"garlic\",\n",
    "    \"calamansi\",\n",
    "    \"tomato\",\n",
    "    \"bell pepper\",\n",
    "    \"carrot\",\n",
    "    \"ginger\",\n",
    "    \"chicken\",\n",
    "    \"potato\",\n",
    "    \"cucumber\",\n",
    "    \"onion\",\n",
    "    \"chili\",\n",
    "    \"long chili\",\n",
    "]\n",
    "\n",
    "def filter_ingredients(row):\n",
    "    ingredients = ast.literal_eval(row['ingredients'])\n",
    "    ingredients = set([ingredient.lower().strip() for ingredient in ingredients])\n",
    "    return not ingredients.isdisjoint(available_ingredients)"
   ]
  },
  {
   "cell_type": "code",
   "execution_count": 33,
   "metadata": {},
   "outputs": [],
   "source": [
    "mask = dish_ds_ner_combined.apply(filter_ingredients, axis=1)"
   ]
  },
  {
   "cell_type": "code",
   "execution_count": 34,
   "metadata": {},
   "outputs": [
    {
     "data": {
      "text/plain": [
       "False    1457924\n",
       "True      773219\n",
       "Name: count, dtype: int64"
      ]
     },
     "execution_count": 34,
     "metadata": {},
     "output_type": "execute_result"
    }
   ],
   "source": [
    "mask.value_counts()"
   ]
  },
  {
   "cell_type": "code",
   "execution_count": 35,
   "metadata": {},
   "outputs": [],
   "source": [
    "dish_ds_filtered = dish_ds_ner_combined[mask]"
   ]
  },
  {
   "cell_type": "code",
   "execution_count": 36,
   "metadata": {},
   "outputs": [
    {
     "data": {
      "text/html": [
       "<div>\n",
       "<style scoped>\n",
       "    .dataframe tbody tr th:only-of-type {\n",
       "        vertical-align: middle;\n",
       "    }\n",
       "\n",
       "    .dataframe tbody tr th {\n",
       "        vertical-align: top;\n",
       "    }\n",
       "\n",
       "    .dataframe thead th {\n",
       "        text-align: right;\n",
       "    }\n",
       "</style>\n",
       "<table border=\"1\" class=\"dataframe\">\n",
       "  <thead>\n",
       "    <tr style=\"text-align: right;\">\n",
       "      <th></th>\n",
       "      <th>title</th>\n",
       "      <th>genre</th>\n",
       "      <th>label</th>\n",
       "      <th>directions</th>\n",
       "      <th>ingredients</th>\n",
       "    </tr>\n",
       "  </thead>\n",
       "  <tbody>\n",
       "    <tr>\n",
       "      <th>1</th>\n",
       "      <td>\\t Black Bean And Turkey Chili</td>\n",
       "      <td>sides</td>\n",
       "      <td>8</td>\n",
       "      <td>[\"Dice the onion and mince the garlic. Add the...</td>\n",
       "      <td>['one', 'yellow onion', 'tomato paste', 'about...</td>\n",
       "    </tr>\n",
       "    <tr>\n",
       "      <th>2</th>\n",
       "      <td>\\t Finger Lickin' Tofu Nuggets</td>\n",
       "      <td>nonveg</td>\n",
       "      <td>3</td>\n",
       "      <td>[\"Wrap the tofu in a clean tea towel and press...</td>\n",
       "      <td>['extra firm', '2', 'coconut oil', 'almond flo...</td>\n",
       "    </tr>\n",
       "    <tr>\n",
       "      <th>3</th>\n",
       "      <td>\\t Jerk Beef Stew With Carrots And Tomatoes</td>\n",
       "      <td>vegetables</td>\n",
       "      <td>4</td>\n",
       "      <td>[\"Preheat oven to 350 degrees F.\", \"Heat the o...</td>\n",
       "      <td>['boneless beef chuck', '2', 'Saute', 'onion',...</td>\n",
       "    </tr>\n",
       "    <tr>\n",
       "      <th>15</th>\n",
       "      <td>Sparkrecipes Is Powered By Sparkpeople.Com T...</td>\n",
       "      <td>cereal</td>\n",
       "      <td>6</td>\n",
       "      <td>[\"Portion the turkey as soon as you get home f...</td>\n",
       "      <td>['Place', 'egg whites', 'onion', 'chedder', 'g...</td>\n",
       "    </tr>\n",
       "    <tr>\n",
       "      <th>16</th>\n",
       "      <td>(Cheesy Mashed Potatoes) Recipe</td>\n",
       "      <td>vegetables</td>\n",
       "      <td>4</td>\n",
       "      <td>[\"In a large saucepan, cover potatoes and 1 wh...</td>\n",
       "      <td>['Bring', 'mixed Alpine cheeses', 'about 20 mi...</td>\n",
       "    </tr>\n",
       "  </tbody>\n",
       "</table>\n",
       "</div>"
      ],
      "text/plain": [
       "                                                title       genre  label  \\\n",
       "1                      \\t Black Bean And Turkey Chili       sides      8   \n",
       "2                      \\t Finger Lickin' Tofu Nuggets      nonveg      3   \n",
       "3         \\t Jerk Beef Stew With Carrots And Tomatoes  vegetables      4   \n",
       "15    Sparkrecipes Is Powered By Sparkpeople.Com T...      cereal      6   \n",
       "16                    (Cheesy Mashed Potatoes) Recipe  vegetables      4   \n",
       "\n",
       "                                           directions  \\\n",
       "1   [\"Dice the onion and mince the garlic. Add the...   \n",
       "2   [\"Wrap the tofu in a clean tea towel and press...   \n",
       "3   [\"Preheat oven to 350 degrees F.\", \"Heat the o...   \n",
       "15  [\"Portion the turkey as soon as you get home f...   \n",
       "16  [\"In a large saucepan, cover potatoes and 1 wh...   \n",
       "\n",
       "                                          ingredients  \n",
       "1   ['one', 'yellow onion', 'tomato paste', 'about...  \n",
       "2   ['extra firm', '2', 'coconut oil', 'almond flo...  \n",
       "3   ['boneless beef chuck', '2', 'Saute', 'onion',...  \n",
       "15  ['Place', 'egg whites', 'onion', 'chedder', 'g...  \n",
       "16  ['Bring', 'mixed Alpine cheeses', 'about 20 mi...  "
      ]
     },
     "execution_count": 36,
     "metadata": {},
     "output_type": "execute_result"
    }
   ],
   "source": [
    "dish_ds_filtered.head()"
   ]
  },
  {
   "cell_type": "code",
   "execution_count": 37,
   "metadata": {},
   "outputs": [],
   "source": [
    "def transform_list_to_string(row):\n",
    "    return ';'.join(ast.literal_eval(row['ingredients']))"
   ]
  },
  {
   "cell_type": "code",
   "execution_count": 38,
   "metadata": {},
   "outputs": [
    {
     "name": "stderr",
     "output_type": "stream",
     "text": [
      "/tmp/ipykernel_15419/1569307633.py:1: SettingWithCopyWarning: \n",
      "A value is trying to be set on a copy of a slice from a DataFrame.\n",
      "Try using .loc[row_indexer,col_indexer] = value instead\n",
      "\n",
      "See the caveats in the documentation: https://pandas.pydata.org/pandas-docs/stable/user_guide/indexing.html#returning-a-view-versus-a-copy\n",
      "  dish_ds_filtered['ingredients'] = dish_ds_filtered.apply(transform_list_to_string, axis=1)\n"
     ]
    }
   ],
   "source": [
    "dish_ds_filtered['ingredients'] = dish_ds_filtered.apply(transform_list_to_string, axis=1)"
   ]
  },
  {
   "cell_type": "code",
   "execution_count": 39,
   "metadata": {},
   "outputs": [
    {
     "data": {
      "text/html": [
       "<div>\n",
       "<style scoped>\n",
       "    .dataframe tbody tr th:only-of-type {\n",
       "        vertical-align: middle;\n",
       "    }\n",
       "\n",
       "    .dataframe tbody tr th {\n",
       "        vertical-align: top;\n",
       "    }\n",
       "\n",
       "    .dataframe thead th {\n",
       "        text-align: right;\n",
       "    }\n",
       "</style>\n",
       "<table border=\"1\" class=\"dataframe\">\n",
       "  <thead>\n",
       "    <tr style=\"text-align: right;\">\n",
       "      <th></th>\n",
       "      <th>title</th>\n",
       "      <th>genre</th>\n",
       "      <th>label</th>\n",
       "      <th>directions</th>\n",
       "      <th>ingredients</th>\n",
       "    </tr>\n",
       "  </thead>\n",
       "  <tbody>\n",
       "    <tr>\n",
       "      <th>1</th>\n",
       "      <td>\\t Black Bean And Turkey Chili</td>\n",
       "      <td>sides</td>\n",
       "      <td>8</td>\n",
       "      <td>[\"Dice the onion and mince the garlic. Add the...</td>\n",
       "      <td>one;yellow onion;tomato paste;about 10 minutes...</td>\n",
       "    </tr>\n",
       "    <tr>\n",
       "      <th>2</th>\n",
       "      <td>\\t Finger Lickin' Tofu Nuggets</td>\n",
       "      <td>nonveg</td>\n",
       "      <td>3</td>\n",
       "      <td>[\"Wrap the tofu in a clean tea towel and press...</td>\n",
       "      <td>extra firm;2;coconut oil;almond flour;nutritio...</td>\n",
       "    </tr>\n",
       "    <tr>\n",
       "      <th>3</th>\n",
       "      <td>\\t Jerk Beef Stew With Carrots And Tomatoes</td>\n",
       "      <td>vegetables</td>\n",
       "      <td>4</td>\n",
       "      <td>[\"Preheat oven to 350 degrees F.\", \"Heat the o...</td>\n",
       "      <td>boneless beef chuck;2;Saute;onion;1 hour to 1 ...</td>\n",
       "    </tr>\n",
       "    <tr>\n",
       "      <th>15</th>\n",
       "      <td>Sparkrecipes Is Powered By Sparkpeople.Com T...</td>\n",
       "      <td>cereal</td>\n",
       "      <td>6</td>\n",
       "      <td>[\"Portion the turkey as soon as you get home f...</td>\n",
       "      <td>Place;egg whites;onion;chedder;ground turkey;B...</td>\n",
       "    </tr>\n",
       "    <tr>\n",
       "      <th>16</th>\n",
       "      <td>(Cheesy Mashed Potatoes) Recipe</td>\n",
       "      <td>vegetables</td>\n",
       "      <td>4</td>\n",
       "      <td>[\"In a large saucepan, cover potatoes and 1 wh...</td>\n",
       "      <td>Bring;mixed Alpine cheeses;about 20 minutes;th...</td>\n",
       "    </tr>\n",
       "  </tbody>\n",
       "</table>\n",
       "</div>"
      ],
      "text/plain": [
       "                                                title       genre  label  \\\n",
       "1                      \\t Black Bean And Turkey Chili       sides      8   \n",
       "2                      \\t Finger Lickin' Tofu Nuggets      nonveg      3   \n",
       "3         \\t Jerk Beef Stew With Carrots And Tomatoes  vegetables      4   \n",
       "15    Sparkrecipes Is Powered By Sparkpeople.Com T...      cereal      6   \n",
       "16                    (Cheesy Mashed Potatoes) Recipe  vegetables      4   \n",
       "\n",
       "                                           directions  \\\n",
       "1   [\"Dice the onion and mince the garlic. Add the...   \n",
       "2   [\"Wrap the tofu in a clean tea towel and press...   \n",
       "3   [\"Preheat oven to 350 degrees F.\", \"Heat the o...   \n",
       "15  [\"Portion the turkey as soon as you get home f...   \n",
       "16  [\"In a large saucepan, cover potatoes and 1 wh...   \n",
       "\n",
       "                                          ingredients  \n",
       "1   one;yellow onion;tomato paste;about 10 minutes...  \n",
       "2   extra firm;2;coconut oil;almond flour;nutritio...  \n",
       "3   boneless beef chuck;2;Saute;onion;1 hour to 1 ...  \n",
       "15  Place;egg whites;onion;chedder;ground turkey;B...  \n",
       "16  Bring;mixed Alpine cheeses;about 20 minutes;th...  "
      ]
     },
     "execution_count": 39,
     "metadata": {},
     "output_type": "execute_result"
    }
   ],
   "source": [
    "dish_ds_filtered.head()"
   ]
  },
  {
   "cell_type": "code",
   "execution_count": 40,
   "metadata": {},
   "outputs": [
    {
     "data": {
      "text/plain": [
       "array(['sides', 'nonveg', 'vegetables', 'cereal', 'drinks', 'fusion',\n",
       "       'fastfood', 'bakery', 'meal'], dtype=object)"
      ]
     },
     "execution_count": 40,
     "metadata": {},
     "output_type": "execute_result"
    }
   ],
   "source": [
    "genres = dish_ds_filtered['genre'].unique()\n",
    "def sample_genre(genre_df):\n",
    "    return genre_df.sample(n=1000, random_state=9)\n",
    "genres"
   ]
  },
  {
   "cell_type": "code",
   "execution_count": 41,
   "metadata": {},
   "outputs": [
    {
     "name": "stderr",
     "output_type": "stream",
     "text": [
      "/tmp/ipykernel_15419/3602890211.py:2: DeprecationWarning: DataFrameGroupBy.apply operated on the grouping columns. This behavior is deprecated, and in a future version of pandas the grouping columns will be excluded from the operation. Either pass `include_groups=False` to exclude the groupings or explicitly select the grouping columns after groupby to silence this warning.\n",
      "  dish_ds_filtered_sampled = dish_ds_filtered.groupby('genre').apply(sample_genre).reset_index(drop=True)\n"
     ]
    },
    {
     "data": {
      "text/html": [
       "<div>\n",
       "<style scoped>\n",
       "    .dataframe tbody tr th:only-of-type {\n",
       "        vertical-align: middle;\n",
       "    }\n",
       "\n",
       "    .dataframe tbody tr th {\n",
       "        vertical-align: top;\n",
       "    }\n",
       "\n",
       "    .dataframe thead th {\n",
       "        text-align: right;\n",
       "    }\n",
       "</style>\n",
       "<table border=\"1\" class=\"dataframe\">\n",
       "  <thead>\n",
       "    <tr style=\"text-align: right;\">\n",
       "      <th></th>\n",
       "      <th>title</th>\n",
       "      <th>genre</th>\n",
       "      <th>label</th>\n",
       "      <th>directions</th>\n",
       "      <th>ingredients</th>\n",
       "    </tr>\n",
       "  </thead>\n",
       "  <tbody>\n",
       "    <tr>\n",
       "      <th>0</th>\n",
       "      <td>Fusilli With Artichoke Hearts And Parmesan Cream</td>\n",
       "      <td>bakery</td>\n",
       "      <td>1</td>\n",
       "      <td>[\"In a medium saucepan, melt the butter over m...</td>\n",
       "      <td>salt;Marinated Artichoke;Marinated Artichoke H...</td>\n",
       "    </tr>\n",
       "    <tr>\n",
       "      <th>1</th>\n",
       "      <td>Susan'S Pumpkin Cookies</td>\n",
       "      <td>bakery</td>\n",
       "      <td>1</td>\n",
       "      <td>Mix pumpkin sugar and spices together and set ...</td>\n",
       "      <td>brown sugar;molasses;Seal;soda;flour;rolled oa...</td>\n",
       "    </tr>\n",
       "    <tr>\n",
       "      <th>2</th>\n",
       "      <td>Jambalaya</td>\n",
       "      <td>bakery</td>\n",
       "      <td>1</td>\n",
       "      <td>[\"Heat the oil in a saucepan over medium heat....</td>\n",
       "      <td>chicken;shrimp;basil;salt;Tabasco sauce;garlic...</td>\n",
       "    </tr>\n",
       "    <tr>\n",
       "      <th>3</th>\n",
       "      <td>Quiche Lorraine</td>\n",
       "      <td>bakery</td>\n",
       "      <td>1</td>\n",
       "      <td>[\"You may use ham or sausage or all 3 meats.\"]</td>\n",
       "      <td>onion;heavy cream;another 10 minutes;Serve;325...</td>\n",
       "    </tr>\n",
       "    <tr>\n",
       "      <th>4</th>\n",
       "      <td>Balsamic Delight</td>\n",
       "      <td>bakery</td>\n",
       "      <td>1</td>\n",
       "      <td>[\"Cut up all vegetable ingredients and toss. P...</td>\n",
       "      <td>Broccoli Flowerettes;Celery;salt;Carrots;white...</td>\n",
       "    </tr>\n",
       "  </tbody>\n",
       "</table>\n",
       "</div>"
      ],
      "text/plain": [
       "                                              title   genre  label  \\\n",
       "0  Fusilli With Artichoke Hearts And Parmesan Cream  bakery      1   \n",
       "1                           Susan'S Pumpkin Cookies  bakery      1   \n",
       "2                                         Jambalaya  bakery      1   \n",
       "3                                   Quiche Lorraine  bakery      1   \n",
       "4                                 Balsamic Delight   bakery      1   \n",
       "\n",
       "                                          directions  \\\n",
       "0  [\"In a medium saucepan, melt the butter over m...   \n",
       "1  Mix pumpkin sugar and spices together and set ...   \n",
       "2  [\"Heat the oil in a saucepan over medium heat....   \n",
       "3     [\"You may use ham or sausage or all 3 meats.\"]   \n",
       "4  [\"Cut up all vegetable ingredients and toss. P...   \n",
       "\n",
       "                                         ingredients  \n",
       "0  salt;Marinated Artichoke;Marinated Artichoke H...  \n",
       "1  brown sugar;molasses;Seal;soda;flour;rolled oa...  \n",
       "2  chicken;shrimp;basil;salt;Tabasco sauce;garlic...  \n",
       "3  onion;heavy cream;another 10 minutes;Serve;325...  \n",
       "4  Broccoli Flowerettes;Celery;salt;Carrots;white...  "
      ]
     },
     "execution_count": 41,
     "metadata": {},
     "output_type": "execute_result"
    }
   ],
   "source": [
    "# Take 1000 of each genre and put it into a new df\n",
    "dish_ds_filtered_sampled = dish_ds_filtered.groupby('genre').apply(sample_genre).reset_index(drop=True)\n",
    "dish_ds_filtered_sampled.head()"
   ]
  },
  {
   "cell_type": "code",
   "execution_count": 42,
   "metadata": {},
   "outputs": [
    {
     "data": {
      "text/plain": [
       "genre\n",
       "bakery        1000\n",
       "cereal        1000\n",
       "drinks        1000\n",
       "fastfood      1000\n",
       "fusion        1000\n",
       "meal          1000\n",
       "nonveg        1000\n",
       "sides         1000\n",
       "vegetables    1000\n",
       "Name: count, dtype: int64"
      ]
     },
     "execution_count": 42,
     "metadata": {},
     "output_type": "execute_result"
    }
   ],
   "source": [
    "dish_ds_filtered_sampled['genre'].value_counts()"
   ]
  },
  {
   "cell_type": "code",
   "execution_count": 43,
   "metadata": {},
   "outputs": [],
   "source": [
    "def add_image_to_df(row):\n",
    "    genre_to_url_map = {\n",
    "        \"bakery\" : [\n",
    "            \"https://images.pexels.com/photos/128865/pexels-photo-128865.jpeg?auto=compress&cs=tinysrgb&w=600\",\n",
    "            \"https://images.pexels.com/photos/9228619/pexels-photo-9228619.jpeg?auto=compress&cs=tinysrgb&w=600\",\n",
    "            \"https://images.pexels.com/photos/2837005/pexels-photo-2837005.jpeg?auto=compress&cs=tinysrgb&w=600\",\n",
    "            \"https://images.pexels.com/photos/1495534/pexels-photo-1495534.jpeg?auto=compress&cs=tinysrgb&w=600\",\n",
    "            \"https://images.pexels.com/photos/8108119/pexels-photo-8108119.jpeg?auto=compress&cs=tinysrgb&w=600\",\n",
    "            ],\n",
    "        \"cereal\" : [\n",
    "            \"https://images.pexels.com/photos/128865/pexels-photo-128865.jpeg?auto=compress&cs=tinysrgb&w=600\",\n",
    "            \"https://images.pexels.com/photos/9228619/pexels-photo-9228619.jpeg?auto=compress&cs=tinysrgb&w=600\",\n",
    "            \"https://images.pexels.com/photos/2837005/pexels-photo-2837005.jpeg?auto=compress&cs=tinysrgb&w=600\",\n",
    "            \"https://images.pexels.com/photos/1495534/pexels-photo-1495534.jpeg?auto=compress&cs=tinysrgb&w=600\",\n",
    "            \"https://images.pexels.com/photos/8108119/pexels-photo-8108119.jpeg?auto=compress&cs=tinysrgb&w=600\", \n",
    "            ],\n",
    "        \"drinks\" : [\n",
    "            \"https://images.pexels.com/photos/338713/pexels-photo-338713.jpeg?auto=compress&cs=tinysrgb&w=600\",\n",
    "            \"https://images.pexels.com/photos/1200348/pexels-photo-1200348.jpeg?auto=compress&cs=tinysrgb&w=600\",\n",
    "            \"https://images.pexels.com/photos/1089930/pexels-photo-1089930.jpeg?auto=compress&cs=tinysrgb&w=1260&h=750&dpr=1\",\n",
    "            \"https://images.pexels.com/photos/312418/pexels-photo-312418.jpeg?auto=compress&cs=tinysrgb&w=1260&h=750&dpr=1\",\n",
    "            \"https://images.pexels.com/photos/230490/pexels-photo-230490.jpeg?auto=compress&cs=tinysrgb&w=600\", \n",
    "            ],\n",
    "        \"fastfood\" : [\n",
    "            \"https://images.pexels.com/photos/70497/pexels-photo-70497.jpeg?auto=compress&cs=tinysrgb&w=1260&h=750&dpr=2\",\n",
    "            \"https://images.pexels.com/photos/1199957/pexels-photo-1199957.jpeg?auto=compress&cs=tinysrgb&w=1260&h=750&dpr=2\",\n",
    "            \"https://images.pexels.com/photos/1123249/pexels-photo-1123249.jpeg?auto=compress&cs=tinysrgb&w=1260&h=750&dpr=2\",\n",
    "            \"https://images.pexels.com/photos/315755/pexels-photo-315755.jpeg?auto=compress&cs=tinysrgb&w=1260&h=750&dpr=2\",\n",
    "            \"https://images.pexels.com/photos/6697273/pexels-photo-6697273.jpeg?auto=compress&cs=tinysrgb&w=1260&h=750&dpr=2\" \n",
    "\n",
    "            ],\n",
    "        \"fusion\" : [\n",
    "            \"https://images.pexels.com/photos/12706240/pexels-photo-12706240.jpeg?auto=compress&cs=tinysrgb&w=1260&h=750&dpr=2\",\n",
    "            \"https://images.pexels.com/photos/4110430/pexels-photo-4110430.jpeg?auto=compress&cs=tinysrgb&w=1260&h=750&dpr=2\",\n",
    "            \"https://images.pexels.com/photos/2792186/pexels-photo-2792186.jpeg?auto=compress&cs=tinysrgb&w=1260&h=750&dpr=2\",\n",
    "            \"https://images.pexels.com/photos/25524075/pexels-photo-25524075/free-photo-of-dessert-with-fruits.jpeg?auto=compress&cs=tinysrgb&w=1260&h=750&dpr=2\",\n",
    "            \"https://images.pexels.com/photos/20571445/pexels-photo-20571445/free-photo-of-bowl-of-food.jpeg?auto=compress&cs=tinysrgb&w=800\",\n",
    "            ],\n",
    "        \"meal\" : [\n",
    "            \"https://images.pexels.com/photos/8827916/pexels-photo-8827916.jpeg?auto=compress&cs=tinysrgb&w=800\",\n",
    "            \"https://images.pexels.com/photos/8954526/pexels-photo-8954526.jpeg?auto=compress&cs=tinysrgb&w=800\",\n",
    "            \"https://images.pexels.com/photos/6170473/pexels-photo-6170473.jpeg?auto=compress&cs=tinysrgb&w=1260&h=750&dpr=2\",\n",
    "            \"https://images.pexels.com/photos/6064810/pexels-photo-6064810.jpeg?auto=compress&cs=tinysrgb&w=1260&h=750&dpr=2\",\n",
    "            \"https://images.pexels.com/photos/15832878/pexels-photo-15832878/free-photo-of-mixed-salad-on-a-tray.jpeg?auto=compress&cs=tinysrgb&w=1260&h=750&dpr=2\" \n",
    "            ],\n",
    "        \"nonveg\" : [\n",
    "            \"https://images.pexels.com/photos/20644799/pexels-photo-20644799/free-photo-of-choice-of-meat-snacks.jpeg?auto=compress&cs=tinysrgb&w=600\",\n",
    "            \"https://images.pexels.com/photos/1482803/pexels-photo-1482803.jpeg?auto=compress&cs=tinysrgb&w=600\",\n",
    "            \"https://images.pexels.com/photos/1251208/pexels-photo-1251208.jpeg?auto=compress&cs=tinysrgb&w=600\",\n",
    "            \"https://images.pexels.com/photos/588776/pexels-photo-588776.jpeg?auto=compress&cs=tinysrgb&w=600\",\n",
    "            \"https://images.pexels.com/photos/410648/pexels-photo-410648.jpeg?auto=compress&cs=tinysrgb&w=600\", \n",
    "            ],\n",
    "        \"sides\" : [\n",
    "            \"https://images.pexels.com/photos/10520474/pexels-photo-10520474.jpeg?auto=compress&cs=tinysrgb&w=600\",\n",
    "            \"https://images.pexels.com/photos/6740528/pexels-photo-6740528.jpeg?auto=compress&cs=tinysrgb&w=600\",\n",
    "            \"https://images.pexels.com/photos/10420372/pexels-photo-10420372.jpeg?auto=compress&cs=tinysrgb&w=600\",\n",
    "            \"https://images.pexels.com/photos/1893555/pexels-photo-1893555.jpeg?auto=compress&cs=tinysrgb&w=600\",\n",
    "            \"https://images.pexels.com/photos/5840089/pexels-photo-5840089.jpeg?auto=compress&cs=tinysrgb&w=600\",\n",
    "            ],\n",
    "        \"vegetables\" : [\n",
    "            \"https://images.pexels.com/photos/20640320/pexels-photo-20640320/free-photo-of-tomatoes-on-a-food-market.jpeg?auto=compress&cs=tinysrgb&w=600\",\n",
    "            \"https://images.pexels.com/photos/842571/pexels-photo-842571.jpeg?auto=compress&cs=tinysrgb&w=600\",\n",
    "            \"https://images.pexels.com/photos/3872373/pexels-photo-3872373.jpeg?auto=compress&cs=tinysrgb&w=60\", \n",
    "            \"https://images.pexels.com/photos/2862154/pexels-photo-2862154.jpeg?auto=compress&cs=tinysrgb&w=600\", \n",
    "            \"https://images.pexels.com/photos/3026808/pexels-photo-3026808.jpeg?auto=compress&cs=tinysrgb&w=600\",\n",
    "            ],\n",
    "    }\n",
    "    genre_urls = genre_to_url_map.get(row['genre'], [])\n",
    "    if genre_urls:\n",
    "        link = random.choice(genre_urls)\n",
    "    else:\n",
    "        link = None\n",
    "    return link"
   ]
  },
  {
   "cell_type": "code",
   "execution_count": 44,
   "metadata": {},
   "outputs": [],
   "source": [
    "dish_ds_filtered_sampled['image_url'] = dish_ds_filtered_sampled.apply(add_image_to_df, axis=1)"
   ]
  },
  {
   "cell_type": "code",
   "execution_count": 45,
   "metadata": {},
   "outputs": [],
   "source": [
    "dish_ds_filtered_sampled.to_csv('3A2M_EXTENDED_FILTERED_SAMPLED.csv', index=False)\n",
    "dish_ds_filtered_sampled.to_json('3A2M_EXTENDED_FILTERED_SAMPLED.json', orient='records')"
   ]
  }
 ],
 "metadata": {
  "kernelspec": {
   "display_name": "Python 3 (ipykernel)",
   "language": "python",
   "name": "python3"
  },
  "language_info": {
   "codemirror_mode": {
    "name": "ipython",
    "version": 3
   },
   "file_extension": ".py",
   "mimetype": "text/x-python",
   "name": "python",
   "nbconvert_exporter": "python",
   "pygments_lexer": "ipython3",
   "version": "3.10.12"
  }
 },
 "nbformat": 4,
 "nbformat_minor": 2
}
