{
 "cells": [
  {
   "cell_type": "code",
   "execution_count": 108,
   "metadata": {},
   "outputs": [],
   "source": [
    "import pandas as pd\n",
    "import numpy as np\n",
    "import matplotlib.pyplot as plt\n",
    "import seaborn as sns\n",
    "import ast"
   ]
  },
  {
   "cell_type": "code",
   "execution_count": 109,
   "metadata": {},
   "outputs": [],
   "source": [
    "dish_ds = pd.read_csv('3A2M_EXTENDED.csv')"
   ]
  },
  {
   "cell_type": "code",
   "execution_count": 110,
   "metadata": {},
   "outputs": [
    {
     "data": {
      "text/html": [
       "<div>\n",
       "<style scoped>\n",
       "    .dataframe tbody tr th:only-of-type {\n",
       "        vertical-align: middle;\n",
       "    }\n",
       "\n",
       "    .dataframe tbody tr th {\n",
       "        vertical-align: top;\n",
       "    }\n",
       "\n",
       "    .dataframe thead th {\n",
       "        text-align: right;\n",
       "    }\n",
       "</style>\n",
       "<table border=\"1\" class=\"dataframe\">\n",
       "  <thead>\n",
       "    <tr style=\"text-align: right;\">\n",
       "      <th></th>\n",
       "      <th>title</th>\n",
       "      <th>NER</th>\n",
       "      <th>Extended_NER</th>\n",
       "      <th>genre</th>\n",
       "      <th>label</th>\n",
       "      <th>directions</th>\n",
       "    </tr>\n",
       "  </thead>\n",
       "  <tbody>\n",
       "    <tr>\n",
       "      <th>0</th>\n",
       "      <td>\\t Arugula Pomegranate Salad</td>\n",
       "      <td>[\"baby spinach\", \"baby arugula\", \"pomegranate ...</td>\n",
       "      <td>['alfalfa sprouts', 'baby spinach', 'baby arug...</td>\n",
       "      <td>vegetables</td>\n",
       "      <td>4</td>\n",
       "      <td>[\"Toss together spinach and arugula, then plac...</td>\n",
       "    </tr>\n",
       "    <tr>\n",
       "      <th>1</th>\n",
       "      <td>\\t Black Bean And Turkey Chili</td>\n",
       "      <td>[\"olive oil\", \"yellow onion\", \"garlic\", \"groun...</td>\n",
       "      <td>['one', 'yellow onion', 'tomato paste', 'about...</td>\n",
       "      <td>sides</td>\n",
       "      <td>8</td>\n",
       "      <td>[\"Dice the onion and mince the garlic. Add the...</td>\n",
       "    </tr>\n",
       "    <tr>\n",
       "      <th>2</th>\n",
       "      <td>\\t Finger Lickin' Tofu Nuggets</td>\n",
       "      <td>[\"extra firm\", \"almond flour\", \"nutritional ye...</td>\n",
       "      <td>['extra firm', '2', 'coconut oil', 'almond flo...</td>\n",
       "      <td>nonveg</td>\n",
       "      <td>3</td>\n",
       "      <td>[\"Wrap the tofu in a clean tea towel and press...</td>\n",
       "    </tr>\n",
       "    <tr>\n",
       "      <th>3</th>\n",
       "      <td>\\t Jerk Beef Stew With Carrots And Tomatoes</td>\n",
       "      <td>[\"olive oil\", \"boneless beef chuck\", \"onion\", ...</td>\n",
       "      <td>['boneless beef chuck', '2', 'Saute', 'onion',...</td>\n",
       "      <td>vegetables</td>\n",
       "      <td>4</td>\n",
       "      <td>[\"Preheat oven to 350 degrees F.\", \"Heat the o...</td>\n",
       "    </tr>\n",
       "    <tr>\n",
       "      <th>4</th>\n",
       "      <td>\\t Pomegranate Couscous Salad</td>\n",
       "      <td>[\"pomegranate arils\", \"whole wheat couscous\", ...</td>\n",
       "      <td>['whole wheat couscous', '10 minutes', 'lemon ...</td>\n",
       "      <td>vegetables</td>\n",
       "      <td>4</td>\n",
       "      <td>[\"Place couscous in a bowl with 11/2 cups of h...</td>\n",
       "    </tr>\n",
       "  </tbody>\n",
       "</table>\n",
       "</div>"
      ],
      "text/plain": [
       "                                         title  \\\n",
       "0                 \\t Arugula Pomegranate Salad   \n",
       "1               \\t Black Bean And Turkey Chili   \n",
       "2               \\t Finger Lickin' Tofu Nuggets   \n",
       "3  \\t Jerk Beef Stew With Carrots And Tomatoes   \n",
       "4                \\t Pomegranate Couscous Salad   \n",
       "\n",
       "                                                 NER  \\\n",
       "0  [\"baby spinach\", \"baby arugula\", \"pomegranate ...   \n",
       "1  [\"olive oil\", \"yellow onion\", \"garlic\", \"groun...   \n",
       "2  [\"extra firm\", \"almond flour\", \"nutritional ye...   \n",
       "3  [\"olive oil\", \"boneless beef chuck\", \"onion\", ...   \n",
       "4  [\"pomegranate arils\", \"whole wheat couscous\", ...   \n",
       "\n",
       "                                        Extended_NER       genre  label  \\\n",
       "0  ['alfalfa sprouts', 'baby spinach', 'baby arug...  vegetables      4   \n",
       "1  ['one', 'yellow onion', 'tomato paste', 'about...       sides      8   \n",
       "2  ['extra firm', '2', 'coconut oil', 'almond flo...      nonveg      3   \n",
       "3  ['boneless beef chuck', '2', 'Saute', 'onion',...  vegetables      4   \n",
       "4  ['whole wheat couscous', '10 minutes', 'lemon ...  vegetables      4   \n",
       "\n",
       "                                          directions  \n",
       "0  [\"Toss together spinach and arugula, then plac...  \n",
       "1  [\"Dice the onion and mince the garlic. Add the...  \n",
       "2  [\"Wrap the tofu in a clean tea towel and press...  \n",
       "3  [\"Preheat oven to 350 degrees F.\", \"Heat the o...  \n",
       "4  [\"Place couscous in a bowl with 11/2 cups of h...  "
      ]
     },
     "execution_count": 110,
     "metadata": {},
     "output_type": "execute_result"
    }
   ],
   "source": [
    "dish_ds.head()"
   ]
  },
  {
   "cell_type": "code",
   "execution_count": 111,
   "metadata": {},
   "outputs": [],
   "source": [
    "def preprocess_ingredients(row):\n",
    "    ingredients = ast.literal_eval(row['Extended_NER'])\n",
    "    second_ingredients = ast.literal_eval(row['NER'])\n",
    "    return str(ingredients + second_ingredients)"
   ]
  },
  {
   "cell_type": "code",
   "execution_count": 112,
   "metadata": {},
   "outputs": [],
   "source": [
    "dish_ds['ingredients'] = dish_ds.apply(preprocess_ingredients, axis=1)"
   ]
  },
  {
   "cell_type": "code",
   "execution_count": 113,
   "metadata": {},
   "outputs": [],
   "source": [
    "dish_ds_ner_combined = dish_ds.drop(['NER', 'Extended_NER'], axis=1)"
   ]
  },
  {
   "cell_type": "code",
   "execution_count": 114,
   "metadata": {},
   "outputs": [
    {
     "data": {
      "text/html": [
       "<div>\n",
       "<style scoped>\n",
       "    .dataframe tbody tr th:only-of-type {\n",
       "        vertical-align: middle;\n",
       "    }\n",
       "\n",
       "    .dataframe tbody tr th {\n",
       "        vertical-align: top;\n",
       "    }\n",
       "\n",
       "    .dataframe thead th {\n",
       "        text-align: right;\n",
       "    }\n",
       "</style>\n",
       "<table border=\"1\" class=\"dataframe\">\n",
       "  <thead>\n",
       "    <tr style=\"text-align: right;\">\n",
       "      <th></th>\n",
       "      <th>title</th>\n",
       "      <th>genre</th>\n",
       "      <th>label</th>\n",
       "      <th>directions</th>\n",
       "      <th>ingredients</th>\n",
       "    </tr>\n",
       "  </thead>\n",
       "  <tbody>\n",
       "    <tr>\n",
       "      <th>0</th>\n",
       "      <td>\\t Arugula Pomegranate Salad</td>\n",
       "      <td>vegetables</td>\n",
       "      <td>4</td>\n",
       "      <td>[\"Toss together spinach and arugula, then plac...</td>\n",
       "      <td>['alfalfa sprouts', 'baby spinach', 'baby arug...</td>\n",
       "    </tr>\n",
       "    <tr>\n",
       "      <th>1</th>\n",
       "      <td>\\t Black Bean And Turkey Chili</td>\n",
       "      <td>sides</td>\n",
       "      <td>8</td>\n",
       "      <td>[\"Dice the onion and mince the garlic. Add the...</td>\n",
       "      <td>['one', 'yellow onion', 'tomato paste', 'about...</td>\n",
       "    </tr>\n",
       "    <tr>\n",
       "      <th>2</th>\n",
       "      <td>\\t Finger Lickin' Tofu Nuggets</td>\n",
       "      <td>nonveg</td>\n",
       "      <td>3</td>\n",
       "      <td>[\"Wrap the tofu in a clean tea towel and press...</td>\n",
       "      <td>['extra firm', '2', 'coconut oil', 'almond flo...</td>\n",
       "    </tr>\n",
       "    <tr>\n",
       "      <th>3</th>\n",
       "      <td>\\t Jerk Beef Stew With Carrots And Tomatoes</td>\n",
       "      <td>vegetables</td>\n",
       "      <td>4</td>\n",
       "      <td>[\"Preheat oven to 350 degrees F.\", \"Heat the o...</td>\n",
       "      <td>['boneless beef chuck', '2', 'Saute', 'onion',...</td>\n",
       "    </tr>\n",
       "    <tr>\n",
       "      <th>4</th>\n",
       "      <td>\\t Pomegranate Couscous Salad</td>\n",
       "      <td>vegetables</td>\n",
       "      <td>4</td>\n",
       "      <td>[\"Place couscous in a bowl with 11/2 cups of h...</td>\n",
       "      <td>['whole wheat couscous', '10 minutes', 'lemon ...</td>\n",
       "    </tr>\n",
       "  </tbody>\n",
       "</table>\n",
       "</div>"
      ],
      "text/plain": [
       "                                         title       genre  label  \\\n",
       "0                 \\t Arugula Pomegranate Salad  vegetables      4   \n",
       "1               \\t Black Bean And Turkey Chili       sides      8   \n",
       "2               \\t Finger Lickin' Tofu Nuggets      nonveg      3   \n",
       "3  \\t Jerk Beef Stew With Carrots And Tomatoes  vegetables      4   \n",
       "4                \\t Pomegranate Couscous Salad  vegetables      4   \n",
       "\n",
       "                                          directions  \\\n",
       "0  [\"Toss together spinach and arugula, then plac...   \n",
       "1  [\"Dice the onion and mince the garlic. Add the...   \n",
       "2  [\"Wrap the tofu in a clean tea towel and press...   \n",
       "3  [\"Preheat oven to 350 degrees F.\", \"Heat the o...   \n",
       "4  [\"Place couscous in a bowl with 11/2 cups of h...   \n",
       "\n",
       "                                         ingredients  \n",
       "0  ['alfalfa sprouts', 'baby spinach', 'baby arug...  \n",
       "1  ['one', 'yellow onion', 'tomato paste', 'about...  \n",
       "2  ['extra firm', '2', 'coconut oil', 'almond flo...  \n",
       "3  ['boneless beef chuck', '2', 'Saute', 'onion',...  \n",
       "4  ['whole wheat couscous', '10 minutes', 'lemon ...  "
      ]
     },
     "execution_count": 114,
     "metadata": {},
     "output_type": "execute_result"
    }
   ],
   "source": [
    "dish_ds_ner_combined.head()"
   ]
  },
  {
   "cell_type": "code",
   "execution_count": 115,
   "metadata": {},
   "outputs": [],
   "source": [
    "available_ingredients = [\n",
    "    \"22\",\n",
    "    \"pig\",\n",
    "    \"garlic\",\n",
    "    \"calamansi\",\n",
    "    \"tomato\",\n",
    "    \"bell pepper\",\n",
    "    \"carrot\",\n",
    "    \"ginger\",\n",
    "    \"chicken\",\n",
    "    \"potato\",\n",
    "    \"cucumber\",\n",
    "    \"onion\",\n",
    "    \"chili\",\n",
    "    \"long chili\",\n",
    "]\n",
    "\n",
    "def filter_ingredients(row):\n",
    "    ingredients = ast.literal_eval(row['ingredients'])\n",
    "    ingredients = set([ingredient.lower().strip() for ingredient in ingredients])\n",
    "    return not ingredients.isdisjoint(available_ingredients)"
   ]
  },
  {
   "cell_type": "code",
   "execution_count": 116,
   "metadata": {},
   "outputs": [],
   "source": [
    "mask = dish_ds_ner_combined.apply(filter_ingredients, axis=1)"
   ]
  },
  {
   "cell_type": "code",
   "execution_count": 117,
   "metadata": {},
   "outputs": [
    {
     "data": {
      "text/plain": [
       "False    1456961\n",
       "True      774182\n",
       "Name: count, dtype: int64"
      ]
     },
     "execution_count": 117,
     "metadata": {},
     "output_type": "execute_result"
    }
   ],
   "source": [
    "mask.value_counts()"
   ]
  },
  {
   "cell_type": "code",
   "execution_count": 118,
   "metadata": {},
   "outputs": [],
   "source": [
    "dish_ds_filtered = dish_ds_ner_combined[mask]"
   ]
  },
  {
   "cell_type": "code",
   "execution_count": 119,
   "metadata": {},
   "outputs": [
    {
     "data": {
      "text/html": [
       "<div>\n",
       "<style scoped>\n",
       "    .dataframe tbody tr th:only-of-type {\n",
       "        vertical-align: middle;\n",
       "    }\n",
       "\n",
       "    .dataframe tbody tr th {\n",
       "        vertical-align: top;\n",
       "    }\n",
       "\n",
       "    .dataframe thead th {\n",
       "        text-align: right;\n",
       "    }\n",
       "</style>\n",
       "<table border=\"1\" class=\"dataframe\">\n",
       "  <thead>\n",
       "    <tr style=\"text-align: right;\">\n",
       "      <th></th>\n",
       "      <th>title</th>\n",
       "      <th>genre</th>\n",
       "      <th>label</th>\n",
       "      <th>directions</th>\n",
       "      <th>ingredients</th>\n",
       "    </tr>\n",
       "  </thead>\n",
       "  <tbody>\n",
       "    <tr>\n",
       "      <th>1</th>\n",
       "      <td>\\t Black Bean And Turkey Chili</td>\n",
       "      <td>sides</td>\n",
       "      <td>8</td>\n",
       "      <td>[\"Dice the onion and mince the garlic. Add the...</td>\n",
       "      <td>['one', 'yellow onion', 'tomato paste', 'about...</td>\n",
       "    </tr>\n",
       "    <tr>\n",
       "      <th>2</th>\n",
       "      <td>\\t Finger Lickin' Tofu Nuggets</td>\n",
       "      <td>nonveg</td>\n",
       "      <td>3</td>\n",
       "      <td>[\"Wrap the tofu in a clean tea towel and press...</td>\n",
       "      <td>['extra firm', '2', 'coconut oil', 'almond flo...</td>\n",
       "    </tr>\n",
       "    <tr>\n",
       "      <th>3</th>\n",
       "      <td>\\t Jerk Beef Stew With Carrots And Tomatoes</td>\n",
       "      <td>vegetables</td>\n",
       "      <td>4</td>\n",
       "      <td>[\"Preheat oven to 350 degrees F.\", \"Heat the o...</td>\n",
       "      <td>['boneless beef chuck', '2', 'Saute', 'onion',...</td>\n",
       "    </tr>\n",
       "    <tr>\n",
       "      <th>15</th>\n",
       "      <td>Sparkrecipes Is Powered By Sparkpeople.Com T...</td>\n",
       "      <td>cereal</td>\n",
       "      <td>6</td>\n",
       "      <td>[\"Portion the turkey as soon as you get home f...</td>\n",
       "      <td>['Place', 'egg whites', 'onion', 'chedder', 'g...</td>\n",
       "    </tr>\n",
       "    <tr>\n",
       "      <th>16</th>\n",
       "      <td>(Cheesy Mashed Potatoes) Recipe</td>\n",
       "      <td>vegetables</td>\n",
       "      <td>4</td>\n",
       "      <td>[\"In a large saucepan, cover potatoes and 1 wh...</td>\n",
       "      <td>['Bring', 'mixed Alpine cheeses', 'about 20 mi...</td>\n",
       "    </tr>\n",
       "  </tbody>\n",
       "</table>\n",
       "</div>"
      ],
      "text/plain": [
       "                                                title       genre  label  \\\n",
       "1                      \\t Black Bean And Turkey Chili       sides      8   \n",
       "2                      \\t Finger Lickin' Tofu Nuggets      nonveg      3   \n",
       "3         \\t Jerk Beef Stew With Carrots And Tomatoes  vegetables      4   \n",
       "15    Sparkrecipes Is Powered By Sparkpeople.Com T...      cereal      6   \n",
       "16                    (Cheesy Mashed Potatoes) Recipe  vegetables      4   \n",
       "\n",
       "                                           directions  \\\n",
       "1   [\"Dice the onion and mince the garlic. Add the...   \n",
       "2   [\"Wrap the tofu in a clean tea towel and press...   \n",
       "3   [\"Preheat oven to 350 degrees F.\", \"Heat the o...   \n",
       "15  [\"Portion the turkey as soon as you get home f...   \n",
       "16  [\"In a large saucepan, cover potatoes and 1 wh...   \n",
       "\n",
       "                                          ingredients  \n",
       "1   ['one', 'yellow onion', 'tomato paste', 'about...  \n",
       "2   ['extra firm', '2', 'coconut oil', 'almond flo...  \n",
       "3   ['boneless beef chuck', '2', 'Saute', 'onion',...  \n",
       "15  ['Place', 'egg whites', 'onion', 'chedder', 'g...  \n",
       "16  ['Bring', 'mixed Alpine cheeses', 'about 20 mi...  "
      ]
     },
     "execution_count": 119,
     "metadata": {},
     "output_type": "execute_result"
    }
   ],
   "source": [
    "dish_ds_filtered.head()"
   ]
  },
  {
   "cell_type": "code",
   "execution_count": 120,
   "metadata": {},
   "outputs": [],
   "source": [
    "def transform_list_to_string(row):\n",
    "    return ';'.join(ast.literal_eval(row['ingredients']))"
   ]
  },
  {
   "cell_type": "code",
   "execution_count": 121,
   "metadata": {},
   "outputs": [
    {
     "name": "stderr",
     "output_type": "stream",
     "text": [
      "/tmp/ipykernel_1193897/1569307633.py:1: SettingWithCopyWarning: \n",
      "A value is trying to be set on a copy of a slice from a DataFrame.\n",
      "Try using .loc[row_indexer,col_indexer] = value instead\n",
      "\n",
      "See the caveats in the documentation: https://pandas.pydata.org/pandas-docs/stable/user_guide/indexing.html#returning-a-view-versus-a-copy\n",
      "  dish_ds_filtered['ingredients'] = dish_ds_filtered.apply(transform_list_to_string, axis=1)\n"
     ]
    }
   ],
   "source": [
    "dish_ds_filtered['ingredients'] = dish_ds_filtered.apply(transform_list_to_string, axis=1)"
   ]
  },
  {
   "cell_type": "code",
   "execution_count": 122,
   "metadata": {},
   "outputs": [
    {
     "data": {
      "text/html": [
       "<div>\n",
       "<style scoped>\n",
       "    .dataframe tbody tr th:only-of-type {\n",
       "        vertical-align: middle;\n",
       "    }\n",
       "\n",
       "    .dataframe tbody tr th {\n",
       "        vertical-align: top;\n",
       "    }\n",
       "\n",
       "    .dataframe thead th {\n",
       "        text-align: right;\n",
       "    }\n",
       "</style>\n",
       "<table border=\"1\" class=\"dataframe\">\n",
       "  <thead>\n",
       "    <tr style=\"text-align: right;\">\n",
       "      <th></th>\n",
       "      <th>title</th>\n",
       "      <th>genre</th>\n",
       "      <th>label</th>\n",
       "      <th>directions</th>\n",
       "      <th>ingredients</th>\n",
       "    </tr>\n",
       "  </thead>\n",
       "  <tbody>\n",
       "    <tr>\n",
       "      <th>1</th>\n",
       "      <td>\\t Black Bean And Turkey Chili</td>\n",
       "      <td>sides</td>\n",
       "      <td>8</td>\n",
       "      <td>[\"Dice the onion and mince the garlic. Add the...</td>\n",
       "      <td>one;yellow onion;tomato paste;about 10 minutes...</td>\n",
       "    </tr>\n",
       "    <tr>\n",
       "      <th>2</th>\n",
       "      <td>\\t Finger Lickin' Tofu Nuggets</td>\n",
       "      <td>nonveg</td>\n",
       "      <td>3</td>\n",
       "      <td>[\"Wrap the tofu in a clean tea towel and press...</td>\n",
       "      <td>extra firm;2;coconut oil;almond flour;nutritio...</td>\n",
       "    </tr>\n",
       "    <tr>\n",
       "      <th>3</th>\n",
       "      <td>\\t Jerk Beef Stew With Carrots And Tomatoes</td>\n",
       "      <td>vegetables</td>\n",
       "      <td>4</td>\n",
       "      <td>[\"Preheat oven to 350 degrees F.\", \"Heat the o...</td>\n",
       "      <td>boneless beef chuck;2;Saute;onion;1 hour to 1 ...</td>\n",
       "    </tr>\n",
       "    <tr>\n",
       "      <th>15</th>\n",
       "      <td>Sparkrecipes Is Powered By Sparkpeople.Com T...</td>\n",
       "      <td>cereal</td>\n",
       "      <td>6</td>\n",
       "      <td>[\"Portion the turkey as soon as you get home f...</td>\n",
       "      <td>Place;egg whites;onion;chedder;ground turkey;B...</td>\n",
       "    </tr>\n",
       "    <tr>\n",
       "      <th>16</th>\n",
       "      <td>(Cheesy Mashed Potatoes) Recipe</td>\n",
       "      <td>vegetables</td>\n",
       "      <td>4</td>\n",
       "      <td>[\"In a large saucepan, cover potatoes and 1 wh...</td>\n",
       "      <td>Bring;mixed Alpine cheeses;about 20 minutes;th...</td>\n",
       "    </tr>\n",
       "  </tbody>\n",
       "</table>\n",
       "</div>"
      ],
      "text/plain": [
       "                                                title       genre  label  \\\n",
       "1                      \\t Black Bean And Turkey Chili       sides      8   \n",
       "2                      \\t Finger Lickin' Tofu Nuggets      nonveg      3   \n",
       "3         \\t Jerk Beef Stew With Carrots And Tomatoes  vegetables      4   \n",
       "15    Sparkrecipes Is Powered By Sparkpeople.Com T...      cereal      6   \n",
       "16                    (Cheesy Mashed Potatoes) Recipe  vegetables      4   \n",
       "\n",
       "                                           directions  \\\n",
       "1   [\"Dice the onion and mince the garlic. Add the...   \n",
       "2   [\"Wrap the tofu in a clean tea towel and press...   \n",
       "3   [\"Preheat oven to 350 degrees F.\", \"Heat the o...   \n",
       "15  [\"Portion the turkey as soon as you get home f...   \n",
       "16  [\"In a large saucepan, cover potatoes and 1 wh...   \n",
       "\n",
       "                                          ingredients  \n",
       "1   one;yellow onion;tomato paste;about 10 minutes...  \n",
       "2   extra firm;2;coconut oil;almond flour;nutritio...  \n",
       "3   boneless beef chuck;2;Saute;onion;1 hour to 1 ...  \n",
       "15  Place;egg whites;onion;chedder;ground turkey;B...  \n",
       "16  Bring;mixed Alpine cheeses;about 20 minutes;th...  "
      ]
     },
     "execution_count": 122,
     "metadata": {},
     "output_type": "execute_result"
    }
   ],
   "source": [
    "dish_ds_filtered.head()"
   ]
  },
  {
   "cell_type": "code",
   "execution_count": 123,
   "metadata": {},
   "outputs": [
    {
     "data": {
      "text/plain": [
       "array(['sides', 'nonveg', 'vegetables', 'cereal', 'drinks', 'fusion',\n",
       "       'fastfood', 'bakery', 'meal', 'Fusion'], dtype=object)"
      ]
     },
     "execution_count": 123,
     "metadata": {},
     "output_type": "execute_result"
    }
   ],
   "source": [
    "genres = dish_ds_filtered['genre'].unique()\n",
    "def sample_genre(genre_df):\n",
    "    return genre_df.sample(n=2000, random_state=9)\n",
    "genres"
   ]
  },
  {
   "cell_type": "code",
   "execution_count": 124,
   "metadata": {},
   "outputs": [
    {
     "name": "stderr",
     "output_type": "stream",
     "text": [
      "/tmp/ipykernel_1193897/3486097354.py:2: DeprecationWarning: DataFrameGroupBy.apply operated on the grouping columns. This behavior is deprecated, and in a future version of pandas the grouping columns will be excluded from the operation. Either pass `include_groups=False` to exclude the groupings or explicitly select the grouping columns after groupby to silence this warning.\n",
      "  dish_ds_filtered_sampled = dish_ds_filtered.groupby('genre').apply(sample_genre).reset_index(drop=True)\n"
     ]
    },
    {
     "data": {
      "text/html": [
       "<div>\n",
       "<style scoped>\n",
       "    .dataframe tbody tr th:only-of-type {\n",
       "        vertical-align: middle;\n",
       "    }\n",
       "\n",
       "    .dataframe tbody tr th {\n",
       "        vertical-align: top;\n",
       "    }\n",
       "\n",
       "    .dataframe thead th {\n",
       "        text-align: right;\n",
       "    }\n",
       "</style>\n",
       "<table border=\"1\" class=\"dataframe\">\n",
       "  <thead>\n",
       "    <tr style=\"text-align: right;\">\n",
       "      <th></th>\n",
       "      <th>title</th>\n",
       "      <th>genre</th>\n",
       "      <th>label</th>\n",
       "      <th>directions</th>\n",
       "      <th>ingredients</th>\n",
       "    </tr>\n",
       "  </thead>\n",
       "  <tbody>\n",
       "    <tr>\n",
       "      <th>0</th>\n",
       "      <td>Stuffed Shells Primavera(Serves 6)</td>\n",
       "      <td>Fusion</td>\n",
       "      <td>9</td>\n",
       "      <td>Simmer tomatoes oil basil garlic salt and pepp...</td>\n",
       "      <td>zucchini;Ricotta;butter;Season;Arrange;Parmesa...</td>\n",
       "    </tr>\n",
       "    <tr>\n",
       "      <th>1</th>\n",
       "      <td>Hodgepodge</td>\n",
       "      <td>Fusion</td>\n",
       "      <td>9</td>\n",
       "      <td>Combine all ingredients in large pot. Cook ove...</td>\n",
       "      <td>15 to 20 minutes;Add;onion;pork;14;minestrone ...</td>\n",
       "    </tr>\n",
       "    <tr>\n",
       "      <th>2</th>\n",
       "      <td>Fricadellen</td>\n",
       "      <td>Fusion</td>\n",
       "      <td>9</td>\n",
       "      <td>[\"Combine beef, onion, bread, 1/2 cup of water...</td>\n",
       "      <td>ground nutmeg;1/4 cup;Combine;mushroom gravy;w...</td>\n",
       "    </tr>\n",
       "    <tr>\n",
       "      <th>3</th>\n",
       "      <td>Oyster Stuffing</td>\n",
       "      <td>Fusion</td>\n",
       "      <td>9</td>\n",
       "      <td>[\"Heat oysters in\", \"own\", \"liquid,\", \"drain.\"...</td>\n",
       "      <td>butter;1/2 cup;water;sat;oysters;pepper;bread ...</td>\n",
       "    </tr>\n",
       "    <tr>\n",
       "      <th>4</th>\n",
       "      <td>Individual Scout Pack</td>\n",
       "      <td>Fusion</td>\n",
       "      <td>9</td>\n",
       "      <td>On a long piece of heavy aluminum foil place o...</td>\n",
       "      <td>onion;Worcestershire sauce;one half;green pepp...</td>\n",
       "    </tr>\n",
       "  </tbody>\n",
       "</table>\n",
       "</div>"
      ],
      "text/plain": [
       "                                  title   genre  label  \\\n",
       "0  Stuffed Shells Primavera(Serves 6)    Fusion      9   \n",
       "1                            Hodgepodge  Fusion      9   \n",
       "2                           Fricadellen  Fusion      9   \n",
       "3                       Oyster Stuffing  Fusion      9   \n",
       "4                 Individual Scout Pack  Fusion      9   \n",
       "\n",
       "                                          directions  \\\n",
       "0  Simmer tomatoes oil basil garlic salt and pepp...   \n",
       "1  Combine all ingredients in large pot. Cook ove...   \n",
       "2  [\"Combine beef, onion, bread, 1/2 cup of water...   \n",
       "3  [\"Heat oysters in\", \"own\", \"liquid,\", \"drain.\"...   \n",
       "4  On a long piece of heavy aluminum foil place o...   \n",
       "\n",
       "                                         ingredients  \n",
       "0  zucchini;Ricotta;butter;Season;Arrange;Parmesa...  \n",
       "1  15 to 20 minutes;Add;onion;pork;14;minestrone ...  \n",
       "2  ground nutmeg;1/4 cup;Combine;mushroom gravy;w...  \n",
       "3  butter;1/2 cup;water;sat;oysters;pepper;bread ...  \n",
       "4  onion;Worcestershire sauce;one half;green pepp...  "
      ]
     },
     "execution_count": 124,
     "metadata": {},
     "output_type": "execute_result"
    }
   ],
   "source": [
    "# Take 2000 of each genre and put it into a new df\n",
    "dish_ds_filtered_sampled = dish_ds_filtered.groupby('genre').apply(sample_genre).reset_index(drop=True)\n",
    "dish_ds_filtered_sampled.head()"
   ]
  },
  {
   "cell_type": "code",
   "execution_count": 125,
   "metadata": {},
   "outputs": [
    {
     "data": {
      "text/plain": [
       "genre\n",
       "Fusion        2000\n",
       "bakery        2000\n",
       "cereal        2000\n",
       "drinks        2000\n",
       "fastfood      2000\n",
       "fusion        2000\n",
       "meal          2000\n",
       "nonveg        2000\n",
       "sides         2000\n",
       "vegetables    2000\n",
       "Name: count, dtype: int64"
      ]
     },
     "execution_count": 125,
     "metadata": {},
     "output_type": "execute_result"
    }
   ],
   "source": [
    "dish_ds_filtered_sampled['genre'].value_counts()"
   ]
  },
  {
   "cell_type": "code",
   "execution_count": 127,
   "metadata": {},
   "outputs": [],
   "source": [
    "dish_ds_filtered_sampled.to_csv('3A2M_EXTENDED_FILTERED_SAMPLED.csv', index=False)\n",
    "dish_ds_filtered_sampled.to_json('3A2M_EXTENDED_FILTERED_SAMPLED.json', orient='records')"
   ]
  }
 ],
 "metadata": {
  "kernelspec": {
   "display_name": "Python 3 (ipykernel)",
   "language": "python",
   "name": "python3"
  },
  "language_info": {
   "codemirror_mode": {
    "name": "ipython",
    "version": 3
   },
   "file_extension": ".py",
   "mimetype": "text/x-python",
   "name": "python",
   "nbconvert_exporter": "python",
   "pygments_lexer": "ipython3",
   "version": "3.10.12"
  }
 },
 "nbformat": 4,
 "nbformat_minor": 2
}
