{
 "cells": [
  {
   "cell_type": "code",
   "execution_count": 43,
   "metadata": {},
   "outputs": [],
   "source": [
    "import pandas as pd\n",
    "import numpy as np\n",
    "import matplotlib.pyplot as plt\n",
    "import seaborn as sns\n",
    "import ast\n",
    "import random"
   ]
  },
  {
   "cell_type": "code",
   "execution_count": 44,
   "metadata": {},
   "outputs": [],
   "source": [
    "dish_ds = pd.read_csv('3A2M_EXTENDED.csv')"
   ]
  },
  {
   "cell_type": "code",
   "execution_count": 45,
   "metadata": {},
   "outputs": [
    {
     "data": {
      "text/html": [
       "<div>\n",
       "<style scoped>\n",
       "    .dataframe tbody tr th:only-of-type {\n",
       "        vertical-align: middle;\n",
       "    }\n",
       "\n",
       "    .dataframe tbody tr th {\n",
       "        vertical-align: top;\n",
       "    }\n",
       "\n",
       "    .dataframe thead th {\n",
       "        text-align: right;\n",
       "    }\n",
       "</style>\n",
       "<table border=\"1\" class=\"dataframe\">\n",
       "  <thead>\n",
       "    <tr style=\"text-align: right;\">\n",
       "      <th></th>\n",
       "      <th>title</th>\n",
       "      <th>NER</th>\n",
       "      <th>Extended_NER</th>\n",
       "      <th>genre</th>\n",
       "      <th>label</th>\n",
       "      <th>directions</th>\n",
       "    </tr>\n",
       "  </thead>\n",
       "  <tbody>\n",
       "    <tr>\n",
       "      <th>0</th>\n",
       "      <td>\\t Arugula Pomegranate Salad</td>\n",
       "      <td>[\"baby spinach\", \"baby arugula\", \"pomegranate ...</td>\n",
       "      <td>['alfalfa sprouts', 'baby spinach', 'baby arug...</td>\n",
       "      <td>vegetables</td>\n",
       "      <td>4</td>\n",
       "      <td>[\"Toss together spinach and arugula, then plac...</td>\n",
       "    </tr>\n",
       "    <tr>\n",
       "      <th>1</th>\n",
       "      <td>\\t Black Bean And Turkey Chili</td>\n",
       "      <td>[\"olive oil\", \"yellow onion\", \"garlic\", \"groun...</td>\n",
       "      <td>['one', 'yellow onion', 'tomato paste', 'about...</td>\n",
       "      <td>sides</td>\n",
       "      <td>8</td>\n",
       "      <td>[\"Dice the onion and mince the garlic. Add the...</td>\n",
       "    </tr>\n",
       "    <tr>\n",
       "      <th>2</th>\n",
       "      <td>\\t Finger Lickin' Tofu Nuggets</td>\n",
       "      <td>[\"extra firm\", \"almond flour\", \"nutritional ye...</td>\n",
       "      <td>['extra firm', '2', 'coconut oil', 'almond flo...</td>\n",
       "      <td>nonveg</td>\n",
       "      <td>3</td>\n",
       "      <td>[\"Wrap the tofu in a clean tea towel and press...</td>\n",
       "    </tr>\n",
       "    <tr>\n",
       "      <th>3</th>\n",
       "      <td>\\t Jerk Beef Stew With Carrots And Tomatoes</td>\n",
       "      <td>[\"olive oil\", \"boneless beef chuck\", \"onion\", ...</td>\n",
       "      <td>['boneless beef chuck', '2', 'Saute', 'onion',...</td>\n",
       "      <td>vegetables</td>\n",
       "      <td>4</td>\n",
       "      <td>[\"Preheat oven to 350 degrees F.\", \"Heat the o...</td>\n",
       "    </tr>\n",
       "    <tr>\n",
       "      <th>4</th>\n",
       "      <td>\\t Pomegranate Couscous Salad</td>\n",
       "      <td>[\"pomegranate arils\", \"whole wheat couscous\", ...</td>\n",
       "      <td>['whole wheat couscous', '10 minutes', 'lemon ...</td>\n",
       "      <td>vegetables</td>\n",
       "      <td>4</td>\n",
       "      <td>[\"Place couscous in a bowl with 11/2 cups of h...</td>\n",
       "    </tr>\n",
       "  </tbody>\n",
       "</table>\n",
       "</div>"
      ],
      "text/plain": [
       "                                         title  \\\n",
       "0                 \\t Arugula Pomegranate Salad   \n",
       "1               \\t Black Bean And Turkey Chili   \n",
       "2               \\t Finger Lickin' Tofu Nuggets   \n",
       "3  \\t Jerk Beef Stew With Carrots And Tomatoes   \n",
       "4                \\t Pomegranate Couscous Salad   \n",
       "\n",
       "                                                 NER  \\\n",
       "0  [\"baby spinach\", \"baby arugula\", \"pomegranate ...   \n",
       "1  [\"olive oil\", \"yellow onion\", \"garlic\", \"groun...   \n",
       "2  [\"extra firm\", \"almond flour\", \"nutritional ye...   \n",
       "3  [\"olive oil\", \"boneless beef chuck\", \"onion\", ...   \n",
       "4  [\"pomegranate arils\", \"whole wheat couscous\", ...   \n",
       "\n",
       "                                        Extended_NER       genre  label  \\\n",
       "0  ['alfalfa sprouts', 'baby spinach', 'baby arug...  vegetables      4   \n",
       "1  ['one', 'yellow onion', 'tomato paste', 'about...       sides      8   \n",
       "2  ['extra firm', '2', 'coconut oil', 'almond flo...      nonveg      3   \n",
       "3  ['boneless beef chuck', '2', 'Saute', 'onion',...  vegetables      4   \n",
       "4  ['whole wheat couscous', '10 minutes', 'lemon ...  vegetables      4   \n",
       "\n",
       "                                          directions  \n",
       "0  [\"Toss together spinach and arugula, then plac...  \n",
       "1  [\"Dice the onion and mince the garlic. Add the...  \n",
       "2  [\"Wrap the tofu in a clean tea towel and press...  \n",
       "3  [\"Preheat oven to 350 degrees F.\", \"Heat the o...  \n",
       "4  [\"Place couscous in a bowl with 11/2 cups of h...  "
      ]
     },
     "execution_count": 45,
     "metadata": {},
     "output_type": "execute_result"
    }
   ],
   "source": [
    "dish_ds.head()"
   ]
  },
  {
   "cell_type": "code",
   "execution_count": 46,
   "metadata": {},
   "outputs": [],
   "source": [
    "def preprocess_ingredients(row):\n",
    "    second_ingredients = ast.literal_eval(row['NER'])\n",
    "    return str(second_ingredients)"
   ]
  },
  {
   "cell_type": "code",
   "execution_count": 47,
   "metadata": {},
   "outputs": [],
   "source": [
    "dish_ds['ingredients'] = dish_ds.apply(preprocess_ingredients, axis=1)\n",
    "dish_ds['genre'] = dish_ds['genre'].apply(lambda x: x.lower())"
   ]
  },
  {
   "cell_type": "code",
   "execution_count": 48,
   "metadata": {},
   "outputs": [],
   "source": [
    "dish_ds_ner_combined = dish_ds.drop(['NER', 'Extended_NER'], axis=1)"
   ]
  },
  {
   "cell_type": "code",
   "execution_count": 49,
   "metadata": {},
   "outputs": [
    {
     "data": {
      "text/html": [
       "<div>\n",
       "<style scoped>\n",
       "    .dataframe tbody tr th:only-of-type {\n",
       "        vertical-align: middle;\n",
       "    }\n",
       "\n",
       "    .dataframe tbody tr th {\n",
       "        vertical-align: top;\n",
       "    }\n",
       "\n",
       "    .dataframe thead th {\n",
       "        text-align: right;\n",
       "    }\n",
       "</style>\n",
       "<table border=\"1\" class=\"dataframe\">\n",
       "  <thead>\n",
       "    <tr style=\"text-align: right;\">\n",
       "      <th></th>\n",
       "      <th>title</th>\n",
       "      <th>genre</th>\n",
       "      <th>label</th>\n",
       "      <th>directions</th>\n",
       "      <th>ingredients</th>\n",
       "    </tr>\n",
       "  </thead>\n",
       "  <tbody>\n",
       "    <tr>\n",
       "      <th>0</th>\n",
       "      <td>\\t Arugula Pomegranate Salad</td>\n",
       "      <td>vegetables</td>\n",
       "      <td>4</td>\n",
       "      <td>[\"Toss together spinach and arugula, then plac...</td>\n",
       "      <td>['baby spinach', 'baby arugula', 'pomegranate ...</td>\n",
       "    </tr>\n",
       "    <tr>\n",
       "      <th>1</th>\n",
       "      <td>\\t Black Bean And Turkey Chili</td>\n",
       "      <td>sides</td>\n",
       "      <td>8</td>\n",
       "      <td>[\"Dice the onion and mince the garlic. Add the...</td>\n",
       "      <td>['olive oil', 'yellow onion', 'garlic', 'groun...</td>\n",
       "    </tr>\n",
       "    <tr>\n",
       "      <th>2</th>\n",
       "      <td>\\t Finger Lickin' Tofu Nuggets</td>\n",
       "      <td>nonveg</td>\n",
       "      <td>3</td>\n",
       "      <td>[\"Wrap the tofu in a clean tea towel and press...</td>\n",
       "      <td>['extra firm', 'almond flour', 'nutritional ye...</td>\n",
       "    </tr>\n",
       "    <tr>\n",
       "      <th>3</th>\n",
       "      <td>\\t Jerk Beef Stew With Carrots And Tomatoes</td>\n",
       "      <td>vegetables</td>\n",
       "      <td>4</td>\n",
       "      <td>[\"Preheat oven to 350 degrees F.\", \"Heat the o...</td>\n",
       "      <td>['olive oil', 'boneless beef chuck', 'onion', ...</td>\n",
       "    </tr>\n",
       "    <tr>\n",
       "      <th>4</th>\n",
       "      <td>\\t Pomegranate Couscous Salad</td>\n",
       "      <td>vegetables</td>\n",
       "      <td>4</td>\n",
       "      <td>[\"Place couscous in a bowl with 11/2 cups of h...</td>\n",
       "      <td>['pomegranate arils', 'whole wheat couscous', ...</td>\n",
       "    </tr>\n",
       "  </tbody>\n",
       "</table>\n",
       "</div>"
      ],
      "text/plain": [
       "                                         title       genre  label  \\\n",
       "0                 \\t Arugula Pomegranate Salad  vegetables      4   \n",
       "1               \\t Black Bean And Turkey Chili       sides      8   \n",
       "2               \\t Finger Lickin' Tofu Nuggets      nonveg      3   \n",
       "3  \\t Jerk Beef Stew With Carrots And Tomatoes  vegetables      4   \n",
       "4                \\t Pomegranate Couscous Salad  vegetables      4   \n",
       "\n",
       "                                          directions  \\\n",
       "0  [\"Toss together spinach and arugula, then plac...   \n",
       "1  [\"Dice the onion and mince the garlic. Add the...   \n",
       "2  [\"Wrap the tofu in a clean tea towel and press...   \n",
       "3  [\"Preheat oven to 350 degrees F.\", \"Heat the o...   \n",
       "4  [\"Place couscous in a bowl with 11/2 cups of h...   \n",
       "\n",
       "                                         ingredients  \n",
       "0  ['baby spinach', 'baby arugula', 'pomegranate ...  \n",
       "1  ['olive oil', 'yellow onion', 'garlic', 'groun...  \n",
       "2  ['extra firm', 'almond flour', 'nutritional ye...  \n",
       "3  ['olive oil', 'boneless beef chuck', 'onion', ...  \n",
       "4  ['pomegranate arils', 'whole wheat couscous', ...  "
      ]
     },
     "execution_count": 49,
     "metadata": {},
     "output_type": "execute_result"
    }
   ],
   "source": [
    "dish_ds_ner_combined.head()"
   ]
  },
  {
   "cell_type": "code",
   "execution_count": 50,
   "metadata": {},
   "outputs": [],
   "source": [
    "available_ingredients = [\n",
    "    \"pig\",\n",
    "    \"garlic\",\n",
    "    \"calamansi\",\n",
    "    \"tomato\",\n",
    "    \"bell pepper\",\n",
    "    \"carrot\",\n",
    "    \"ginger\",\n",
    "    \"chicken\",\n",
    "    \"potato\",\n",
    "    \"cucumber\",\n",
    "    \"onion\",\n",
    "    \"chili\",\n",
    "    \"long chili\",\n",
    "]\n",
    "\n",
    "def filter_ingredients(row):\n",
    "    ingredients = ast.literal_eval(row['ingredients'])\n",
    "    ingredients = set([ingredient.lower().strip() for ingredient in ingredients])\n",
    "    return not ingredients.isdisjoint(available_ingredients)"
   ]
  },
  {
   "cell_type": "code",
   "execution_count": 51,
   "metadata": {},
   "outputs": [],
   "source": [
    "mask = dish_ds_ner_combined.apply(filter_ingredients, axis=1)"
   ]
  },
  {
   "cell_type": "code",
   "execution_count": 52,
   "metadata": {},
   "outputs": [
    {
     "data": {
      "text/plain": [
       "False    1467424\n",
       "True      763719\n",
       "Name: count, dtype: int64"
      ]
     },
     "execution_count": 52,
     "metadata": {},
     "output_type": "execute_result"
    }
   ],
   "source": [
    "mask.value_counts()"
   ]
  },
  {
   "cell_type": "code",
   "execution_count": 53,
   "metadata": {},
   "outputs": [],
   "source": [
    "dish_ds_filtered = dish_ds_ner_combined[mask]"
   ]
  },
  {
   "cell_type": "code",
   "execution_count": 54,
   "metadata": {},
   "outputs": [
    {
     "data": {
      "text/html": [
       "<div>\n",
       "<style scoped>\n",
       "    .dataframe tbody tr th:only-of-type {\n",
       "        vertical-align: middle;\n",
       "    }\n",
       "\n",
       "    .dataframe tbody tr th {\n",
       "        vertical-align: top;\n",
       "    }\n",
       "\n",
       "    .dataframe thead th {\n",
       "        text-align: right;\n",
       "    }\n",
       "</style>\n",
       "<table border=\"1\" class=\"dataframe\">\n",
       "  <thead>\n",
       "    <tr style=\"text-align: right;\">\n",
       "      <th></th>\n",
       "      <th>title</th>\n",
       "      <th>genre</th>\n",
       "      <th>label</th>\n",
       "      <th>directions</th>\n",
       "      <th>ingredients</th>\n",
       "    </tr>\n",
       "  </thead>\n",
       "  <tbody>\n",
       "    <tr>\n",
       "      <th>1</th>\n",
       "      <td>\\t Black Bean And Turkey Chili</td>\n",
       "      <td>sides</td>\n",
       "      <td>8</td>\n",
       "      <td>[\"Dice the onion and mince the garlic. Add the...</td>\n",
       "      <td>['olive oil', 'yellow onion', 'garlic', 'groun...</td>\n",
       "    </tr>\n",
       "    <tr>\n",
       "      <th>2</th>\n",
       "      <td>\\t Finger Lickin' Tofu Nuggets</td>\n",
       "      <td>nonveg</td>\n",
       "      <td>3</td>\n",
       "      <td>[\"Wrap the tofu in a clean tea towel and press...</td>\n",
       "      <td>['extra firm', 'almond flour', 'nutritional ye...</td>\n",
       "    </tr>\n",
       "    <tr>\n",
       "      <th>3</th>\n",
       "      <td>\\t Jerk Beef Stew With Carrots And Tomatoes</td>\n",
       "      <td>vegetables</td>\n",
       "      <td>4</td>\n",
       "      <td>[\"Preheat oven to 350 degrees F.\", \"Heat the o...</td>\n",
       "      <td>['olive oil', 'boneless beef chuck', 'onion', ...</td>\n",
       "    </tr>\n",
       "    <tr>\n",
       "      <th>15</th>\n",
       "      <td>Sparkrecipes Is Powered By Sparkpeople.Com T...</td>\n",
       "      <td>cereal</td>\n",
       "      <td>6</td>\n",
       "      <td>[\"Portion the turkey as soon as you get home f...</td>\n",
       "      <td>['tortilla', 'egg whites', 'ground turkey', 'r...</td>\n",
       "    </tr>\n",
       "    <tr>\n",
       "      <th>16</th>\n",
       "      <td>(Cheesy Mashed Potatoes) Recipe</td>\n",
       "      <td>vegetables</td>\n",
       "      <td>4</td>\n",
       "      <td>[\"In a large saucepan, cover potatoes and 1 wh...</td>\n",
       "      <td>['potatoes', 'garlic', 'thyme', 'Kosher salt',...</td>\n",
       "    </tr>\n",
       "  </tbody>\n",
       "</table>\n",
       "</div>"
      ],
      "text/plain": [
       "                                                title       genre  label  \\\n",
       "1                      \\t Black Bean And Turkey Chili       sides      8   \n",
       "2                      \\t Finger Lickin' Tofu Nuggets      nonveg      3   \n",
       "3         \\t Jerk Beef Stew With Carrots And Tomatoes  vegetables      4   \n",
       "15    Sparkrecipes Is Powered By Sparkpeople.Com T...      cereal      6   \n",
       "16                    (Cheesy Mashed Potatoes) Recipe  vegetables      4   \n",
       "\n",
       "                                           directions  \\\n",
       "1   [\"Dice the onion and mince the garlic. Add the...   \n",
       "2   [\"Wrap the tofu in a clean tea towel and press...   \n",
       "3   [\"Preheat oven to 350 degrees F.\", \"Heat the o...   \n",
       "15  [\"Portion the turkey as soon as you get home f...   \n",
       "16  [\"In a large saucepan, cover potatoes and 1 wh...   \n",
       "\n",
       "                                          ingredients  \n",
       "1   ['olive oil', 'yellow onion', 'garlic', 'groun...  \n",
       "2   ['extra firm', 'almond flour', 'nutritional ye...  \n",
       "3   ['olive oil', 'boneless beef chuck', 'onion', ...  \n",
       "15  ['tortilla', 'egg whites', 'ground turkey', 'r...  \n",
       "16  ['potatoes', 'garlic', 'thyme', 'Kosher salt',...  "
      ]
     },
     "execution_count": 54,
     "metadata": {},
     "output_type": "execute_result"
    }
   ],
   "source": [
    "dish_ds_filtered.head()"
   ]
  },
  {
   "cell_type": "code",
   "execution_count": 55,
   "metadata": {},
   "outputs": [],
   "source": [
    "def filter_directions_format(row):\n",
    "    try:\n",
    "        directions = ast.literal_eval(row['directions'])\n",
    "        return isinstance(directions, list) and len(directions) > 0\n",
    "    except:\n",
    "        return False"
   ]
  },
  {
   "cell_type": "code",
   "execution_count": 56,
   "metadata": {},
   "outputs": [],
   "source": [
    "mask = dish_ds_filtered.apply(filter_directions_format, axis=1)"
   ]
  },
  {
   "cell_type": "code",
   "execution_count": 57,
   "metadata": {},
   "outputs": [
    {
     "data": {
      "text/plain": [
       "True     687029\n",
       "False     76690\n",
       "Name: count, dtype: int64"
      ]
     },
     "execution_count": 57,
     "metadata": {},
     "output_type": "execute_result"
    }
   ],
   "source": [
    "mask.value_counts()"
   ]
  },
  {
   "cell_type": "code",
   "execution_count": 58,
   "metadata": {},
   "outputs": [],
   "source": [
    "dish_ds_filtered = dish_ds_filtered[mask]"
   ]
  },
  {
   "cell_type": "code",
   "execution_count": 59,
   "metadata": {},
   "outputs": [],
   "source": [
    "pd.options.display.max_rows = 4000\n",
    "pd.options.display.max_seq_items = 2000"
   ]
  },
  {
   "cell_type": "code",
   "execution_count": 60,
   "metadata": {},
   "outputs": [],
   "source": [
    "def transform_list_to_string(row):\n",
    "    return ';'.join(ast.literal_eval(row['ingredients']))\n",
    "\n",
    "def transform_list_directions_to_string(row):\n",
    "    return ';'.join(ast.literal_eval(row['directions']))"
   ]
  },
  {
   "cell_type": "code",
   "execution_count": 61,
   "metadata": {},
   "outputs": [],
   "source": [
    "dish_ds_filtered['ingredients'] = dish_ds_filtered.apply(transform_list_to_string, axis=1)\n",
    "dish_ds_filtered['directions'] = dish_ds_filtered.apply(transform_list_directions_to_string, axis=1)"
   ]
  },
  {
   "cell_type": "code",
   "execution_count": 62,
   "metadata": {},
   "outputs": [
    {
     "data": {
      "text/html": [
       "<div>\n",
       "<style scoped>\n",
       "    .dataframe tbody tr th:only-of-type {\n",
       "        vertical-align: middle;\n",
       "    }\n",
       "\n",
       "    .dataframe tbody tr th {\n",
       "        vertical-align: top;\n",
       "    }\n",
       "\n",
       "    .dataframe thead th {\n",
       "        text-align: right;\n",
       "    }\n",
       "</style>\n",
       "<table border=\"1\" class=\"dataframe\">\n",
       "  <thead>\n",
       "    <tr style=\"text-align: right;\">\n",
       "      <th></th>\n",
       "      <th>title</th>\n",
       "      <th>genre</th>\n",
       "      <th>label</th>\n",
       "      <th>directions</th>\n",
       "      <th>ingredients</th>\n",
       "    </tr>\n",
       "  </thead>\n",
       "  <tbody>\n",
       "    <tr>\n",
       "      <th>1</th>\n",
       "      <td>\\t Black Bean And Turkey Chili</td>\n",
       "      <td>sides</td>\n",
       "      <td>8</td>\n",
       "      <td>Dice the onion and mince the garlic. Add the o...</td>\n",
       "      <td>olive oil;yellow onion;garlic;ground turkey;bl...</td>\n",
       "    </tr>\n",
       "    <tr>\n",
       "      <th>2</th>\n",
       "      <td>\\t Finger Lickin' Tofu Nuggets</td>\n",
       "      <td>nonveg</td>\n",
       "      <td>3</td>\n",
       "      <td>Wrap the tofu in a clean tea towel and press t...</td>\n",
       "      <td>extra firm;almond flour;nutritional yeast;garl...</td>\n",
       "    </tr>\n",
       "    <tr>\n",
       "      <th>3</th>\n",
       "      <td>\\t Jerk Beef Stew With Carrots And Tomatoes</td>\n",
       "      <td>vegetables</td>\n",
       "      <td>4</td>\n",
       "      <td>Preheat oven to 350 degrees F.;Heat the olive ...</td>\n",
       "      <td>olive oil;boneless beef chuck;onion;Progresso;...</td>\n",
       "    </tr>\n",
       "    <tr>\n",
       "      <th>15</th>\n",
       "      <td>Sparkrecipes Is Powered By Sparkpeople.Com T...</td>\n",
       "      <td>cereal</td>\n",
       "      <td>6</td>\n",
       "      <td>Portion the turkey as soon as you get home fro...</td>\n",
       "      <td>tortilla;egg whites;ground turkey;red bell pep...</td>\n",
       "    </tr>\n",
       "    <tr>\n",
       "      <th>16</th>\n",
       "      <td>(Cheesy Mashed Potatoes) Recipe</td>\n",
       "      <td>vegetables</td>\n",
       "      <td>4</td>\n",
       "      <td>In a large saucepan, cover potatoes and 1 whol...</td>\n",
       "      <td>potatoes;garlic;thyme;Kosher salt;butter;heavy...</td>\n",
       "    </tr>\n",
       "  </tbody>\n",
       "</table>\n",
       "</div>"
      ],
      "text/plain": [
       "                                                title       genre  label  \\\n",
       "1                      \\t Black Bean And Turkey Chili       sides      8   \n",
       "2                      \\t Finger Lickin' Tofu Nuggets      nonveg      3   \n",
       "3         \\t Jerk Beef Stew With Carrots And Tomatoes  vegetables      4   \n",
       "15    Sparkrecipes Is Powered By Sparkpeople.Com T...      cereal      6   \n",
       "16                    (Cheesy Mashed Potatoes) Recipe  vegetables      4   \n",
       "\n",
       "                                           directions  \\\n",
       "1   Dice the onion and mince the garlic. Add the o...   \n",
       "2   Wrap the tofu in a clean tea towel and press t...   \n",
       "3   Preheat oven to 350 degrees F.;Heat the olive ...   \n",
       "15  Portion the turkey as soon as you get home fro...   \n",
       "16  In a large saucepan, cover potatoes and 1 whol...   \n",
       "\n",
       "                                          ingredients  \n",
       "1   olive oil;yellow onion;garlic;ground turkey;bl...  \n",
       "2   extra firm;almond flour;nutritional yeast;garl...  \n",
       "3   olive oil;boneless beef chuck;onion;Progresso;...  \n",
       "15  tortilla;egg whites;ground turkey;red bell pep...  \n",
       "16  potatoes;garlic;thyme;Kosher salt;butter;heavy...  "
      ]
     },
     "execution_count": 62,
     "metadata": {},
     "output_type": "execute_result"
    }
   ],
   "source": [
    "dish_ds_filtered = dish_ds_filtered[dish_ds_filtered['genre'] != 'drinks']\n",
    "dish_ds_filtered.head()"
   ]
  },
  {
   "cell_type": "code",
   "execution_count": 63,
   "metadata": {},
   "outputs": [
    {
     "data": {
      "text/plain": [
       "array(['sides', 'nonveg', 'vegetables', 'cereal', 'fusion', 'fastfood',\n",
       "       'bakery', 'meal'], dtype=object)"
      ]
     },
     "execution_count": 63,
     "metadata": {},
     "output_type": "execute_result"
    }
   ],
   "source": [
    "genres = dish_ds_filtered['genre'].unique()\n",
    "def sample_genre(genre_df):\n",
    "    return genre_df.sample(n=1000, random_state=9)\n",
    "genres"
   ]
  },
  {
   "cell_type": "code",
   "execution_count": 64,
   "metadata": {},
   "outputs": [
    {
     "name": "stderr",
     "output_type": "stream",
     "text": [
      "/tmp/ipykernel_201536/3602890211.py:2: DeprecationWarning: DataFrameGroupBy.apply operated on the grouping columns. This behavior is deprecated, and in a future version of pandas the grouping columns will be excluded from the operation. Either pass `include_groups=False` to exclude the groupings or explicitly select the grouping columns after groupby to silence this warning.\n",
      "  dish_ds_filtered_sampled = dish_ds_filtered.groupby('genre').apply(sample_genre).reset_index(drop=True)\n"
     ]
    },
    {
     "data": {
      "text/html": [
       "<div>\n",
       "<style scoped>\n",
       "    .dataframe tbody tr th:only-of-type {\n",
       "        vertical-align: middle;\n",
       "    }\n",
       "\n",
       "    .dataframe tbody tr th {\n",
       "        vertical-align: top;\n",
       "    }\n",
       "\n",
       "    .dataframe thead th {\n",
       "        text-align: right;\n",
       "    }\n",
       "</style>\n",
       "<table border=\"1\" class=\"dataframe\">\n",
       "  <thead>\n",
       "    <tr style=\"text-align: right;\">\n",
       "      <th></th>\n",
       "      <th>title</th>\n",
       "      <th>genre</th>\n",
       "      <th>label</th>\n",
       "      <th>directions</th>\n",
       "      <th>ingredients</th>\n",
       "    </tr>\n",
       "  </thead>\n",
       "  <tbody>\n",
       "    <tr>\n",
       "      <th>0</th>\n",
       "      <td>Hoppin' John - Cajun Style</td>\n",
       "      <td>bakery</td>\n",
       "      <td>1</td>\n",
       "      <td>Fry bacon, drain on paper toweling; crumble an...</td>\n",
       "      <td>bacon;rice;water;tomato juice;tomatoes;onion;s...</td>\n",
       "    </tr>\n",
       "    <tr>\n",
       "      <th>1</th>\n",
       "      <td>12 Minute Fowl</td>\n",
       "      <td>bakery</td>\n",
       "      <td>1</td>\n",
       "      <td>Heat a cast- iron skillet until very hot (smok...</td>\n",
       "      <td>chicken breasts;onion;olive oil;seasoning;pepp...</td>\n",
       "    </tr>\n",
       "    <tr>\n",
       "      <th>2</th>\n",
       "      <td>Wheatberries with Fragrant Spices, Currants &amp; ...</td>\n",
       "      <td>bakery</td>\n",
       "      <td>1</td>\n",
       "      <td>Drain the wheatberries.;In a small saucepan, b...</td>\n",
       "      <td>wheatberries;kosher salt;olive oil;onion;scall...</td>\n",
       "    </tr>\n",
       "    <tr>\n",
       "      <th>3</th>\n",
       "      <td>Gamberoni and Pine Nuts</td>\n",
       "      <td>bakery</td>\n",
       "      <td>1</td>\n",
       "      <td>Preheat oven to 350 degrees.;Wash spinach and ...</td>\n",
       "      <td>jumbo shrimp;mushrooms;nuts;fresh spinach leav...</td>\n",
       "    </tr>\n",
       "    <tr>\n",
       "      <th>4</th>\n",
       "      <td>Pumpkin Nut Muffins</td>\n",
       "      <td>bakery</td>\n",
       "      <td>1</td>\n",
       "      <td>Preheat oven to 350°.;Stir together flour, bak...</td>\n",
       "      <td>flour;baking soda;baking powder;cinnamon;nutme...</td>\n",
       "    </tr>\n",
       "  </tbody>\n",
       "</table>\n",
       "</div>"
      ],
      "text/plain": [
       "                                               title   genre  label  \\\n",
       "0                         Hoppin' John - Cajun Style  bakery      1   \n",
       "1                                     12 Minute Fowl  bakery      1   \n",
       "2  Wheatberries with Fragrant Spices, Currants & ...  bakery      1   \n",
       "3                            Gamberoni and Pine Nuts  bakery      1   \n",
       "4                                Pumpkin Nut Muffins  bakery      1   \n",
       "\n",
       "                                          directions  \\\n",
       "0  Fry bacon, drain on paper toweling; crumble an...   \n",
       "1  Heat a cast- iron skillet until very hot (smok...   \n",
       "2  Drain the wheatberries.;In a small saucepan, b...   \n",
       "3  Preheat oven to 350 degrees.;Wash spinach and ...   \n",
       "4  Preheat oven to 350°.;Stir together flour, bak...   \n",
       "\n",
       "                                         ingredients  \n",
       "0  bacon;rice;water;tomato juice;tomatoes;onion;s...  \n",
       "1  chicken breasts;onion;olive oil;seasoning;pepp...  \n",
       "2  wheatberries;kosher salt;olive oil;onion;scall...  \n",
       "3  jumbo shrimp;mushrooms;nuts;fresh spinach leav...  \n",
       "4  flour;baking soda;baking powder;cinnamon;nutme...  "
      ]
     },
     "execution_count": 64,
     "metadata": {},
     "output_type": "execute_result"
    }
   ],
   "source": [
    "# Take 1000 of each genre and put it into a new df\n",
    "dish_ds_filtered_sampled = dish_ds_filtered.groupby('genre').apply(sample_genre).reset_index(drop=True)\n",
    "dish_ds_filtered_sampled.head()"
   ]
  },
  {
   "cell_type": "code",
   "execution_count": 65,
   "metadata": {},
   "outputs": [
    {
     "data": {
      "text/plain": [
       "genre\n",
       "bakery        1000\n",
       "cereal        1000\n",
       "fastfood      1000\n",
       "fusion        1000\n",
       "meal          1000\n",
       "nonveg        1000\n",
       "sides         1000\n",
       "vegetables    1000\n",
       "Name: count, dtype: int64"
      ]
     },
     "execution_count": 65,
     "metadata": {},
     "output_type": "execute_result"
    }
   ],
   "source": [
    "dish_ds_filtered_sampled['genre'].value_counts()"
   ]
  },
  {
   "cell_type": "code",
   "execution_count": 66,
   "metadata": {},
   "outputs": [],
   "source": [
    "def add_image_to_df(row):\n",
    "    genre_to_url_map = {\n",
    "        \"bakery\" : [\n",
    "            \"https://images.pexels.com/photos/128865/pexels-photo-128865.jpeg?auto=compress&cs=tinysrgb&w=600\",\n",
    "            \"https://images.pexels.com/photos/9228619/pexels-photo-9228619.jpeg?auto=compress&cs=tinysrgb&w=600\",\n",
    "            \"https://images.pexels.com/photos/2837005/pexels-photo-2837005.jpeg?auto=compress&cs=tinysrgb&w=600\",\n",
    "            \"https://images.pexels.com/photos/1495534/pexels-photo-1495534.jpeg?auto=compress&cs=tinysrgb&w=600\",\n",
    "            \"https://images.pexels.com/photos/8108119/pexels-photo-8108119.jpeg?auto=compress&cs=tinysrgb&w=600\",\n",
    "            ],\n",
    "        \"cereal\" : [\n",
    "            \"https://images.pexels.com/photos/128865/pexels-photo-128865.jpeg?auto=compress&cs=tinysrgb&w=600\",\n",
    "            \"https://images.pexels.com/photos/9228619/pexels-photo-9228619.jpeg?auto=compress&cs=tinysrgb&w=600\",\n",
    "            \"https://images.pexels.com/photos/2837005/pexels-photo-2837005.jpeg?auto=compress&cs=tinysrgb&w=600\",\n",
    "            \"https://images.pexels.com/photos/1495534/pexels-photo-1495534.jpeg?auto=compress&cs=tinysrgb&w=600\",\n",
    "            \"https://images.pexels.com/photos/8108119/pexels-photo-8108119.jpeg?auto=compress&cs=tinysrgb&w=600\", \n",
    "            ],\n",
    "        \"drinks\" : [\n",
    "            \"https://images.pexels.com/photos/338713/pexels-photo-338713.jpeg?auto=compress&cs=tinysrgb&w=600\",\n",
    "            \"https://images.pexels.com/photos/1200348/pexels-photo-1200348.jpeg?auto=compress&cs=tinysrgb&w=600\",\n",
    "            \"https://images.pexels.com/photos/1089930/pexels-photo-1089930.jpeg?auto=compress&cs=tinysrgb&w=1260&h=750&dpr=1\",\n",
    "            \"https://images.pexels.com/photos/312418/pexels-photo-312418.jpeg?auto=compress&cs=tinysrgb&w=1260&h=750&dpr=1\",\n",
    "            \"https://images.pexels.com/photos/230490/pexels-photo-230490.jpeg?auto=compress&cs=tinysrgb&w=600\", \n",
    "            ],\n",
    "        \"fastfood\" : [\n",
    "            \"https://images.pexels.com/photos/70497/pexels-photo-70497.jpeg?auto=compress&cs=tinysrgb&w=1260&h=750&dpr=2\",\n",
    "            \"https://images.pexels.com/photos/1199957/pexels-photo-1199957.jpeg?auto=compress&cs=tinysrgb&w=1260&h=750&dpr=2\",\n",
    "            \"https://images.pexels.com/photos/1123249/pexels-photo-1123249.jpeg?auto=compress&cs=tinysrgb&w=1260&h=750&dpr=2\",\n",
    "            \"https://images.pexels.com/photos/315755/pexels-photo-315755.jpeg?auto=compress&cs=tinysrgb&w=1260&h=750&dpr=2\",\n",
    "            \"https://images.pexels.com/photos/6697273/pexels-photo-6697273.jpeg?auto=compress&cs=tinysrgb&w=1260&h=750&dpr=2\" \n",
    "\n",
    "            ],\n",
    "        \"fusion\" : [\n",
    "            \"https://images.pexels.com/photos/12706240/pexels-photo-12706240.jpeg?auto=compress&cs=tinysrgb&w=1260&h=750&dpr=2\",\n",
    "            \"https://images.pexels.com/photos/4110430/pexels-photo-4110430.jpeg?auto=compress&cs=tinysrgb&w=1260&h=750&dpr=2\",\n",
    "            \"https://images.pexels.com/photos/2792186/pexels-photo-2792186.jpeg?auto=compress&cs=tinysrgb&w=1260&h=750&dpr=2\",\n",
    "            \"https://images.pexels.com/photos/25524075/pexels-photo-25524075/free-photo-of-dessert-with-fruits.jpeg?auto=compress&cs=tinysrgb&w=1260&h=750&dpr=2\",\n",
    "            \"https://images.pexels.com/photos/20571445/pexels-photo-20571445/free-photo-of-bowl-of-food.jpeg?auto=compress&cs=tinysrgb&w=800\",\n",
    "            ],\n",
    "        \"meal\" : [\n",
    "            \"https://images.pexels.com/photos/8827916/pexels-photo-8827916.jpeg?auto=compress&cs=tinysrgb&w=800\",\n",
    "            \"https://images.pexels.com/photos/8954526/pexels-photo-8954526.jpeg?auto=compress&cs=tinysrgb&w=800\",\n",
    "            \"https://images.pexels.com/photos/6170473/pexels-photo-6170473.jpeg?auto=compress&cs=tinysrgb&w=1260&h=750&dpr=2\",\n",
    "            \"https://images.pexels.com/photos/6064810/pexels-photo-6064810.jpeg?auto=compress&cs=tinysrgb&w=1260&h=750&dpr=2\",\n",
    "            \"https://images.pexels.com/photos/15832878/pexels-photo-15832878/free-photo-of-mixed-salad-on-a-tray.jpeg?auto=compress&cs=tinysrgb&w=1260&h=750&dpr=2\" \n",
    "            ],\n",
    "        \"nonveg\" : [\n",
    "            \"https://images.pexels.com/photos/20644799/pexels-photo-20644799/free-photo-of-choice-of-meat-snacks.jpeg?auto=compress&cs=tinysrgb&w=600\",\n",
    "            \"https://images.pexels.com/photos/1482803/pexels-photo-1482803.jpeg?auto=compress&cs=tinysrgb&w=600\",\n",
    "            \"https://images.pexels.com/photos/1251208/pexels-photo-1251208.jpeg?auto=compress&cs=tinysrgb&w=600\",\n",
    "            \"https://images.pexels.com/photos/588776/pexels-photo-588776.jpeg?auto=compress&cs=tinysrgb&w=600\",\n",
    "            \"https://images.pexels.com/photos/410648/pexels-photo-410648.jpeg?auto=compress&cs=tinysrgb&w=600\", \n",
    "            ],\n",
    "        \"sides\" : [\n",
    "            \"https://images.pexels.com/photos/10520474/pexels-photo-10520474.jpeg?auto=compress&cs=tinysrgb&w=600\",\n",
    "            \"https://images.pexels.com/photos/6740528/pexels-photo-6740528.jpeg?auto=compress&cs=tinysrgb&w=600\",\n",
    "            \"https://images.pexels.com/photos/10420372/pexels-photo-10420372.jpeg?auto=compress&cs=tinysrgb&w=600\",\n",
    "            \"https://images.pexels.com/photos/1893555/pexels-photo-1893555.jpeg?auto=compress&cs=tinysrgb&w=600\",\n",
    "            \"https://images.pexels.com/photos/5840089/pexels-photo-5840089.jpeg?auto=compress&cs=tinysrgb&w=600\",\n",
    "            ],\n",
    "        \"vegetables\" : [\n",
    "            \"https://images.pexels.com/photos/20640320/pexels-photo-20640320/free-photo-of-tomatoes-on-a-food-market.jpeg?auto=compress&cs=tinysrgb&w=600\",\n",
    "            \"https://images.pexels.com/photos/842571/pexels-photo-842571.jpeg?auto=compress&cs=tinysrgb&w=600\",\n",
    "            \"https://images.pexels.com/photos/3872373/pexels-photo-3872373.jpeg?auto=compress&cs=tinysrgb&w=60\", \n",
    "            \"https://images.pexels.com/photos/2862154/pexels-photo-2862154.jpeg?auto=compress&cs=tinysrgb&w=600\", \n",
    "            \"https://images.pexels.com/photos/3026808/pexels-photo-3026808.jpeg?auto=compress&cs=tinysrgb&w=600\",\n",
    "            ],\n",
    "    }\n",
    "    genre_urls = genre_to_url_map.get(row['genre'], [])\n",
    "    if genre_urls:\n",
    "        link = random.choice(genre_urls)\n",
    "    else:\n",
    "        link = None\n",
    "    return link"
   ]
  },
  {
   "cell_type": "code",
   "execution_count": 67,
   "metadata": {},
   "outputs": [],
   "source": [
    "dish_ds_filtered_sampled['image_url'] = dish_ds_filtered_sampled.apply(add_image_to_df, axis=1)"
   ]
  },
  {
   "cell_type": "code",
   "execution_count": 68,
   "metadata": {},
   "outputs": [],
   "source": [
    "dish_ds_filtered_sampled.to_csv('3A2M_EXTENDED_FILTERED_SAMPLED.csv', index=False)\n",
    "dish_ds_filtered_sampled.to_json('3A2M_EXTENDED_FILTERED_SAMPLED.json', orient='records')"
   ]
  }
 ],
 "metadata": {
  "kernelspec": {
   "display_name": "Python 3 (ipykernel)",
   "language": "python",
   "name": "python3"
  },
  "language_info": {
   "codemirror_mode": {
    "name": "ipython",
    "version": 3
   },
   "file_extension": ".py",
   "mimetype": "text/x-python",
   "name": "python",
   "nbconvert_exporter": "python",
   "pygments_lexer": "ipython3",
   "version": "3.10.12"
  }
 },
 "nbformat": 4,
 "nbformat_minor": 2
}
