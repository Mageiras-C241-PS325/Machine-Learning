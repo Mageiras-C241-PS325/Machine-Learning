{
 "cells": [
  {
   "cell_type": "code",
   "execution_count": 77,
   "metadata": {},
   "outputs": [],
   "source": [
    "import tensorflow as tf\n",
    "import pandas as pd\n",
    "import numpy as np\n",
    "import matplotlib.pyplot as plt\n",
    "import keras_cv\n",
    "import os"
   ]
  },
  {
   "cell_type": "markdown",
   "metadata": {},
   "source": [
    "## Data Pipeline"
   ]
  },
  {
   "cell_type": "code",
   "execution_count": 78,
   "metadata": {},
   "outputs": [
    {
     "name": "stdout",
     "output_type": "stream",
     "text": [
      "True\n"
     ]
    }
   ],
   "source": [
    "dataset_location = './Food ingredient recognition.v4i.tfrecord'\n",
    "tfrecord_name = \"food-ingredient.tfrecord\"\n",
    "print(os.path.exists(dataset_location))"
   ]
  },
  {
   "cell_type": "code",
   "execution_count": 79,
   "metadata": {},
   "outputs": [],
   "source": [
    "dataset_train = tf.data.TFRecordDataset(dataset_location + f\"/train/{tfrecord_name}\")"
   ]
  },
  {
   "cell_type": "code",
   "execution_count": 80,
   "metadata": {},
   "outputs": [],
   "source": [
    "feature_description = {\n",
    "    'image/object/bbox/ymin' : tf.io.VarLenFeature(tf.float32),\n",
    "    'image/object/bbox/xmin' : tf.io.VarLenFeature(tf.float32),\n",
    "    'image/object/bbox/ymax' : tf.io.VarLenFeature(tf.float32),\n",
    "    'image/object/bbox/xmax' : tf.io.VarLenFeature(tf.float32),\n",
    "    'image/object/class/text' : tf.io.VarLenFeature(tf.string),\n",
    "    'image/object/class/label' : tf.io.VarLenFeature(tf.int64),\n",
    "    'image/encoded' : tf.io.FixedLenFeature([], tf.string),\n",
    "    'image/format' : tf.io.FixedLenFeature([], tf.string),\n",
    "    'image/filename' : tf.io.FixedLenFeature([], tf.string),\n",
    "    'image/height' : tf.io.FixedLenFeature([], tf.int64),\n",
    "    'image/width' : tf.io.FixedLenFeature([], tf.int64)\n",
    "}\n",
    "def _parse_function(example_proto):\n",
    "    parsed_example = tf.io.parse_single_example(example_proto, feature_description)\n",
    "    for key in ['image/object/bbox/ymin', 'image/object/bbox/xmin', 'image/object/bbox/ymax', 'image/object/bbox/xmax', 'image/object/class/text', 'image/object/class/label']:\n",
    "        parsed_example[key] = tf.sparse.to_dense(parsed_example[key])\n",
    "    return parsed_example"
   ]
  },
  {
   "cell_type": "code",
   "execution_count": 81,
   "metadata": {},
   "outputs": [],
   "source": [
    "from keras_cv import bounding_box\n",
    "from keras_cv import visualization\n",
    "\n",
    "class_ids = [\n",
    "    \"-\",\n",
    "    \"almond\",\n",
    "    \"apple\",\n",
    "    \"avocado\",\n",
    "    \"beef\",\n",
    "    \"bell pepper\",\n",
    "    \"blueberry\",\n",
    "    \"bread\",\n",
    "    \"broccoli\",\n",
    "    \"butter\",\n",
    "    \"carrot\",\n",
    "    \"cheese\",\n",
    "    \"chilli\",\n",
    "    \"cookie\",\n",
    "    \"corn\",\n",
    "    \"cucumber\",\n",
    "    \"egg\",\n",
    "    \"eggplant\",\n",
    "    \"garlic\",\n",
    "    \"lemon\",\n",
    "    \"milk\",\n",
    "    \"mozarella cheese\",\n",
    "    \"mushroom\",\n",
    "    \"mussel\",\n",
    "    \"onion\",\n",
    "    \"oyster\",\n",
    "    \"parmesan cheese\",\n",
    "    \"pasta\",\n",
    "    \"pork rib\",\n",
    "    \"potato\",\n",
    "    \"salmon\",\n",
    "    \"scallop\",\n",
    "    \"shrimp\",\n",
    "    \"strawberry\",\n",
    "    \"toast bread\",\n",
    "    \"tomato\",\n",
    "    \"tuna\",\n",
    "    \"yogurt\",\n",
    "]\n",
    "class_mapping = dict(zip(range(len(class_ids)), class_ids))\n",
    "\n",
    "def preprocess_dataset(parsed_dataset):\n",
    "    image = tf.image.decode_jpeg(parsed_dataset['image/encoded'])\n",
    "    label = parsed_dataset['image/object/class/label']\n",
    "    bounding_box = tf.stack([\n",
    "        parsed_dataset['image/object/bbox/xmin'],\n",
    "        parsed_dataset['image/object/bbox/ymin'],\n",
    "        parsed_dataset['image/object/bbox/xmax'],\n",
    "        parsed_dataset['image/object/bbox/ymax']\n",
    "    ], axis=-1)\n",
    "    image = tf.cast(image, tf.float32)\n",
    "    return {\n",
    "        'images': image,\n",
    "        'bounding_boxes' : {\n",
    "            'boxes': tf.cast(bounding_box, tf.float32),\n",
    "            'classes': tf.cast(label, tf.int32)\n",
    "        }\n",
    "    }\n",
    "\n",
    "def visualize_data(image, bounding_boxes):\n",
    "    image = np.array(image)\n",
    "    inference_resizing = keras_cv.layers.Resizing(\n",
    "    640, 640, pad_to_aspect_ratio=True, bounding_box_format=\"xywh\"\n",
    "    )\n",
    "    image = inference_resizing([image])\n",
    "    visualization.plot_bounding_box_gallery(\n",
    "        image,\n",
    "        value_range=(0, 255),\n",
    "        rows=1,\n",
    "        cols=1,\n",
    "        scale=5,\n",
    "        bounding_box_format='xywh',\n",
    "        y_pred=bounding_boxes\n",
    "    )"
   ]
  },
  {
   "cell_type": "code",
   "execution_count": 98,
   "metadata": {},
   "outputs": [
    {
     "name": "stdout",
     "output_type": "stream",
     "text": [
      "<_PrefetchDataset element_spec=(TensorSpec(shape=(4, None, None, None), dtype=tf.float32, name=None), {'boxes': TensorSpec(shape=(4, 32, 4), dtype=tf.float32, name=None), 'classes': TensorSpec(shape=(4, 32), dtype=tf.int32, name=None)})>\n"
     ]
    }
   ],
   "source": [
    "from keras_cv import bounding_box\n",
    "\n",
    "train_data = dataset_train.map(_parse_function).map(preprocess_dataset).shuffle(buffer_size=10_000).ragged_batch(4, drop_remainder=True)\n",
    "train_data = train_data.prefetch(tf.data.AUTOTUNE)\n",
    "\n",
    "def dict_to_tuple(inputs):\n",
    "    return tf.RaggedTensor.to_tensor(inputs[\"images\"]), bounding_box.to_dense(inputs[\"bounding_boxes\"], max_boxes=32)\n",
    "\n",
    "train_data = train_data.map(dict_to_tuple, num_parallel_calls=tf.data.AUTOTUNE)\n",
    "train_data = train_data.prefetch(tf.data.AUTOTUNE)\n",
    "\n",
    "print(train_data)\n"
   ]
  },
  {
   "cell_type": "code",
   "execution_count": 83,
   "metadata": {},
   "outputs": [],
   "source": [
    "# import keras\n",
    "\n",
    "# pretrained_model = keras_cv.models.YOLOV8Detector.from_preset(\n",
    "#     \"yolo_v8_m_pascalvoc\", bounding_box_format=\"xywh\"\n",
    "# )\n",
    "# image = keras.utils.load_img(\"stock-photo-airport-with-many-airplanes-at-beautiful-sunset-324754607.jpg\")\n",
    "# image = np.array(image)\n",
    "# # print(image.shape)\n",
    "\n",
    "# visualization.plot_image_gallery(\n",
    "#     np.array([image]),\n",
    "#     value_range=(0, 255),\n",
    "#     rows=1,\n",
    "#     cols=1,\n",
    "#     scale=5,)\n",
    "# inference_resizing = keras_cv.layers.Resizing(\n",
    "#     640, 640, pad_to_aspect_ratio=True, bounding_box_format=\"xywh\"\n",
    "# )\n",
    "# image_batch = inference_resizing([image])\n",
    "# # print(image_batch)\n",
    "# class_ids = [\n",
    "#     \"Aeroplane\",\n",
    "#     \"Bicycle\",\n",
    "#     \"Bird\",\n",
    "#     \"Boat\",\n",
    "#     \"Bottle\",\n",
    "#     \"Bus\",\n",
    "#     \"Car\",\n",
    "#     \"Cat\",\n",
    "#     \"Chair\",\n",
    "#     \"Cow\",\n",
    "#     \"Dining Table\",\n",
    "#     \"Dog\",\n",
    "#     \"Horse\",\n",
    "#     \"Motorbike\",\n",
    "#     \"Person\",\n",
    "#     \"Potted Plant\",\n",
    "#     \"Sheep\",\n",
    "#     \"Sofa\",\n",
    "#     \"Train\",\n",
    "#     \"Tvmonitor\",\n",
    "#     \"Total\",\n",
    "# ]\n",
    "# # class_mapping = dict(zip(range(len(class_ids)), class_ids))\n",
    "# # y_pred = pretrained_model.predict(image_batch)\n",
    "\n",
    "# # print(y_pred)\n",
    "\n",
    "# for sample in train_data_unbatched.take(1):\n",
    "#     image = np.array(sample['images'])\n",
    "#     inference_resizing = keras_cv.layers.Resizing(\n",
    "#     640, 640, pad_to_aspect_ratio=True, bounding_box_format=\"xyxy\"\n",
    "#     )\n",
    "#     image = inference_resizing([image])\n",
    "#     y_pred = pretrained_model.predict(image)\n",
    "#     print(y_pred)\n",
    "#     visualization.plot_bounding_box_gallery(\n",
    "#         image,\n",
    "#         value_range=(0, 255),\n",
    "#         rows=1,\n",
    "#         cols=1,\n",
    "#         y_pred=y_pred,\n",
    "#         scale=5,\n",
    "#         font_scale=0.7,\n",
    "#         bounding_box_format=\"xyxy\",\n",
    "#         class_mapping=class_mapping,\n",
    "#     )\n"
   ]
  },
  {
   "cell_type": "code",
   "execution_count": 99,
   "metadata": {},
   "outputs": [],
   "source": [
    "# Get the number of classes in the dataset\n",
    "# unique_classes = set()\n",
    "# for parsed_dataset in train_data:\n",
    "#     classes = parsed_dataset['bounding_boxes']['classes'].numpy()\n",
    "#     unique_classes.update(np.unique(classes))\n",
    "\n",
    "# NUM_CLASSES = len(unique_classes)\n",
    "NUM_CLASSES = len(class_ids)"
   ]
  },
  {
   "cell_type": "code",
   "execution_count": 100,
   "metadata": {},
   "outputs": [],
   "source": [
    "# Pretrained backbone\n",
    "backbone = keras_cv.models.YOLOV8Backbone.from_preset(\n",
    "    \"yolo_v8_s_backbone_coco\",\n",
    "    include_rescaling = True,\n",
    ")\n",
    "\n",
    "model = keras_cv.models.YOLOV8Detector(\n",
    "    num_classes=NUM_CLASSES,\n",
    "    bounding_box_format=\"xyxy\",\n",
    "    backbone=backbone,\n",
    "    fpn_depth=1,\n",
    ")"
   ]
  },
  {
   "cell_type": "code",
   "execution_count": 101,
   "metadata": {},
   "outputs": [],
   "source": [
    "freeze = 133\n",
    "# Freeze to up to 133 layers\n",
    "for i, layer in enumerate(model.layers):\n",
    "    if i < freeze:\n",
    "        layer.trainable = False\n"
   ]
  },
  {
   "cell_type": "code",
   "execution_count": 102,
   "metadata": {},
   "outputs": [
    {
     "name": "stdout",
     "output_type": "stream",
     "text": [
      "Epoch 1/10\n"
     ]
    },
    {
     "ename": "InvalidArgumentError",
     "evalue": "Graph execution error:\n\nDetected at node gradient_tape/sub/BroadcastGradientArgs defined at (most recent call last):\n  File \"C:\\Users\\Yeast\\AppData\\Local\\Programs\\Python\\Python39\\lib\\runpy.py\", line 197, in _run_module_as_main\n\n  File \"C:\\Users\\Yeast\\AppData\\Local\\Programs\\Python\\Python39\\lib\\runpy.py\", line 87, in _run_code\n\n  File \"c:\\Users\\Yeast\\Desktop\\⠀\\Semester 6\\Bangkit\\Mageiras\\Machine-Learning\\env\\lib\\site-packages\\ipykernel_launcher.py\", line 18, in <module>\n\n  File \"c:\\Users\\Yeast\\Desktop\\⠀\\Semester 6\\Bangkit\\Mageiras\\Machine-Learning\\env\\lib\\site-packages\\traitlets\\config\\application.py\", line 1075, in launch_instance\n\n  File \"c:\\Users\\Yeast\\Desktop\\⠀\\Semester 6\\Bangkit\\Mageiras\\Machine-Learning\\env\\lib\\site-packages\\ipykernel\\kernelapp.py\", line 739, in start\n\n  File \"c:\\Users\\Yeast\\Desktop\\⠀\\Semester 6\\Bangkit\\Mageiras\\Machine-Learning\\env\\lib\\site-packages\\tornado\\platform\\asyncio.py\", line 205, in start\n\n  File \"C:\\Users\\Yeast\\AppData\\Local\\Programs\\Python\\Python39\\lib\\asyncio\\base_events.py\", line 601, in run_forever\n\n  File \"C:\\Users\\Yeast\\AppData\\Local\\Programs\\Python\\Python39\\lib\\asyncio\\base_events.py\", line 1905, in _run_once\n\n  File \"C:\\Users\\Yeast\\AppData\\Local\\Programs\\Python\\Python39\\lib\\asyncio\\events.py\", line 80, in _run\n\n  File \"c:\\Users\\Yeast\\Desktop\\⠀\\Semester 6\\Bangkit\\Mageiras\\Machine-Learning\\env\\lib\\site-packages\\ipykernel\\kernelbase.py\", line 545, in dispatch_queue\n\n  File \"c:\\Users\\Yeast\\Desktop\\⠀\\Semester 6\\Bangkit\\Mageiras\\Machine-Learning\\env\\lib\\site-packages\\ipykernel\\kernelbase.py\", line 534, in process_one\n\n  File \"c:\\Users\\Yeast\\Desktop\\⠀\\Semester 6\\Bangkit\\Mageiras\\Machine-Learning\\env\\lib\\site-packages\\ipykernel\\kernelbase.py\", line 437, in dispatch_shell\n\n  File \"c:\\Users\\Yeast\\Desktop\\⠀\\Semester 6\\Bangkit\\Mageiras\\Machine-Learning\\env\\lib\\site-packages\\ipykernel\\ipkernel.py\", line 362, in execute_request\n\n  File \"c:\\Users\\Yeast\\Desktop\\⠀\\Semester 6\\Bangkit\\Mageiras\\Machine-Learning\\env\\lib\\site-packages\\ipykernel\\kernelbase.py\", line 778, in execute_request\n\n  File \"c:\\Users\\Yeast\\Desktop\\⠀\\Semester 6\\Bangkit\\Mageiras\\Machine-Learning\\env\\lib\\site-packages\\ipykernel\\ipkernel.py\", line 449, in do_execute\n\n  File \"c:\\Users\\Yeast\\Desktop\\⠀\\Semester 6\\Bangkit\\Mageiras\\Machine-Learning\\env\\lib\\site-packages\\ipykernel\\zmqshell.py\", line 549, in run_cell\n\n  File \"c:\\Users\\Yeast\\Desktop\\⠀\\Semester 6\\Bangkit\\Mageiras\\Machine-Learning\\env\\lib\\site-packages\\IPython\\core\\interactiveshell.py\", line 3048, in run_cell\n\n  File \"c:\\Users\\Yeast\\Desktop\\⠀\\Semester 6\\Bangkit\\Mageiras\\Machine-Learning\\env\\lib\\site-packages\\IPython\\core\\interactiveshell.py\", line 3103, in _run_cell\n\n  File \"c:\\Users\\Yeast\\Desktop\\⠀\\Semester 6\\Bangkit\\Mageiras\\Machine-Learning\\env\\lib\\site-packages\\IPython\\core\\async_helpers.py\", line 129, in _pseudo_sync_runner\n\n  File \"c:\\Users\\Yeast\\Desktop\\⠀\\Semester 6\\Bangkit\\Mageiras\\Machine-Learning\\env\\lib\\site-packages\\IPython\\core\\interactiveshell.py\", line 3308, in run_cell_async\n\n  File \"c:\\Users\\Yeast\\Desktop\\⠀\\Semester 6\\Bangkit\\Mageiras\\Machine-Learning\\env\\lib\\site-packages\\IPython\\core\\interactiveshell.py\", line 3490, in run_ast_nodes\n\n  File \"c:\\Users\\Yeast\\Desktop\\⠀\\Semester 6\\Bangkit\\Mageiras\\Machine-Learning\\env\\lib\\site-packages\\IPython\\core\\interactiveshell.py\", line 3550, in run_code\n\n  File \"C:\\Users\\Yeast\\AppData\\Local\\Temp\\ipykernel_26216\\1847363959.py\", line 9, in <module>\n\n  File \"c:\\Users\\Yeast\\Desktop\\⠀\\Semester 6\\Bangkit\\Mageiras\\Machine-Learning\\env\\lib\\site-packages\\keras\\src\\utils\\traceback_utils.py\", line 117, in error_handler\n\n  File \"c:\\Users\\Yeast\\Desktop\\⠀\\Semester 6\\Bangkit\\Mageiras\\Machine-Learning\\env\\lib\\site-packages\\keras\\src\\backend\\tensorflow\\trainer.py\", line 314, in fit\n\n  File \"c:\\Users\\Yeast\\Desktop\\⠀\\Semester 6\\Bangkit\\Mageiras\\Machine-Learning\\env\\lib\\site-packages\\keras\\src\\backend\\tensorflow\\trainer.py\", line 117, in one_step_on_iterator\n\n  File \"c:\\Users\\Yeast\\Desktop\\⠀\\Semester 6\\Bangkit\\Mageiras\\Machine-Learning\\env\\lib\\site-packages\\keras\\src\\backend\\tensorflow\\trainer.py\", line 104, in one_step_on_data\n\n  File \"c:\\Users\\Yeast\\Desktop\\⠀\\Semester 6\\Bangkit\\Mageiras\\Machine-Learning\\env\\lib\\site-packages\\keras_cv\\src\\models\\object_detection\\yolo_v8\\yolo_v8_detector.py\", line 526, in train_step\n\n  File \"c:\\Users\\Yeast\\Desktop\\⠀\\Semester 6\\Bangkit\\Mageiras\\Machine-Learning\\env\\lib\\site-packages\\keras\\src\\backend\\tensorflow\\trainer.py\", line 66, in train_step\n\nIncompatible shapes: [0,2] vs. [4,3549,2]\n\t [[{{node gradient_tape/sub/BroadcastGradientArgs}}]] [Op:__inference_one_step_on_iterator_60030]",
     "output_type": "error",
     "traceback": [
      "\u001b[1;31m---------------------------------------------------------------------------\u001b[0m",
      "\u001b[1;31mInvalidArgumentError\u001b[0m                      Traceback (most recent call last)",
      "Cell \u001b[1;32mIn[102], line 9\u001b[0m\n\u001b[0;32m      1\u001b[0m optimizer \u001b[38;5;241m=\u001b[39m tf\u001b[38;5;241m.\u001b[39mkeras\u001b[38;5;241m.\u001b[39moptimizers\u001b[38;5;241m.\u001b[39mAdam(\n\u001b[0;32m      2\u001b[0m     learning_rate\u001b[38;5;241m=\u001b[39m\u001b[38;5;241m1e-4\u001b[39m,\n\u001b[0;32m      3\u001b[0m )\n\u001b[0;32m      5\u001b[0m model\u001b[38;5;241m.\u001b[39mcompile(\n\u001b[0;32m      6\u001b[0m     optimizer\u001b[38;5;241m=\u001b[39moptimizer, classification_loss\u001b[38;5;241m=\u001b[39m\u001b[38;5;124m\"\u001b[39m\u001b[38;5;124mbinary_crossentropy\u001b[39m\u001b[38;5;124m\"\u001b[39m, box_loss\u001b[38;5;241m=\u001b[39m\u001b[38;5;124m\"\u001b[39m\u001b[38;5;124mciou\u001b[39m\u001b[38;5;124m\"\u001b[39m\n\u001b[0;32m      7\u001b[0m )\n\u001b[1;32m----> 9\u001b[0m \u001b[43mmodel\u001b[49m\u001b[38;5;241;43m.\u001b[39;49m\u001b[43mfit\u001b[49m\u001b[43m(\u001b[49m\u001b[43mtrain_data\u001b[49m\u001b[43m,\u001b[49m\u001b[43m \u001b[49m\u001b[43mepochs\u001b[49m\u001b[38;5;241;43m=\u001b[39;49m\u001b[38;5;241;43m10\u001b[39;49m\u001b[43m)\u001b[49m\n",
      "File \u001b[1;32mc:\\Users\\Yeast\\Desktop\\⠀\\Semester 6\\Bangkit\\Mageiras\\Machine-Learning\\env\\lib\\site-packages\\keras\\src\\utils\\traceback_utils.py:122\u001b[0m, in \u001b[0;36mfilter_traceback.<locals>.error_handler\u001b[1;34m(*args, **kwargs)\u001b[0m\n\u001b[0;32m    119\u001b[0m     filtered_tb \u001b[38;5;241m=\u001b[39m _process_traceback_frames(e\u001b[38;5;241m.\u001b[39m__traceback__)\n\u001b[0;32m    120\u001b[0m     \u001b[38;5;66;03m# To get the full stack trace, call:\u001b[39;00m\n\u001b[0;32m    121\u001b[0m     \u001b[38;5;66;03m# `keras.config.disable_traceback_filtering()`\u001b[39;00m\n\u001b[1;32m--> 122\u001b[0m     \u001b[38;5;28;01mraise\u001b[39;00m e\u001b[38;5;241m.\u001b[39mwith_traceback(filtered_tb) \u001b[38;5;28;01mfrom\u001b[39;00m \u001b[38;5;28;01mNone\u001b[39;00m\n\u001b[0;32m    123\u001b[0m \u001b[38;5;28;01mfinally\u001b[39;00m:\n\u001b[0;32m    124\u001b[0m     \u001b[38;5;28;01mdel\u001b[39;00m filtered_tb\n",
      "File \u001b[1;32mc:\\Users\\Yeast\\Desktop\\⠀\\Semester 6\\Bangkit\\Mageiras\\Machine-Learning\\env\\lib\\site-packages\\tensorflow\\python\\eager\\execute.py:53\u001b[0m, in \u001b[0;36mquick_execute\u001b[1;34m(op_name, num_outputs, inputs, attrs, ctx, name)\u001b[0m\n\u001b[0;32m     51\u001b[0m \u001b[38;5;28;01mtry\u001b[39;00m:\n\u001b[0;32m     52\u001b[0m   ctx\u001b[38;5;241m.\u001b[39mensure_initialized()\n\u001b[1;32m---> 53\u001b[0m   tensors \u001b[38;5;241m=\u001b[39m pywrap_tfe\u001b[38;5;241m.\u001b[39mTFE_Py_Execute(ctx\u001b[38;5;241m.\u001b[39m_handle, device_name, op_name,\n\u001b[0;32m     54\u001b[0m                                       inputs, attrs, num_outputs)\n\u001b[0;32m     55\u001b[0m \u001b[38;5;28;01mexcept\u001b[39;00m core\u001b[38;5;241m.\u001b[39m_NotOkStatusException \u001b[38;5;28;01mas\u001b[39;00m e:\n\u001b[0;32m     56\u001b[0m   \u001b[38;5;28;01mif\u001b[39;00m name \u001b[38;5;129;01mis\u001b[39;00m \u001b[38;5;129;01mnot\u001b[39;00m \u001b[38;5;28;01mNone\u001b[39;00m:\n",
      "\u001b[1;31mInvalidArgumentError\u001b[0m: Graph execution error:\n\nDetected at node gradient_tape/sub/BroadcastGradientArgs defined at (most recent call last):\n  File \"C:\\Users\\Yeast\\AppData\\Local\\Programs\\Python\\Python39\\lib\\runpy.py\", line 197, in _run_module_as_main\n\n  File \"C:\\Users\\Yeast\\AppData\\Local\\Programs\\Python\\Python39\\lib\\runpy.py\", line 87, in _run_code\n\n  File \"c:\\Users\\Yeast\\Desktop\\⠀\\Semester 6\\Bangkit\\Mageiras\\Machine-Learning\\env\\lib\\site-packages\\ipykernel_launcher.py\", line 18, in <module>\n\n  File \"c:\\Users\\Yeast\\Desktop\\⠀\\Semester 6\\Bangkit\\Mageiras\\Machine-Learning\\env\\lib\\site-packages\\traitlets\\config\\application.py\", line 1075, in launch_instance\n\n  File \"c:\\Users\\Yeast\\Desktop\\⠀\\Semester 6\\Bangkit\\Mageiras\\Machine-Learning\\env\\lib\\site-packages\\ipykernel\\kernelapp.py\", line 739, in start\n\n  File \"c:\\Users\\Yeast\\Desktop\\⠀\\Semester 6\\Bangkit\\Mageiras\\Machine-Learning\\env\\lib\\site-packages\\tornado\\platform\\asyncio.py\", line 205, in start\n\n  File \"C:\\Users\\Yeast\\AppData\\Local\\Programs\\Python\\Python39\\lib\\asyncio\\base_events.py\", line 601, in run_forever\n\n  File \"C:\\Users\\Yeast\\AppData\\Local\\Programs\\Python\\Python39\\lib\\asyncio\\base_events.py\", line 1905, in _run_once\n\n  File \"C:\\Users\\Yeast\\AppData\\Local\\Programs\\Python\\Python39\\lib\\asyncio\\events.py\", line 80, in _run\n\n  File \"c:\\Users\\Yeast\\Desktop\\⠀\\Semester 6\\Bangkit\\Mageiras\\Machine-Learning\\env\\lib\\site-packages\\ipykernel\\kernelbase.py\", line 545, in dispatch_queue\n\n  File \"c:\\Users\\Yeast\\Desktop\\⠀\\Semester 6\\Bangkit\\Mageiras\\Machine-Learning\\env\\lib\\site-packages\\ipykernel\\kernelbase.py\", line 534, in process_one\n\n  File \"c:\\Users\\Yeast\\Desktop\\⠀\\Semester 6\\Bangkit\\Mageiras\\Machine-Learning\\env\\lib\\site-packages\\ipykernel\\kernelbase.py\", line 437, in dispatch_shell\n\n  File \"c:\\Users\\Yeast\\Desktop\\⠀\\Semester 6\\Bangkit\\Mageiras\\Machine-Learning\\env\\lib\\site-packages\\ipykernel\\ipkernel.py\", line 362, in execute_request\n\n  File \"c:\\Users\\Yeast\\Desktop\\⠀\\Semester 6\\Bangkit\\Mageiras\\Machine-Learning\\env\\lib\\site-packages\\ipykernel\\kernelbase.py\", line 778, in execute_request\n\n  File \"c:\\Users\\Yeast\\Desktop\\⠀\\Semester 6\\Bangkit\\Mageiras\\Machine-Learning\\env\\lib\\site-packages\\ipykernel\\ipkernel.py\", line 449, in do_execute\n\n  File \"c:\\Users\\Yeast\\Desktop\\⠀\\Semester 6\\Bangkit\\Mageiras\\Machine-Learning\\env\\lib\\site-packages\\ipykernel\\zmqshell.py\", line 549, in run_cell\n\n  File \"c:\\Users\\Yeast\\Desktop\\⠀\\Semester 6\\Bangkit\\Mageiras\\Machine-Learning\\env\\lib\\site-packages\\IPython\\core\\interactiveshell.py\", line 3048, in run_cell\n\n  File \"c:\\Users\\Yeast\\Desktop\\⠀\\Semester 6\\Bangkit\\Mageiras\\Machine-Learning\\env\\lib\\site-packages\\IPython\\core\\interactiveshell.py\", line 3103, in _run_cell\n\n  File \"c:\\Users\\Yeast\\Desktop\\⠀\\Semester 6\\Bangkit\\Mageiras\\Machine-Learning\\env\\lib\\site-packages\\IPython\\core\\async_helpers.py\", line 129, in _pseudo_sync_runner\n\n  File \"c:\\Users\\Yeast\\Desktop\\⠀\\Semester 6\\Bangkit\\Mageiras\\Machine-Learning\\env\\lib\\site-packages\\IPython\\core\\interactiveshell.py\", line 3308, in run_cell_async\n\n  File \"c:\\Users\\Yeast\\Desktop\\⠀\\Semester 6\\Bangkit\\Mageiras\\Machine-Learning\\env\\lib\\site-packages\\IPython\\core\\interactiveshell.py\", line 3490, in run_ast_nodes\n\n  File \"c:\\Users\\Yeast\\Desktop\\⠀\\Semester 6\\Bangkit\\Mageiras\\Machine-Learning\\env\\lib\\site-packages\\IPython\\core\\interactiveshell.py\", line 3550, in run_code\n\n  File \"C:\\Users\\Yeast\\AppData\\Local\\Temp\\ipykernel_26216\\1847363959.py\", line 9, in <module>\n\n  File \"c:\\Users\\Yeast\\Desktop\\⠀\\Semester 6\\Bangkit\\Mageiras\\Machine-Learning\\env\\lib\\site-packages\\keras\\src\\utils\\traceback_utils.py\", line 117, in error_handler\n\n  File \"c:\\Users\\Yeast\\Desktop\\⠀\\Semester 6\\Bangkit\\Mageiras\\Machine-Learning\\env\\lib\\site-packages\\keras\\src\\backend\\tensorflow\\trainer.py\", line 314, in fit\n\n  File \"c:\\Users\\Yeast\\Desktop\\⠀\\Semester 6\\Bangkit\\Mageiras\\Machine-Learning\\env\\lib\\site-packages\\keras\\src\\backend\\tensorflow\\trainer.py\", line 117, in one_step_on_iterator\n\n  File \"c:\\Users\\Yeast\\Desktop\\⠀\\Semester 6\\Bangkit\\Mageiras\\Machine-Learning\\env\\lib\\site-packages\\keras\\src\\backend\\tensorflow\\trainer.py\", line 104, in one_step_on_data\n\n  File \"c:\\Users\\Yeast\\Desktop\\⠀\\Semester 6\\Bangkit\\Mageiras\\Machine-Learning\\env\\lib\\site-packages\\keras_cv\\src\\models\\object_detection\\yolo_v8\\yolo_v8_detector.py\", line 526, in train_step\n\n  File \"c:\\Users\\Yeast\\Desktop\\⠀\\Semester 6\\Bangkit\\Mageiras\\Machine-Learning\\env\\lib\\site-packages\\keras\\src\\backend\\tensorflow\\trainer.py\", line 66, in train_step\n\nIncompatible shapes: [0,2] vs. [4,3549,2]\n\t [[{{node gradient_tape/sub/BroadcastGradientArgs}}]] [Op:__inference_one_step_on_iterator_60030]"
     ]
    }
   ],
   "source": [
    "optimizer = tf.keras.optimizers.Adam(\n",
    "    learning_rate=1e-4,\n",
    ")\n",
    "\n",
    "model.compile(\n",
    "    optimizer=optimizer, classification_loss=\"binary_crossentropy\", box_loss=\"ciou\"\n",
    ")\n",
    "\n",
    "model.fit(train_data, epochs=10)"
   ]
  },
  {
   "cell_type": "code",
   "execution_count": null,
   "metadata": {},
   "outputs": [],
   "source": []
  },
  {
   "cell_type": "code",
   "execution_count": null,
   "metadata": {},
   "outputs": [],
   "source": []
  },
  {
   "cell_type": "code",
   "execution_count": null,
   "metadata": {},
   "outputs": [],
   "source": []
  },
  {
   "cell_type": "code",
   "execution_count": null,
   "metadata": {},
   "outputs": [],
   "source": []
  },
  {
   "cell_type": "code",
   "execution_count": null,
   "metadata": {},
   "outputs": [],
   "source": []
  },
  {
   "cell_type": "code",
   "execution_count": null,
   "metadata": {},
   "outputs": [],
   "source": []
  },
  {
   "cell_type": "code",
   "execution_count": null,
   "metadata": {},
   "outputs": [],
   "source": []
  },
  {
   "cell_type": "code",
   "execution_count": null,
   "metadata": {},
   "outputs": [],
   "source": []
  },
  {
   "cell_type": "code",
   "execution_count": null,
   "metadata": {},
   "outputs": [],
   "source": []
  },
  {
   "cell_type": "code",
   "execution_count": null,
   "metadata": {},
   "outputs": [],
   "source": []
  },
  {
   "cell_type": "code",
   "execution_count": null,
   "metadata": {},
   "outputs": [],
   "source": []
  },
  {
   "cell_type": "code",
   "execution_count": null,
   "metadata": {},
   "outputs": [],
   "source": []
  }
 ],
 "metadata": {
  "kernelspec": {
   "display_name": "env",
   "language": "python",
   "name": "python3"
  },
  "language_info": {
   "codemirror_mode": {
    "name": "ipython",
    "version": 3
   },
   "file_extension": ".py",
   "mimetype": "text/x-python",
   "name": "python",
   "nbconvert_exporter": "python",
   "pygments_lexer": "ipython3",
   "version": "3.9.13"
  }
 },
 "nbformat": 4,
 "nbformat_minor": 2
}
