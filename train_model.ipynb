{
  "cells": [
    {
      "cell_type": "code",
      "execution_count": 18,
      "metadata": {
        "colab": {
          "base_uri": "https://localhost:8080/"
        },
        "id": "-kUOwzoEYa0x",
        "outputId": "68d9f075-5d64-47f5-be86-924d576c3f6f"
      },
      "outputs": [],
      "source": [
        "import tensorflow as tf\n",
        "import pandas as pd\n",
        "import numpy as np\n",
        "import matplotlib.pyplot as plt\n",
        "import keras_cv\n",
        "import os"
      ]
    },
    {
      "cell_type": "markdown",
      "metadata": {
        "id": "kPSiVIhgYa0z"
      },
      "source": [
        "## Data Pipeline"
      ]
    },
    {
      "cell_type": "code",
      "execution_count": 19,
      "metadata": {
        "colab": {
          "base_uri": "https://localhost:8080/"
        },
        "id": "nc3dw21xY1qL",
        "outputId": "9e90e2ba-677b-421c-b627-031938fc75d7"
      },
      "outputs": [],
      "source": [
        "# from google.colab import drive\n",
        "# drive.mount('/content/drive')"
      ]
    },
    {
      "cell_type": "code",
      "execution_count": 20,
      "metadata": {
        "colab": {
          "base_uri": "https://localhost:8080/"
        },
        "id": "SrRflHGDYa00",
        "outputId": "2f70ca7d-97e6-48bd-d0d7-9e946cc74e2f"
      },
      "outputs": [
        {
          "name": "stdout",
          "output_type": "stream",
          "text": [
            "True\n"
          ]
        }
      ],
      "source": [
        "# dataset_location = './Food ingredient recognition.v4i.tfrecord'\n",
        "# dataset_location = './drive/MyDrive/Food ingredient recognition.v4i.tfrecord' # Google Colab\n",
        "dataset_location = \"/mnt/c/Tugas Raihan/Kuliah/Matkul/Semester 6/Bangkit/Machine-Learning-Capstone/Food ingredient recognition.v4i.tfrecord\" # Punya Andi\n",
        "tfrecord_name = \"food-ingredient.tfrecord\"\n",
        "print(os.path.exists(dataset_location))"
      ]
    },
    {
      "cell_type": "code",
      "execution_count": 21,
      "metadata": {
        "id": "d0hBoRJoYa00"
      },
      "outputs": [],
      "source": [
        "dataset_train = tf.data.TFRecordDataset(dataset_location + f\"/train/{tfrecord_name}\")\n",
        "dataset_validation = tf.data.TFRecordDataset(dataset_location + f\"/valid/{tfrecord_name}\")\n",
        "dataset_test = tf.data.TFRecordDataset(dataset_location + f\"/test/{tfrecord_name}\")"
      ]
    },
    {
      "cell_type": "code",
      "execution_count": 22,
      "metadata": {
        "id": "-5ts5MLHYa01"
      },
      "outputs": [],
      "source": [
        "feature_description = {\n",
        "    'image/object/bbox/ymin' : tf.io.VarLenFeature(tf.float32),\n",
        "    'image/object/bbox/xmin' : tf.io.VarLenFeature(tf.float32),\n",
        "    'image/object/bbox/ymax' : tf.io.VarLenFeature(tf.float32),\n",
        "    'image/object/bbox/xmax' : tf.io.VarLenFeature(tf.float32),\n",
        "    'image/object/class/text' : tf.io.VarLenFeature(tf.string),\n",
        "    'image/object/class/label' : tf.io.VarLenFeature(tf.int64),\n",
        "    'image/encoded' : tf.io.FixedLenFeature([], tf.string),\n",
        "    'image/format' : tf.io.FixedLenFeature([], tf.string),\n",
        "    'image/filename' : tf.io.FixedLenFeature([], tf.string),\n",
        "    'image/height' : tf.io.FixedLenFeature([], tf.int64),\n",
        "    'image/width' : tf.io.FixedLenFeature([], tf.int64)\n",
        "}\n",
        "def _parse_function(example_proto):\n",
        "    parsed_example = tf.io.parse_single_example(example_proto, feature_description)\n",
        "    bounding_box = ['image/object/bbox/ymin', 'image/object/bbox/xmin', 'image/object/bbox/ymax', 'image/object/bbox/xmax']\n",
        "    for key in ['image/object/bbox/ymin', 'image/object/bbox/xmin', 'image/object/bbox/ymax', 'image/object/bbox/xmax', 'image/object/class/text', 'image/object/class/label']:\n",
        "        parsed_example[key] = tf.sparse.to_dense(parsed_example[key])\n",
        "        if (key in bounding_box and \"x\" in key):\n",
        "            parsed_example[key] = parsed_example[key] * tf.cast(parsed_example['image/width'], tf.float32)\n",
        "        elif (key in bounding_box):\n",
        "            parsed_example[key] = parsed_example[key] * tf.cast(parsed_example['image/height'], tf.float32)\n",
        "    return parsed_example"
      ]
    },
    {
      "cell_type": "code",
      "execution_count": 23,
      "metadata": {
        "id": "m3AWtcmRYa01"
      },
      "outputs": [],
      "source": [
        "from keras_cv import bounding_box\n",
        "from keras_cv import visualization\n",
        "\n",
        "class_ids = [\n",
        "    \"-\",\n",
        "    \"almond\",\n",
        "    \"apple\",\n",
        "    \"avocado\",\n",
        "    \"beef\",\n",
        "    \"bell pepper\",\n",
        "    \"blueberry\",\n",
        "    \"bread\",\n",
        "    \"broccoli\",\n",
        "    \"butter\",\n",
        "    \"carrot\",\n",
        "    \"cheese\",\n",
        "    \"chilli\",\n",
        "    \"cookie\",\n",
        "    \"corn\",\n",
        "    \"cucumber\",\n",
        "    \"egg\",\n",
        "    \"eggplant\",\n",
        "    \"garlic\",\n",
        "    \"lemon\",\n",
        "    \"milk\",\n",
        "    \"mozarella cheese\",\n",
        "    \"mushroom\",\n",
        "    \"mussel\",\n",
        "    \"onion\",\n",
        "    \"oyster\",\n",
        "    \"parmesan cheese\",\n",
        "    \"pasta\",\n",
        "    \"pork rib\",\n",
        "    \"potato\",\n",
        "    \"salmon\",\n",
        "    \"scallop\",\n",
        "    \"shrimp\",\n",
        "    \"strawberry\",\n",
        "    \"toast bread\",\n",
        "    \"tomato\",\n",
        "    \"tuna\",\n",
        "    \"yogurt\",\n",
        "]\n",
        "class_mapping = dict(zip(range(len(class_ids)), class_ids))\n",
        "\n",
        "def preprocess_dataset(parsed_dataset):\n",
        "    image = tf.image.decode_jpeg(parsed_dataset['image/encoded'])\n",
        "    label = parsed_dataset['image/object/class/label']\n",
        "    bounding_box = tf.stack([\n",
        "        parsed_dataset['image/object/bbox/xmin'],\n",
        "        parsed_dataset['image/object/bbox/ymin'],\n",
        "        parsed_dataset['image/object/bbox/xmax'],\n",
        "        parsed_dataset['image/object/bbox/ymax']\n",
        "    ], axis=-1)\n",
        "    image = tf.cast(image, tf.float32)\n",
        "    return {\n",
        "        'images': image,\n",
        "        'bounding_boxes' : {\n",
        "            'boxes': tf.cast(bounding_box, tf.float32),\n",
        "            'classes': tf.cast(label, tf.int32)\n",
        "        }\n",
        "    }\n",
        "\n",
        "def visualize_data(image, bounding_boxes):\n",
        "    image = np.array(image)\n",
        "    inference_resizing = keras_cv.layers.Resizing(\n",
        "    640, 640, pad_to_aspect_ratio=True, bounding_box_format=\"xywh\"\n",
        "    )\n",
        "    image = inference_resizing([image])\n",
        "    visualization.plot_bounding_box_gallery(\n",
        "        image,\n",
        "        value_range=(0, 255),\n",
        "        rows=1,\n",
        "        cols=1,\n",
        "        scale=5,\n",
        "        bounding_box_format='xywh',\n",
        "        y_pred=bounding_boxes\n",
        "    )\n",
        "\n",
        "augmenter = tf.keras.Sequential(\n",
        "    layers=[\n",
        "        keras_cv.layers.RandomFlip(mode=\"horizontal\", bounding_box_format=\"xyxy\"),\n",
        "        keras_cv.layers.RandomShear(\n",
        "            x_factor=0.2, y_factor=0.2, bounding_box_format=\"xyxy\"\n",
        "        ),\n",
        "        keras_cv.layers.JitteredResize(\n",
        "            target_size=(640, 640), scale_factor=(0.75, 1.3), bounding_box_format=\"xyxy\"\n",
        "        ),\n",
        "    ]\n",
        ")\n",
        "\n",
        "validation_augmenter = tf.keras.Sequential(\n",
        "    layers=[\n",
        "        keras_cv.layers.JitteredResize(\n",
        "            target_size=(640, 640), scale_factor=(0.75, 1.3), bounding_box_format=\"xyxy\"\n",
        "        )\n",
        "    ]\n",
        ")"
      ]
    },
    {
      "cell_type": "code",
      "execution_count": 24,
      "metadata": {
        "colab": {
          "base_uri": "https://localhost:8080/",
          "height": 544
        },
        "id": "8tp09sHrYa01",
        "outputId": "2310e2a7-34f4-4e06-8240-ff64aa959e5e"
      },
      "outputs": [
        {
          "name": "stderr",
          "output_type": "stream",
          "text": [
            "2024-06-08 20:21:29.872696: W tensorflow/core/framework/local_rendezvous.cc:404] Local rendezvous is aborting with status: OUT_OF_RANGE: End of sequence\n"
          ]
        },
        {
          "data": {
            "image/png": "[encoded data removed]",
            "text/plain": [
              "<Figure size 360x360 with 1 Axes>"
            ]
          },
          "metadata": {
            "needs_background": "light"
          },
          "output_type": "display_data"
        }
      ],
      "source": [
        "from keras_cv import bounding_box\n",
        "\n",
        "BATCH_SIZE = 4\n",
        "\n",
        "train_data_initial = dataset_train.map(_parse_function).map(preprocess_dataset).shuffle(buffer_size=BATCH_SIZE * 4).ragged_batch(BATCH_SIZE, drop_remainder=True)\n",
        "train_data_resized = train_data_initial.map(augmenter, num_parallel_calls=tf.data.AUTOTUNE)\n",
        "\n",
        "def dict_to_tuple(inputs):\n",
        "    return inputs[\"images\"], bounding_box.to_dense(inputs[\"bounding_boxes\"], max_boxes=32)\n",
        "\n",
        "train_data = train_data_resized.map(dict_to_tuple, num_parallel_calls=tf.data.AUTOTUNE)\n",
        "train_data = train_data.prefetch(tf.data.AUTOTUNE)\n",
        "\n",
        "for result in train_data.take(1):\n",
        "    visualization.plot_bounding_box_gallery(\n",
        "        result[0],\n",
        "        value_range=(0, 255),\n",
        "        rows=1,\n",
        "        cols=1,\n",
        "        scale=5,\n",
        "        bounding_box_format='xyxy',\n",
        "        y_true=result[1]\n",
        "    )\n"
      ]
    },
    {
      "cell_type": "code",
      "execution_count": 25,
      "metadata": {
        "colab": {
          "base_uri": "https://localhost:8080/"
        },
        "id": "qZneHRsIdgte",
        "outputId": "a83f55e0-2d7a-4013-d232-397236031b21"
      },
      "outputs": [],
      "source": [
        "validation_data_initial = dataset_validation.map(_parse_function).map(preprocess_dataset).shuffle(buffer_size=BATCH_SIZE * 4).ragged_batch(BATCH_SIZE, drop_remainder=True)\n",
        "validation_data_resized = validation_data_initial.map(validation_augmenter, num_parallel_calls=tf.data.AUTOTUNE)\n",
        "validation_data = validation_data_resized.map(dict_to_tuple, num_parallel_calls=tf.data.AUTOTUNE)\n",
        "validation_data = validation_data.prefetch(tf.data.AUTOTUNE)"
      ]
    },
    {
      "cell_type": "code",
      "execution_count": 26,
      "metadata": {},
      "outputs": [],
      "source": [
        "test_data_initial = dataset_test.map(_parse_function).map(preprocess_dataset).shuffle(buffer_size=BATCH_SIZE * 4).ragged_batch(BATCH_SIZE, drop_remainder=True)\n",
        "test_data_resized = test_data_initial.map(validation_augmenter, num_parallel_calls=tf.data.AUTOTUNE)\n",
        "test_data = test_data_resized.map(dict_to_tuple, num_parallel_calls=tf.data.AUTOTUNE)\n",
        "test_data = test_data.prefetch(tf.data.AUTOTUNE)"
      ]
    },
    {
      "cell_type": "code",
      "execution_count": 27,
      "metadata": {
        "id": "UBmhqelsYa02"
      },
      "outputs": [],
      "source": [
        "# import keras\n",
        "\n",
        "# pretrained_model = keras_cv.models.YOLOV8Detector.from_preset(\n",
        "#     \"yolo_v8_m_pascalvoc\", bounding_box_format=\"xywh\"\n",
        "# )\n",
        "# image = keras.utils.load_img(\"stock-photo-airport-with-many-airplanes-at-beautiful-sunset-324754607.jpg\")\n",
        "# image = np.array(image)\n",
        "# # print(image.shape)\n",
        "\n",
        "# visualization.plot_image_gallery(\n",
        "#     np.array([image]),\n",
        "#     value_range=(0, 255),\n",
        "#     rows=1,\n",
        "#     cols=1,\n",
        "#     scale=5,)\n",
        "# inference_resizing = keras_cv.layers.Resizing(\n",
        "#     640, 640, pad_to_aspect_ratio=True, bounding_box_format=\"xywh\"\n",
        "# )\n",
        "# image_batch = inference_resizing([image])\n",
        "# # print(image_batch)\n",
        "# class_ids = [\n",
        "#     \"Aeroplane\",\n",
        "#     \"Bicycle\",\n",
        "#     \"Bird\",\n",
        "#     \"Boat\",\n",
        "#     \"Bottle\",\n",
        "#     \"Bus\",\n",
        "#     \"Car\",\n",
        "#     \"Cat\",\n",
        "#     \"Chair\",\n",
        "#     \"Cow\",\n",
        "#     \"Dining Table\",\n",
        "#     \"Dog\",\n",
        "#     \"Horse\",\n",
        "#     \"Motorbike\",\n",
        "#     \"Person\",\n",
        "#     \"Potted Plant\",\n",
        "#     \"Sheep\",\n",
        "#     \"Sofa\",\n",
        "#     \"Train\",\n",
        "#     \"Tvmonitor\",\n",
        "#     \"Total\",\n",
        "# ]\n",
        "# # class_mapping = dict(zip(range(len(class_ids)), class_ids))\n",
        "# # y_pred = pretrained_model.predict(image_batch)\n",
        "\n",
        "# # print(y_pred)\n",
        "\n",
        "# for sample in train_data_unbatched.take(1):\n",
        "#     image = np.array(sample['images'])\n",
        "#     inference_resizing = keras_cv.layers.Resizing(\n",
        "#     640, 640, pad_to_aspect_ratio=True, bounding_box_format=\"xyxy\"\n",
        "#     )\n",
        "#     image = inference_resizing([image])\n",
        "#     y_pred = pretrained_model.predict(image)\n",
        "#     print(y_pred)\n",
        "#     visualization.plot_bounding_box_gallery(\n",
        "#         image,\n",
        "#         value_range=(0, 255),\n",
        "#         rows=1,\n",
        "#         cols=1,\n",
        "#         y_pred=y_pred,\n",
        "#         scale=5,\n",
        "#         font_scale=0.7,\n",
        "#         bounding_box_format=\"xyxy\",\n",
        "#         class_mapping=class_mapping,\n",
        "#     )\n"
      ]
    },
    {
      "cell_type": "code",
      "execution_count": 28,
      "metadata": {
        "id": "zJthsTu7Ya02"
      },
      "outputs": [],
      "source": [
        "# Get the number of classes in the dataset\n",
        "# unique_classes = set()\n",
        "# for parsed_dataset in train_data:\n",
        "#     classes = parsed_dataset['bounding_boxes']['classes'].numpy()\n",
        "#     unique_classes.update(np.unique(classes))\n",
        "\n",
        "# NUM_CLASSES = len(unique_classes)\n",
        "NUM_CLASSES = len(class_ids)"
      ]
    },
    {
      "cell_type": "code",
      "execution_count": 29,
      "metadata": {
        "colab": {
          "base_uri": "https://localhost:8080/"
        },
        "id": "nUaSbArQYa02",
        "outputId": "712ccdf8-0032-4693-f80d-563e0af01030"
      },
      "outputs": [],
      "source": [
        "# Pretrained backbone\n",
        "backbone = keras_cv.models.YOLOV8Backbone.from_preset(\n",
        "    \"yolo_v8_s_backbone_coco\",\n",
        "    include_rescaling = True,\n",
        ")\n",
        "\n",
        "prediction_decoder = keras_cv.layers.NonMaxSuppression(\n",
        "    from_logits=True,\n",
        "    # Makin tinggi perlu confidence makin tinggi\n",
        "    confidence_threshold=0.731,\n",
        "    # Makin rendah maka makin sedikit bounding box yang diambil\n",
        "    iou_threshold=0.2,\n",
        "    bounding_box_format=\"xyxy\",\n",
        ")\n",
        "\n",
        "# model = keras_cv.models.YOLOV8Detector(\n",
        "#     num_classes=NUM_CLASSES,\n",
        "#     bounding_box_format=\"xyxy\",\n",
        "#     backbone=backbone,\n",
        "#     fpn_depth=1,\n",
        "#     prediction_decoder=prediction_decoder,\n",
        "# )\n",
        "\n",
        "\n",
        "model = keras_cv.models.YOLOV8Detector.from_preset(\n",
        "    \"yolo_v8_s_backbone_coco\", \n",
        "    bounding_box_format=\"xyxy\",\n",
        "    num_classes=NUM_CLASSES,\n",
        "    prediction_decoder=prediction_decoder,\n",
        ")\n",
        "\n"
      ]
    },
    {
      "cell_type": "code",
      "execution_count": 30,
      "metadata": {
        "id": "72bvFKe5Ya02"
      },
      "outputs": [],
      "source": [
        "freeze = 133\n",
        "# Freeze to up to 133 layers\n",
        "# for i, layer in enumerate(model.layers):\n",
        "#     if i < freeze:\n",
        "#         layer.trainable = False\n"
      ]
    },
    {
      "cell_type": "code",
      "execution_count": 31,
      "metadata": {
        "id": "sxRJaQceYa02"
      },
      "outputs": [],
      "source": [
        "class EvaluateCOCOMetricsCallback(tf.keras.callbacks.Callback):\n",
        "    def __init__(self, data, save_path):\n",
        "        super().__init__()\n",
        "        self.data = data\n",
        "        self.metrics = keras_cv.metrics.BoxCOCOMetrics(\n",
        "            bounding_box_format=\"xyxy\",\n",
        "            evaluate_freq=1e9,\n",
        "        )\n",
        "\n",
        "        self.save_path = save_path\n",
        "        self.best_map = -1.0\n",
        "\n",
        "    def on_epoch_end(self, epoch, logs):\n",
        "        self.metrics.reset_state()\n",
        "        for batch in self.data:\n",
        "            images, y_true = batch[0], batch[1]\n",
        "            y_pred = self.model.predict(images, verbose=0)\n",
        "            self.metrics.update_state(y_true, y_pred)\n",
        "\n",
        "        metrics = self.metrics.result(force=True)\n",
        "        logs.update(metrics)\n",
        "\n",
        "        current_map = metrics[\"MaP\"]\n",
        "        if current_map > self.best_map:\n",
        "            self.best_map = current_map\n",
        "            self.model.save(self.save_path)  # Save the model when mAP improves\n",
        "\n",
        "        return logs"
      ]
    },
    {
      "cell_type": "code",
      "execution_count": 32,
      "metadata": {
        "colab": {
          "base_uri": "https://localhost:8080/"
        },
        "id": "v3Cpc_7eYa03",
        "outputId": "97c326a3-879d-4e11-c454-f17aba7826e6"
      },
      "outputs": [
        {
          "name": "stdout",
          "output_type": "stream",
          "text": [
            "Epoch 1/10\n",
            "    735/Unknown \u001b[1m105s\u001b[0m 92ms/step - loss: 1.3744e-04"
          ]
        },
        {
          "name": "stderr",
          "output_type": "stream",
          "text": [
            "2024-06-08 20:23:16.760628: W tensorflow/core/framework/local_rendezvous.cc:404] Local rendezvous is aborting with status: OUT_OF_RANGE: End of sequence\n",
            "\t [[{{node IteratorGetNext}}]]\n",
            "2024-06-08 20:23:16.760674: W tensorflow/core/framework/local_rendezvous.cc:404] Local rendezvous is aborting with status: OUT_OF_RANGE: End of sequence\n",
            "\t [[{{node IteratorGetNext}}]]\n",
            "\t [[IteratorGetNext/_6]]\n",
            "2024-06-08 20:23:16.760686: I tensorflow/core/framework/local_rendezvous.cc:422] Local rendezvous recv item cancelled. Key hash: 4540596118956551201\n",
            "2024-06-08 20:23:16.760693: I tensorflow/core/framework/local_rendezvous.cc:422] Local rendezvous recv item cancelled. Key hash: 17021272254583444092\n",
            "2024-06-08 20:23:16.760698: I tensorflow/core/framework/local_rendezvous.cc:422] Local rendezvous recv item cancelled. Key hash: 10063152101840848510\n",
            "/usr/lib/python3.10/contextlib.py:153: UserWarning: Your input ran out of data; interrupting training. Make sure that your dataset or generator can generate at least `steps_per_epoch * epochs` batches. You may need to use the `.repeat()` function when building your dataset.\n",
            "  self.gen.throw(typ, value, traceback)\n",
            "2024-06-08 20:23:23.376912: W tensorflow/core/framework/local_rendezvous.cc:404] Local rendezvous is aborting with status: OUT_OF_RANGE: End of sequence\n",
            "\t [[{{node IteratorGetNext}}]]\n",
            "2024-06-08 20:23:23.377241: W tensorflow/core/framework/local_rendezvous.cc:404] Local rendezvous is aborting with status: OUT_OF_RANGE: End of sequence\n",
            "\t [[{{node IteratorGetNext}}]]\n",
            "\t [[IteratorGetNext/_2]]\n",
            "2024-06-08 20:23:35.375086: W tensorflow/core/framework/local_rendezvous.cc:404] Local rendezvous is aborting with status: OUT_OF_RANGE: End of sequence\n"
          ]
        },
        {
          "name": "stdout",
          "output_type": "stream",
          "text": [
            "\u001b[1m735/735\u001b[0m \u001b[32m━━━━━━━━━━━━━━━━━━━━\u001b[0m\u001b[37m\u001b[0m \u001b[1m125s\u001b[0m 119ms/step - loss: 1.3743e-04 - val_loss: 1.4157e-04 - MaP: 7.2317e-07 - MaP@[IoU=50]: 7.2317e-06 - MaP@[IoU=75]: 0.0000e+00 - MaP@[area=small]: 0.0000e+00 - MaP@[area=medium]: 0.0000e+00 - MaP@[area=large]: 1.1730e-06 - Recall@[max_detections=1]: 0.0000e+00 - Recall@[max_detections=10]: 4.7619e-04 - Recall@[max_detections=100]: 4.7619e-04 - Recall@[area=small]: 0.0000e+00 - Recall@[area=medium]: 0.0000e+00 - Recall@[area=large]: 7.5758e-04\n",
            "Epoch 2/10\n",
            "\u001b[1m735/735\u001b[0m \u001b[32m━━━━━━━━━━━━━━━━━━━━\u001b[0m\u001b[37m\u001b[0m \u001b[1m0s\u001b[0m 90ms/step - loss: 1.3059e-04"
          ]
        },
        {
          "name": "stderr",
          "output_type": "stream",
          "text": [
            "2024-06-08 20:24:45.013993: W tensorflow/core/framework/local_rendezvous.cc:404] Local rendezvous is aborting with status: OUT_OF_RANGE: End of sequence\n",
            "\t [[{{node IteratorGetNext}}]]\n",
            "2024-06-08 20:24:45.014501: W tensorflow/core/framework/local_rendezvous.cc:404] Local rendezvous is aborting with status: OUT_OF_RANGE: End of sequence\n",
            "\t [[{{node IteratorGetNext}}]]\n",
            "\t [[IteratorGetNext/_2]]\n",
            "2024-06-08 20:24:48.097927: W tensorflow/core/framework/local_rendezvous.cc:404] Local rendezvous is aborting with status: OUT_OF_RANGE: End of sequence\n",
            "\t [[{{node IteratorGetNext}}]]\n",
            "2024-06-08 20:24:48.098171: W tensorflow/core/framework/local_rendezvous.cc:404] Local rendezvous is aborting with status: OUT_OF_RANGE: End of sequence\n",
            "\t [[{{node IteratorGetNext}}]]\n",
            "\t [[IteratorGetNext/_2]]\n"
          ]
        },
        {
          "name": "stdout",
          "output_type": "stream",
          "text": [
            "\u001b[1m735/735\u001b[0m \u001b[32m━━━━━━━━━━━━━━━━━━━━\u001b[0m\u001b[37m\u001b[0m \u001b[1m79s\u001b[0m 105ms/step - loss: 1.3059e-04 - val_loss: 1.3067e-04 - MaP: 0.0000e+00 - MaP@[IoU=50]: 0.0000e+00 - MaP@[IoU=75]: 0.0000e+00 - MaP@[area=small]: 0.0000e+00 - MaP@[area=medium]: 0.0000e+00 - MaP@[area=large]: 0.0000e+00 - Recall@[max_detections=1]: 0.0000e+00 - Recall@[max_detections=10]: 0.0000e+00 - Recall@[max_detections=100]: 0.0000e+00 - Recall@[area=small]: 0.0000e+00 - Recall@[area=medium]: 0.0000e+00 - Recall@[area=large]: 0.0000e+00\n",
            "Epoch 3/10\n"
          ]
        },
        {
          "name": "stderr",
          "output_type": "stream",
          "text": [
            "2024-06-08 20:24:55.493995: W tensorflow/core/framework/local_rendezvous.cc:404] Local rendezvous is aborting with status: OUT_OF_RANGE: End of sequence\n"
          ]
        },
        {
          "name": "stdout",
          "output_type": "stream",
          "text": [
            "\u001b[1m735/735\u001b[0m \u001b[32m━━━━━━━━━━━━━━━━━━━━\u001b[0m\u001b[37m\u001b[0m \u001b[1m0s\u001b[0m 95ms/step - loss: 1.2604e-04"
          ]
        },
        {
          "name": "stderr",
          "output_type": "stream",
          "text": [
            "2024-06-08 20:26:06.471638: W tensorflow/core/framework/local_rendezvous.cc:404] Local rendezvous is aborting with status: OUT_OF_RANGE: End of sequence\n",
            "\t [[{{node IteratorGetNext}}]]\n",
            "2024-06-08 20:26:06.472153: W tensorflow/core/framework/local_rendezvous.cc:404] Local rendezvous is aborting with status: OUT_OF_RANGE: End of sequence\n",
            "\t [[{{node IteratorGetNext}}]]\n",
            "\t [[IteratorGetNext/_2]]\n",
            "2024-06-08 20:26:09.611123: W tensorflow/core/framework/local_rendezvous.cc:404] Local rendezvous is aborting with status: OUT_OF_RANGE: End of sequence\n",
            "\t [[{{node IteratorGetNext}}]]\n",
            "2024-06-08 20:26:09.611252: W tensorflow/core/framework/local_rendezvous.cc:404] Local rendezvous is aborting with status: OUT_OF_RANGE: End of sequence\n",
            "\t [[{{node IteratorGetNext}}]]\n",
            "\t [[IteratorGetNext/_2]]\n",
            "2024-06-08 20:26:17.094855: W tensorflow/core/framework/local_rendezvous.cc:404] Local rendezvous is aborting with status: OUT_OF_RANGE: End of sequence\n"
          ]
        },
        {
          "name": "stdout",
          "output_type": "stream",
          "text": [
            "\u001b[1m735/735\u001b[0m \u001b[32m━━━━━━━━━━━━━━━━━━━━\u001b[0m\u001b[37m\u001b[0m \u001b[1m83s\u001b[0m 111ms/step - loss: 1.2604e-04 - val_loss: 1.3423e-04 - MaP: 2.4929e-05 - MaP@[IoU=50]: 1.7532e-04 - MaP@[IoU=75]: 0.0000e+00 - MaP@[area=small]: 0.0000e+00 - MaP@[area=medium]: 0.0000e+00 - MaP@[area=large]: 3.0872e-05 - Recall@[max_detections=1]: 6.8966e-04 - Recall@[max_detections=10]: 0.0011 - Recall@[max_detections=100]: 0.0011 - Recall@[area=small]: 0.0000e+00 - Recall@[area=medium]: 0.0000e+00 - Recall@[area=large]: 0.0012\n",
            "Epoch 4/10\n",
            "\u001b[1m735/735\u001b[0m \u001b[32m━━━━━━━━━━━━━━━━━━━━\u001b[0m\u001b[37m\u001b[0m \u001b[1m0s\u001b[0m 94ms/step - loss: 1.3058e-04"
          ]
        },
        {
          "name": "stderr",
          "output_type": "stream",
          "text": [
            "2024-06-08 20:27:28.807143: W tensorflow/core/framework/local_rendezvous.cc:404] Local rendezvous is aborting with status: OUT_OF_RANGE: End of sequence\n",
            "\t [[{{node IteratorGetNext}}]]\n",
            "2024-06-08 20:27:28.807675: W tensorflow/core/framework/local_rendezvous.cc:404] Local rendezvous is aborting with status: OUT_OF_RANGE: End of sequence\n",
            "\t [[{{node IteratorGetNext}}]]\n",
            "\t [[IteratorGetNext/_2]]\n",
            "2024-06-08 20:27:31.847790: W tensorflow/core/framework/local_rendezvous.cc:404] Local rendezvous is aborting with status: OUT_OF_RANGE: End of sequence\n",
            "\t [[{{node IteratorGetNext}}]]\n",
            "2024-06-08 20:27:31.848103: W tensorflow/core/framework/local_rendezvous.cc:404] Local rendezvous is aborting with status: OUT_OF_RANGE: End of sequence\n",
            "\t [[{{node IteratorGetNext}}]]\n",
            "\t [[IteratorGetNext/_2]]\n",
            "2024-06-08 20:27:39.733933: W tensorflow/core/framework/local_rendezvous.cc:404] Local rendezvous is aborting with status: OUT_OF_RANGE: End of sequence\n"
          ]
        },
        {
          "name": "stdout",
          "output_type": "stream",
          "text": [
            "\u001b[1m735/735\u001b[0m \u001b[32m━━━━━━━━━━━━━━━━━━━━\u001b[0m\u001b[37m\u001b[0m \u001b[1m83s\u001b[0m 111ms/step - loss: 1.3058e-04 - val_loss: 1.2951e-04 - MaP: 5.0226e-05 - MaP@[IoU=50]: 1.4088e-04 - MaP@[IoU=75]: 1.3484e-05 - MaP@[area=small]: 0.0000e+00 - MaP@[area=medium]: 0.0000e+00 - MaP@[area=large]: 5.5249e-05 - Recall@[max_detections=1]: 2.8409e-04 - Recall@[max_detections=10]: 0.0012 - Recall@[max_detections=100]: 0.0012 - Recall@[area=small]: 0.0000e+00 - Recall@[area=medium]: 0.0000e+00 - Recall@[area=large]: 0.0014\n",
            "Epoch 5/10\n",
            "\u001b[1m735/735\u001b[0m \u001b[32m━━━━━━━━━━━━━━━━━━━━\u001b[0m\u001b[37m\u001b[0m \u001b[1m0s\u001b[0m 93ms/step - loss: 1.2462e-04"
          ]
        },
        {
          "name": "stderr",
          "output_type": "stream",
          "text": [
            "2024-06-08 20:28:50.316202: W tensorflow/core/framework/local_rendezvous.cc:404] Local rendezvous is aborting with status: OUT_OF_RANGE: End of sequence\n",
            "\t [[{{node IteratorGetNext}}]]\n",
            "2024-06-08 20:28:50.316681: W tensorflow/core/framework/local_rendezvous.cc:404] Local rendezvous is aborting with status: OUT_OF_RANGE: End of sequence\n",
            "\t [[{{node IteratorGetNext}}]]\n",
            "\t [[IteratorGetNext/_2]]\n",
            "2024-06-08 20:28:53.473876: W tensorflow/core/framework/local_rendezvous.cc:404] Local rendezvous is aborting with status: OUT_OF_RANGE: End of sequence\n",
            "\t [[{{node IteratorGetNext}}]]\n",
            "2024-06-08 20:28:53.474169: W tensorflow/core/framework/local_rendezvous.cc:404] Local rendezvous is aborting with status: OUT_OF_RANGE: End of sequence\n",
            "\t [[{{node IteratorGetNext}}]]\n",
            "\t [[IteratorGetNext/_2]]\n",
            "2024-06-08 20:29:01.282694: W tensorflow/core/framework/local_rendezvous.cc:404] Local rendezvous is aborting with status: OUT_OF_RANGE: End of sequence\n"
          ]
        },
        {
          "name": "stdout",
          "output_type": "stream",
          "text": [
            "\u001b[1m735/735\u001b[0m \u001b[32m━━━━━━━━━━━━━━━━━━━━\u001b[0m\u001b[37m\u001b[0m \u001b[1m82s\u001b[0m 110ms/step - loss: 1.2462e-04 - val_loss: 1.2461e-04 - MaP: 9.5555e-05 - MaP@[IoU=50]: 7.7268e-04 - MaP@[IoU=75]: 0.0000e+00 - MaP@[area=small]: 0.0000e+00 - MaP@[area=medium]: 0.0000e+00 - MaP@[area=large]: 1.0511e-04 - Recall@[max_detections=1]: 0.0016 - Recall@[max_detections=10]: 0.0020 - Recall@[max_detections=100]: 0.0020 - Recall@[area=small]: 0.0000e+00 - Recall@[area=medium]: 0.0000e+00 - Recall@[area=large]: 0.0022\n",
            "Epoch 6/10\n",
            "\u001b[1m735/735\u001b[0m \u001b[32m━━━━━━━━━━━━━━━━━━━━\u001b[0m\u001b[37m\u001b[0m \u001b[1m0s\u001b[0m 94ms/step - loss: 1.2273e-04"
          ]
        },
        {
          "name": "stderr",
          "output_type": "stream",
          "text": [
            "2024-06-08 20:30:12.910711: W tensorflow/core/framework/local_rendezvous.cc:404] Local rendezvous is aborting with status: OUT_OF_RANGE: End of sequence\n",
            "\t [[{{node IteratorGetNext}}]]\n",
            "2024-06-08 20:30:12.910899: W tensorflow/core/framework/local_rendezvous.cc:404] Local rendezvous is aborting with status: OUT_OF_RANGE: End of sequence\n",
            "\t [[{{node IteratorGetNext}}]]\n",
            "\t [[IteratorGetNext/_2]]\n",
            "2024-06-08 20:30:15.931264: W tensorflow/core/framework/local_rendezvous.cc:404] Local rendezvous is aborting with status: OUT_OF_RANGE: End of sequence\n",
            "\t [[{{node IteratorGetNext}}]]\n",
            "2024-06-08 20:30:15.931618: W tensorflow/core/framework/local_rendezvous.cc:404] Local rendezvous is aborting with status: OUT_OF_RANGE: End of sequence\n",
            "\t [[{{node IteratorGetNext}}]]\n",
            "\t [[IteratorGetNext/_2]]\n",
            "2024-06-08 20:30:23.186717: W tensorflow/core/framework/local_rendezvous.cc:404] Local rendezvous is aborting with status: OUT_OF_RANGE: End of sequence\n"
          ]
        },
        {
          "name": "stdout",
          "output_type": "stream",
          "text": [
            "\u001b[1m735/735\u001b[0m \u001b[32m━━━━━━━━━━━━━━━━━━━━\u001b[0m\u001b[37m\u001b[0m \u001b[1m82s\u001b[0m 111ms/step - loss: 1.2273e-04 - val_loss: 1.1710e-04 - MaP: 4.5812e-04 - MaP@[IoU=50]: 0.0021 - MaP@[IoU=75]: 2.8289e-05 - MaP@[area=small]: 0.0000e+00 - MaP@[area=medium]: 0.0000e+00 - MaP@[area=large]: 4.9050e-04 - Recall@[max_detections=1]: 0.0042 - Recall@[max_detections=10]: 0.0042 - Recall@[max_detections=100]: 0.0042 - Recall@[area=small]: 0.0000e+00 - Recall@[area=medium]: 0.0000e+00 - Recall@[area=large]: 0.0045\n",
            "Epoch 7/10\n",
            "\u001b[1m735/735\u001b[0m \u001b[32m━━━━━━━━━━━━━━━━━━━━\u001b[0m\u001b[37m\u001b[0m \u001b[1m0s\u001b[0m 95ms/step - loss: 1.2212e-04"
          ]
        },
        {
          "name": "stderr",
          "output_type": "stream",
          "text": [
            "2024-06-08 20:31:35.986943: W tensorflow/core/framework/local_rendezvous.cc:404] Local rendezvous is aborting with status: OUT_OF_RANGE: End of sequence\n",
            "\t [[{{node IteratorGetNext}}]]\n",
            "2024-06-08 20:31:35.987436: W tensorflow/core/framework/local_rendezvous.cc:404] Local rendezvous is aborting with status: OUT_OF_RANGE: End of sequence\n",
            "\t [[{{node IteratorGetNext}}]]\n",
            "\t [[IteratorGetNext/_2]]\n",
            "2024-06-08 20:31:39.202064: W tensorflow/core/framework/local_rendezvous.cc:404] Local rendezvous is aborting with status: OUT_OF_RANGE: End of sequence\n",
            "\t [[{{node IteratorGetNext}}]]\n",
            "2024-06-08 20:31:39.202390: W tensorflow/core/framework/local_rendezvous.cc:404] Local rendezvous is aborting with status: OUT_OF_RANGE: End of sequence\n",
            "\t [[{{node IteratorGetNext}}]]\n",
            "\t [[IteratorGetNext/_2]]\n",
            "2024-06-08 20:31:47.215163: W tensorflow/core/framework/local_rendezvous.cc:404] Local rendezvous is aborting with status: OUT_OF_RANGE: End of sequence\n"
          ]
        },
        {
          "name": "stdout",
          "output_type": "stream",
          "text": [
            "\u001b[1m735/735\u001b[0m \u001b[32m━━━━━━━━━━━━━━━━━━━━\u001b[0m\u001b[37m\u001b[0m \u001b[1m82s\u001b[0m 110ms/step - loss: 1.2212e-04 - val_loss: 1.2753e-04 - MaP: 7.2004e-06 - MaP@[IoU=50]: 7.2004e-05 - MaP@[IoU=75]: 0.0000e+00 - MaP@[area=small]: 0.0000e+00 - MaP@[area=medium]: 1.1001e-04 - MaP@[area=large]: 1.0743e-05 - Recall@[max_detections=1]: 6.9396e-05 - Recall@[max_detections=10]: 6.9396e-05 - Recall@[max_detections=100]: 6.9396e-05 - Recall@[area=small]: 0.0000e+00 - Recall@[area=medium]: 8.2305e-05 - Recall@[area=large]: 7.2674e-05\n",
            "Epoch 8/10\n",
            "\u001b[1m735/735\u001b[0m \u001b[32m━━━━━━━━━━━━━━━━━━━━\u001b[0m\u001b[37m\u001b[0m \u001b[1m0s\u001b[0m 95ms/step - loss: 1.2694e-04"
          ]
        },
        {
          "name": "stderr",
          "output_type": "stream",
          "text": [
            "2024-06-08 20:32:58.458112: W tensorflow/core/framework/local_rendezvous.cc:404] Local rendezvous is aborting with status: OUT_OF_RANGE: End of sequence\n",
            "\t [[{{node IteratorGetNext}}]]\n",
            "2024-06-08 20:32:58.458662: W tensorflow/core/framework/local_rendezvous.cc:404] Local rendezvous is aborting with status: OUT_OF_RANGE: End of sequence\n",
            "\t [[{{node IteratorGetNext}}]]\n",
            "\t [[IteratorGetNext/_2]]\n",
            "2024-06-08 20:33:01.770902: W tensorflow/core/framework/local_rendezvous.cc:404] Local rendezvous is aborting with status: OUT_OF_RANGE: End of sequence\n",
            "\t [[{{node IteratorGetNext}}]]\n",
            "2024-06-08 20:33:01.771426: W tensorflow/core/framework/local_rendezvous.cc:404] Local rendezvous is aborting with status: OUT_OF_RANGE: End of sequence\n",
            "\t [[{{node IteratorGetNext}}]]\n",
            "\t [[IteratorGetNext/_2]]\n",
            "2024-06-08 20:33:10.084797: W tensorflow/core/framework/local_rendezvous.cc:404] Local rendezvous is aborting with status: OUT_OF_RANGE: End of sequence\n"
          ]
        },
        {
          "name": "stdout",
          "output_type": "stream",
          "text": [
            "\u001b[1m735/735\u001b[0m \u001b[32m━━━━━━━━━━━━━━━━━━━━\u001b[0m\u001b[37m\u001b[0m \u001b[1m83s\u001b[0m 111ms/step - loss: 1.2694e-04 - val_loss: 1.1980e-04 - MaP: 5.4489e-06 - MaP@[IoU=50]: 3.3593e-05 - MaP@[IoU=75]: 0.0000e+00 - MaP@[area=small]: 0.0000e+00 - MaP@[area=medium]: 1.5119e-04 - MaP@[area=large]: 7.0309e-06 - Recall@[max_detections=1]: 1.9841e-05 - Recall@[max_detections=10]: 7.7381e-04 - Recall@[max_detections=100]: 8.1349e-04 - Recall@[area=small]: 0.0000e+00 - Recall@[area=medium]: 3.7037e-04 - Recall@[area=large]: 0.0012\n",
            "Epoch 9/10\n",
            "\u001b[1m735/735\u001b[0m \u001b[32m━━━━━━━━━━━━━━━━━━━━\u001b[0m\u001b[37m\u001b[0m \u001b[1m0s\u001b[0m 94ms/step - loss: 1.2121e-04"
          ]
        },
        {
          "name": "stderr",
          "output_type": "stream",
          "text": [
            "2024-06-08 20:34:20.653957: W tensorflow/core/framework/local_rendezvous.cc:404] Local rendezvous is aborting with status: OUT_OF_RANGE: End of sequence\n",
            "\t [[{{node IteratorGetNext}}]]\n",
            "2024-06-08 20:34:20.654195: W tensorflow/core/framework/local_rendezvous.cc:404] Local rendezvous is aborting with status: OUT_OF_RANGE: End of sequence\n",
            "\t [[{{node IteratorGetNext}}]]\n",
            "\t [[IteratorGetNext/_2]]\n",
            "2024-06-08 20:34:23.752746: W tensorflow/core/framework/local_rendezvous.cc:404] Local rendezvous is aborting with status: OUT_OF_RANGE: End of sequence\n",
            "\t [[{{node IteratorGetNext}}]]\n",
            "2024-06-08 20:34:23.752862: W tensorflow/core/framework/local_rendezvous.cc:404] Local rendezvous is aborting with status: OUT_OF_RANGE: End of sequence\n",
            "\t [[{{node IteratorGetNext}}]]\n",
            "\t [[IteratorGetNext/_2]]\n",
            "2024-06-08 20:34:31.647107: W tensorflow/core/framework/local_rendezvous.cc:404] Local rendezvous is aborting with status: OUT_OF_RANGE: End of sequence\n"
          ]
        },
        {
          "name": "stdout",
          "output_type": "stream",
          "text": [
            "\u001b[1m735/735\u001b[0m \u001b[32m━━━━━━━━━━━━━━━━━━━━\u001b[0m\u001b[37m\u001b[0m \u001b[1m82s\u001b[0m 110ms/step - loss: 1.2121e-04 - val_loss: 1.3054e-04 - MaP: 4.4305e-05 - MaP@[IoU=50]: 1.7938e-04 - MaP@[IoU=75]: 4.8502e-07 - MaP@[area=small]: 0.0000e+00 - MaP@[area=medium]: 0.0000e+00 - MaP@[area=large]: 4.7986e-05 - Recall@[max_detections=1]: 5.3571e-04 - Recall@[max_detections=10]: 7.9365e-04 - Recall@[max_detections=100]: 0.0012 - Recall@[area=small]: 0.0000e+00 - Recall@[area=medium]: 0.0000e+00 - Recall@[area=large]: 0.0017\n",
            "Epoch 10/10\n",
            "\u001b[1m735/735\u001b[0m \u001b[32m━━━━━━━━━━━━━━━━━━━━\u001b[0m\u001b[37m\u001b[0m \u001b[1m0s\u001b[0m 92ms/step - loss: 1.2087e-04"
          ]
        },
        {
          "name": "stderr",
          "output_type": "stream",
          "text": [
            "2024-06-08 20:35:41.192983: W tensorflow/core/framework/local_rendezvous.cc:404] Local rendezvous is aborting with status: OUT_OF_RANGE: End of sequence\n",
            "\t [[{{node IteratorGetNext}}]]\n",
            "2024-06-08 20:35:41.193480: W tensorflow/core/framework/local_rendezvous.cc:404] Local rendezvous is aborting with status: OUT_OF_RANGE: End of sequence\n",
            "\t [[{{node IteratorGetNext}}]]\n",
            "\t [[IteratorGetNext/_2]]\n",
            "2024-06-08 20:35:44.227825: W tensorflow/core/framework/local_rendezvous.cc:404] Local rendezvous is aborting with status: OUT_OF_RANGE: End of sequence\n",
            "\t [[{{node IteratorGetNext}}]]\n",
            "2024-06-08 20:35:44.228286: W tensorflow/core/framework/local_rendezvous.cc:404] Local rendezvous is aborting with status: OUT_OF_RANGE: End of sequence\n",
            "\t [[{{node IteratorGetNext}}]]\n",
            "\t [[IteratorGetNext/_2]]\n",
            "2024-06-08 20:35:51.931722: W tensorflow/core/framework/local_rendezvous.cc:404] Local rendezvous is aborting with status: OUT_OF_RANGE: End of sequence\n"
          ]
        },
        {
          "name": "stdout",
          "output_type": "stream",
          "text": [
            "\u001b[1m735/735\u001b[0m \u001b[32m━━━━━━━━━━━━━━━━━━━━\u001b[0m\u001b[37m\u001b[0m \u001b[1m80s\u001b[0m 108ms/step - loss: 1.2087e-04 - val_loss: 1.3006e-04 - MaP: 2.9064e-07 - MaP@[IoU=50]: 9.6879e-07 - MaP@[IoU=75]: 0.0000e+00 - MaP@[area=small]: 0.0000e+00 - MaP@[area=medium]: 0.0000e+00 - MaP@[area=large]: 6.1862e-07 - Recall@[max_detections=1]: 7.0258e-05 - Recall@[max_detections=10]: 7.0258e-05 - Recall@[max_detections=100]: 7.0258e-05 - Recall@[area=small]: 0.0000e+00 - Recall@[area=medium]: 0.0000e+00 - Recall@[area=large]: 1.2285e-04\n"
          ]
        },
        {
          "data": {
            "text/plain": [
              "<keras.src.callbacks.history.History at 0x7f0d9d12eb60>"
            ]
          },
          "execution_count": 32,
          "metadata": {},
          "output_type": "execute_result"
        }
      ],
      "source": [
        "optimizer = tf.keras.optimizers.Adam(\n",
        "    learning_rate=0.001,\n",
        "    global_clipnorm = 10.0\n",
        ")\n",
        "\n",
        "model.compile(\n",
        "    optimizer=optimizer, \n",
        "    # classification_loss=\"binary_crossentropy\", \n",
        "    classification_loss=tf.keras.losses.CategoricalCrossentropy(),\n",
        "    box_loss=keras_cv.losses.CIoULoss(\"xyxy\", eps=1e-07)\n",
        ")\n",
        "\n",
        "early_stopping = tf.keras.callbacks.EarlyStopping(\n",
        "    monitor=\"val_loss\",\n",
        "    patience=10,\n",
        "    restore_best_weights=True,\n",
        ")\n",
        "\n",
        "model.fit(train_data, \n",
        "          epochs=10, \n",
        "          validation_data=validation_data,\n",
        "          callbacks=[EvaluateCOCOMetricsCallback(validation_data, \"model.keras\")])"
      ]
    },
    {
      "cell_type": "code",
      "execution_count": 33,
      "metadata": {
        "id": "ZvsmYFgsYa03"
      },
      "outputs": [
        {
          "name": "stdout",
          "output_type": "stream",
          "text": [
            "\u001b[1m34/34\u001b[0m \u001b[32m━━━━━━━━━━━━━━━━━━━━\u001b[0m\u001b[37m\u001b[0m \u001b[1m2s\u001b[0m 38ms/step - loss: 1.3590e-04\n"
          ]
        },
        {
          "name": "stderr",
          "output_type": "stream",
          "text": [
            "2024-06-08 20:35:54.300150: W tensorflow/core/framework/local_rendezvous.cc:404] Local rendezvous is aborting with status: OUT_OF_RANGE: End of sequence\n",
            "\t [[{{node IteratorGetNext}}]]\n",
            "2024-06-08 20:35:54.300440: W tensorflow/core/framework/local_rendezvous.cc:404] Local rendezvous is aborting with status: OUT_OF_RANGE: End of sequence\n",
            "\t [[{{node IteratorGetNext}}]]\n",
            "\t [[IteratorGetNext/_2]]\n",
            "/usr/lib/python3.10/contextlib.py:153: UserWarning: Your input ran out of data; interrupting training. Make sure that your dataset or generator can generate at least `steps_per_epoch * epochs` batches. You may need to use the `.repeat()` function when building your dataset.\n",
            "  self.gen.throw(typ, value, traceback)\n"
          ]
        },
        {
          "data": {
            "text/plain": [
              "0.00013694418885279447"
            ]
          },
          "execution_count": 33,
          "metadata": {},
          "output_type": "execute_result"
        }
      ],
      "source": [
        "model.evaluate(test_data)"
      ]
    },
    {
      "cell_type": "code",
      "execution_count": 34,
      "metadata": {
        "id": "RnUbMjIsYa03"
      },
      "outputs": [
        {
          "name": "stdout",
          "output_type": "stream",
          "text": [
            "\u001b[1m1/1\u001b[0m \u001b[32m━━━━━━━━━━━━━━━━━━━━\u001b[0m\u001b[37m\u001b[0m \u001b[1m0s\u001b[0m 70ms/step\n",
            "{'boxes': array([[[100.75682  ,  -5.0233383, 332.05856  , 184.70065  ],\n",
            "        [371.1575   ,  -4.       , 596.       , 172.       ],\n",
            "        [ 28.45877  ,  99.987495 , 266.73282  , 276.70865  ],\n",
            "        ...,\n",
            "        [ -1.       ,  -1.       ,  -1.       ,  -1.       ],\n",
            "        [ -1.       ,  -1.       ,  -1.       ,  -1.       ],\n",
            "        [ -1.       ,  -1.       ,  -1.       ,  -1.       ]],\n",
            "\n",
            "       [[220.26105  , 195.99954  , 459.99683  , 373.30838  ],\n",
            "        [ 60.27263  , 203.96223  , 292.2705   , 394.00604  ],\n",
            "        [254.77972  , 308.       , 492.       , 484.0002   ],\n",
            "        ...,\n",
            "        [ -1.       ,  -1.       ,  -1.       ,  -1.       ],\n",
            "        [ -1.       ,  -1.       ,  -1.       ,  -1.       ],\n",
            "        [ -1.       ,  -1.       ,  -1.       ,  -1.       ]],\n",
            "\n",
            "       [[148.00018  , 156.00922  , 371.99994  , 393.84335  ],\n",
            "        [ -2.2421494, 163.4391   , 128.18156  , 280.83987  ],\n",
            "        [ -1.       ,  -1.       ,  -1.       ,  -1.       ],\n",
            "        ...,\n",
            "        [ -1.       ,  -1.       ,  -1.       ,  -1.       ],\n",
            "        [ -1.       ,  -1.       ,  -1.       ,  -1.       ],\n",
            "        [ -1.       ,  -1.       ,  -1.       ,  -1.       ]],\n",
            "\n",
            "       [[ -1.       ,  -1.       ,  -1.       ,  -1.       ],\n",
            "        [ -1.       ,  -1.       ,  -1.       ,  -1.       ],\n",
            "        [ -1.       ,  -1.       ,  -1.       ,  -1.       ],\n",
            "        ...,\n",
            "        [ -1.       ,  -1.       ,  -1.       ,  -1.       ],\n",
            "        [ -1.       ,  -1.       ,  -1.       ,  -1.       ],\n",
            "        [ -1.       ,  -1.       ,  -1.       ,  -1.       ]]],\n",
            "      dtype=float32), 'confidence': array([[ 0.73105854,  0.73105854,  0.73105854,  0.73105854,  0.73105854,\n",
            "         0.73105854,  0.73105854,  0.7310585 ,  0.7310585 ,  0.7310585 ,\n",
            "         0.7310585 ,  0.7310584 ,  0.7310497 ,  0.73104167, -1.        ,\n",
            "        -1.        , -1.        , -1.        , -1.        , -1.        ,\n",
            "        -1.        , -1.        , -1.        , -1.        , -1.        ,\n",
            "        -1.        , -1.        , -1.        , -1.        , -1.        ,\n",
            "        -1.        , -1.        , -1.        , -1.        , -1.        ,\n",
            "        -1.        , -1.        , -1.        , -1.        , -1.        ,\n",
            "        -1.        , -1.        , -1.        , -1.        , -1.        ,\n",
            "        -1.        , -1.        , -1.        , -1.        , -1.        ,\n",
            "        -1.        , -1.        , -1.        , -1.        , -1.        ,\n",
            "        -1.        , -1.        , -1.        , -1.        , -1.        ,\n",
            "        -1.        , -1.        , -1.        , -1.        , -1.        ,\n",
            "        -1.        , -1.        , -1.        , -1.        , -1.        ,\n",
            "        -1.        , -1.        , -1.        , -1.        , -1.        ,\n",
            "        -1.        , -1.        , -1.        , -1.        , -1.        ,\n",
            "        -1.        , -1.        , -1.        , -1.        , -1.        ,\n",
            "        -1.        , -1.        , -1.        , -1.        , -1.        ,\n",
            "        -1.        , -1.        , -1.        , -1.        , -1.        ,\n",
            "        -1.        , -1.        , -1.        , -1.        , -1.        ],\n",
            "       [ 0.73105854,  0.73105854,  0.73105854,  0.73105854,  0.7310585 ,\n",
            "         0.73105747,  0.73105043,  0.7310501 ,  0.731047  , -1.        ,\n",
            "        -1.        , -1.        , -1.        , -1.        , -1.        ,\n",
            "        -1.        , -1.        , -1.        , -1.        , -1.        ,\n",
            "        -1.        , -1.        , -1.        , -1.        , -1.        ,\n",
            "        -1.        , -1.        , -1.        , -1.        , -1.        ,\n",
            "        -1.        , -1.        , -1.        , -1.        , -1.        ,\n",
            "        -1.        , -1.        , -1.        , -1.        , -1.        ,\n",
            "        -1.        , -1.        , -1.        , -1.        , -1.        ,\n",
            "        -1.        , -1.        , -1.        , -1.        , -1.        ,\n",
            "        -1.        , -1.        , -1.        , -1.        , -1.        ,\n",
            "        -1.        , -1.        , -1.        , -1.        , -1.        ,\n",
            "        -1.        , -1.        , -1.        , -1.        , -1.        ,\n",
            "        -1.        , -1.        , -1.        , -1.        , -1.        ,\n",
            "        -1.        , -1.        , -1.        , -1.        , -1.        ,\n",
            "        -1.        , -1.        , -1.        , -1.        , -1.        ,\n",
            "        -1.        , -1.        , -1.        , -1.        , -1.        ,\n",
            "        -1.        , -1.        , -1.        , -1.        , -1.        ,\n",
            "        -1.        , -1.        , -1.        , -1.        , -1.        ,\n",
            "        -1.        , -1.        , -1.        , -1.        , -1.        ],\n",
            "       [ 0.7310585 ,  0.7310079 , -1.        , -1.        , -1.        ,\n",
            "        -1.        , -1.        , -1.        , -1.        , -1.        ,\n",
            "        -1.        , -1.        , -1.        , -1.        , -1.        ,\n",
            "        -1.        , -1.        , -1.        , -1.        , -1.        ,\n",
            "        -1.        , -1.        , -1.        , -1.        , -1.        ,\n",
            "        -1.        , -1.        , -1.        , -1.        , -1.        ,\n",
            "        -1.        , -1.        , -1.        , -1.        , -1.        ,\n",
            "        -1.        , -1.        , -1.        , -1.        , -1.        ,\n",
            "        -1.        , -1.        , -1.        , -1.        , -1.        ,\n",
            "        -1.        , -1.        , -1.        , -1.        , -1.        ,\n",
            "        -1.        , -1.        , -1.        , -1.        , -1.        ,\n",
            "        -1.        , -1.        , -1.        , -1.        , -1.        ,\n",
            "        -1.        , -1.        , -1.        , -1.        , -1.        ,\n",
            "        -1.        , -1.        , -1.        , -1.        , -1.        ,\n",
            "        -1.        , -1.        , -1.        , -1.        , -1.        ,\n",
            "        -1.        , -1.        , -1.        , -1.        , -1.        ,\n",
            "        -1.        , -1.        , -1.        , -1.        , -1.        ,\n",
            "        -1.        , -1.        , -1.        , -1.        , -1.        ,\n",
            "        -1.        , -1.        , -1.        , -1.        , -1.        ,\n",
            "        -1.        , -1.        , -1.        , -1.        , -1.        ],\n",
            "       [-1.        , -1.        , -1.        , -1.        , -1.        ,\n",
            "        -1.        , -1.        , -1.        , -1.        , -1.        ,\n",
            "        -1.        , -1.        , -1.        , -1.        , -1.        ,\n",
            "        -1.        , -1.        , -1.        , -1.        , -1.        ,\n",
            "        -1.        , -1.        , -1.        , -1.        , -1.        ,\n",
            "        -1.        , -1.        , -1.        , -1.        , -1.        ,\n",
            "        -1.        , -1.        , -1.        , -1.        , -1.        ,\n",
            "        -1.        , -1.        , -1.        , -1.        , -1.        ,\n",
            "        -1.        , -1.        , -1.        , -1.        , -1.        ,\n",
            "        -1.        , -1.        , -1.        , -1.        , -1.        ,\n",
            "        -1.        , -1.        , -1.        , -1.        , -1.        ,\n",
            "        -1.        , -1.        , -1.        , -1.        , -1.        ,\n",
            "        -1.        , -1.        , -1.        , -1.        , -1.        ,\n",
            "        -1.        , -1.        , -1.        , -1.        , -1.        ,\n",
            "        -1.        , -1.        , -1.        , -1.        , -1.        ,\n",
            "        -1.        , -1.        , -1.        , -1.        , -1.        ,\n",
            "        -1.        , -1.        , -1.        , -1.        , -1.        ,\n",
            "        -1.        , -1.        , -1.        , -1.        , -1.        ,\n",
            "        -1.        , -1.        , -1.        , -1.        , -1.        ,\n",
            "        -1.        , -1.        , -1.        , -1.        , -1.        ]],\n",
            "      dtype=float32), 'classes': array([[31, 26, 31, 26, 26, 31, 26, 31, 31, 26, 26, 31, 10, 31, -1, -1,\n",
            "        -1, -1, -1, -1, -1, -1, -1, -1, -1, -1, -1, -1, -1, -1, -1, -1,\n",
            "        -1, -1, -1, -1, -1, -1, -1, -1, -1, -1, -1, -1, -1, -1, -1, -1,\n",
            "        -1, -1, -1, -1, -1, -1, -1, -1, -1, -1, -1, -1, -1, -1, -1, -1,\n",
            "        -1, -1, -1, -1, -1, -1, -1, -1, -1, -1, -1, -1, -1, -1, -1, -1,\n",
            "        -1, -1, -1, -1, -1, -1, -1, -1, -1, -1, -1, -1, -1, -1, -1, -1,\n",
            "        -1, -1, -1, -1],\n",
            "       [31, 31, 31, 31, 26, 31, 31, 31, 26, -1, -1, -1, -1, -1, -1, -1,\n",
            "        -1, -1, -1, -1, -1, -1, -1, -1, -1, -1, -1, -1, -1, -1, -1, -1,\n",
            "        -1, -1, -1, -1, -1, -1, -1, -1, -1, -1, -1, -1, -1, -1, -1, -1,\n",
            "        -1, -1, -1, -1, -1, -1, -1, -1, -1, -1, -1, -1, -1, -1, -1, -1,\n",
            "        -1, -1, -1, -1, -1, -1, -1, -1, -1, -1, -1, -1, -1, -1, -1, -1,\n",
            "        -1, -1, -1, -1, -1, -1, -1, -1, -1, -1, -1, -1, -1, -1, -1, -1,\n",
            "        -1, -1, -1, -1],\n",
            "       [26, 26, -1, -1, -1, -1, -1, -1, -1, -1, -1, -1, -1, -1, -1, -1,\n",
            "        -1, -1, -1, -1, -1, -1, -1, -1, -1, -1, -1, -1, -1, -1, -1, -1,\n",
            "        -1, -1, -1, -1, -1, -1, -1, -1, -1, -1, -1, -1, -1, -1, -1, -1,\n",
            "        -1, -1, -1, -1, -1, -1, -1, -1, -1, -1, -1, -1, -1, -1, -1, -1,\n",
            "        -1, -1, -1, -1, -1, -1, -1, -1, -1, -1, -1, -1, -1, -1, -1, -1,\n",
            "        -1, -1, -1, -1, -1, -1, -1, -1, -1, -1, -1, -1, -1, -1, -1, -1,\n",
            "        -1, -1, -1, -1],\n",
            "       [-1, -1, -1, -1, -1, -1, -1, -1, -1, -1, -1, -1, -1, -1, -1, -1,\n",
            "        -1, -1, -1, -1, -1, -1, -1, -1, -1, -1, -1, -1, -1, -1, -1, -1,\n",
            "        -1, -1, -1, -1, -1, -1, -1, -1, -1, -1, -1, -1, -1, -1, -1, -1,\n",
            "        -1, -1, -1, -1, -1, -1, -1, -1, -1, -1, -1, -1, -1, -1, -1, -1,\n",
            "        -1, -1, -1, -1, -1, -1, -1, -1, -1, -1, -1, -1, -1, -1, -1, -1,\n",
            "        -1, -1, -1, -1, -1, -1, -1, -1, -1, -1, -1, -1, -1, -1, -1, -1,\n",
            "        -1, -1, -1, -1]], dtype=int32), 'num_detections': array([14,  9,  2,  0], dtype=int32)}\n"
          ]
        },
        {
          "name": "stderr",
          "output_type": "stream",
          "text": [
            "2024-06-08 20:35:55.287605: W tensorflow/core/framework/local_rendezvous.cc:404] Local rendezvous is aborting with status: OUT_OF_RANGE: End of sequence\n"
          ]
        },
        {
          "data": {
            "image/png": "[encoded data removed]",
            "text/plain": [
              "<Figure size 360x360 with 1 Axes>"
            ]
          },
          "metadata": {
            "needs_background": "light"
          },
          "output_type": "display_data"
        }
      ],
      "source": [
        "for result in test_data.take(1):\n",
        "    y_pred = model.predict(result[0])\n",
        "    print(y_pred)\n",
        "    visualization.plot_bounding_box_gallery(\n",
        "        result[0],\n",
        "        value_range=(0, 255),\n",
        "        rows=1,\n",
        "        cols=1,\n",
        "        scale=5,\n",
        "        bounding_box_format='xyxy',\n",
        "        y_pred=y_pred,\n",
        "        y_true=result[1]\n",
        "    )"
      ]
    },
    {
      "cell_type": "code",
      "execution_count": 35,
      "metadata": {},
      "outputs": [
        {
          "name": "stdout",
          "output_type": "stream",
          "text": [
            "INFO:tensorflow:Assets written to: /mnt/c/Tugas Raihan/Kuliah/Matkul/Semester 6/Bangkit/Machine-Learning-Capstone/model/assets\n"
          ]
        },
        {
          "name": "stderr",
          "output_type": "stream",
          "text": [
            "INFO:tensorflow:Assets written to: /mnt/c/Tugas Raihan/Kuliah/Matkul/Semester 6/Bangkit/Machine-Learning-Capstone/model/assets\n"
          ]
        },
        {
          "name": "stdout",
          "output_type": "stream",
          "text": [
            "Saved artifact at '/mnt/c/Tugas Raihan/Kuliah/Matkul/Semester 6/Bangkit/Machine-Learning-Capstone/model'. The following endpoints are available:\n",
            "\n",
            "* Endpoint 'serve'\n",
            "  args_0 (POSITIONAL_ONLY): TensorSpec(shape=(None, None, None, 3), dtype=tf.float32, name='keras_tensor_677')\n",
            "Output Type:\n",
            "  Dict[['boxes', TensorSpec(shape=(None, None, 64), dtype=tf.float32, name=None)], ['classes', TensorSpec(shape=(None, None, 38), dtype=tf.float32, name=None)]]\n",
            "Captures:\n",
            "  139695975897872: TensorSpec(shape=(), dtype=tf.resource, name=None)\n",
            "  139695975893824: TensorSpec(shape=(), dtype=tf.resource, name=None)\n",
            "  139695975901568: TensorSpec(shape=(), dtype=tf.resource, name=None)\n",
            "  139695975898928: TensorSpec(shape=(), dtype=tf.resource, name=None)\n",
            "  139695975899808: TensorSpec(shape=(), dtype=tf.resource, name=None)\n",
            "  139695975906144: TensorSpec(shape=(), dtype=tf.resource, name=None)\n",
            "  139695975760640: TensorSpec(shape=(), dtype=tf.resource, name=None)\n",
            "  139695975761168: TensorSpec(shape=(), dtype=tf.resource, name=None)\n",
            "  139695975905440: TensorSpec(shape=(), dtype=tf.resource, name=None)\n",
            "  139695975759936: TensorSpec(shape=(), dtype=tf.resource, name=None)\n",
            "  139695975765392: TensorSpec(shape=(), dtype=tf.resource, name=None)\n",
            "  139695975765040: TensorSpec(shape=(), dtype=tf.resource, name=None)\n",
            "  139695975769440: TensorSpec(shape=(), dtype=tf.resource, name=None)\n",
            "  139695975766800: TensorSpec(shape=(), dtype=tf.resource, name=None)\n",
            "  139695975767680: TensorSpec(shape=(), dtype=tf.resource, name=None)\n",
            "  139695975774544: TensorSpec(shape=(), dtype=tf.resource, name=None)\n",
            "  139695975121136: TensorSpec(shape=(), dtype=tf.resource, name=None)\n",
            "  139695975123248: TensorSpec(shape=(), dtype=tf.resource, name=None)\n",
            "  139695975775072: TensorSpec(shape=(), dtype=tf.resource, name=None)\n",
            "  139695975773136: TensorSpec(shape=(), dtype=tf.resource, name=None)\n",
            "  139695975127120: TensorSpec(shape=(), dtype=tf.resource, name=None)\n",
            "  139695975126768: TensorSpec(shape=(), dtype=tf.resource, name=None)\n",
            "  139695975130992: TensorSpec(shape=(), dtype=tf.resource, name=None)\n",
            "  139695975128352: TensorSpec(shape=(), dtype=tf.resource, name=None)\n",
            "  139695975129232: TensorSpec(shape=(), dtype=tf.resource, name=None)\n",
            "  139695975134864: TensorSpec(shape=(), dtype=tf.resource, name=None)\n",
            "  139695975135040: TensorSpec(shape=(), dtype=tf.resource, name=None)\n",
            "  139696457729120: TensorSpec(shape=(), dtype=tf.resource, name=None)\n",
            "  139695975135392: TensorSpec(shape=(), dtype=tf.resource, name=None)\n",
            "  139695975134160: TensorSpec(shape=(), dtype=tf.resource, name=None)\n",
            "  139696457733520: TensorSpec(shape=(), dtype=tf.resource, name=None)\n",
            "  139696457733168: TensorSpec(shape=(), dtype=tf.resource, name=None)\n",
            "  139696457737392: TensorSpec(shape=(), dtype=tf.resource, name=None)\n",
            "  139696457734752: TensorSpec(shape=(), dtype=tf.resource, name=None)\n",
            "  139696457735632: TensorSpec(shape=(), dtype=tf.resource, name=None)\n",
            "  139696457741088: TensorSpec(shape=(), dtype=tf.resource, name=None)\n",
            "  139696457740560: TensorSpec(shape=(), dtype=tf.resource, name=None)\n",
            "  139696457741616: TensorSpec(shape=(), dtype=tf.resource, name=None)\n",
            "  139696457741792: TensorSpec(shape=(), dtype=tf.resource, name=None)\n",
            "  139696457742672: TensorSpec(shape=(), dtype=tf.resource, name=None)\n",
            "  139696457355984: TensorSpec(shape=(), dtype=tf.resource, name=None)\n",
            "  139696457355632: TensorSpec(shape=(), dtype=tf.resource, name=None)\n",
            "  139696457359856: TensorSpec(shape=(), dtype=tf.resource, name=None)\n",
            "  139696457357216: TensorSpec(shape=(), dtype=tf.resource, name=None)\n",
            "  139696457358096: TensorSpec(shape=(), dtype=tf.resource, name=None)\n",
            "  139696457364256: TensorSpec(shape=(), dtype=tf.resource, name=None)\n",
            "  139696457358800: TensorSpec(shape=(), dtype=tf.resource, name=None)\n",
            "  139696457365312: TensorSpec(shape=(), dtype=tf.resource, name=None)\n",
            "  139696457365488: TensorSpec(shape=(), dtype=tf.resource, name=None)\n",
            "  139696457366368: TensorSpec(shape=(), dtype=tf.resource, name=None)\n",
            "  139696457716784: TensorSpec(shape=(), dtype=tf.resource, name=None)\n",
            "  139696457716432: TensorSpec(shape=(), dtype=tf.resource, name=None)\n",
            "  139696457720656: TensorSpec(shape=(), dtype=tf.resource, name=None)\n",
            "  139696457718016: TensorSpec(shape=(), dtype=tf.resource, name=None)\n",
            "  139696457718896: TensorSpec(shape=(), dtype=tf.resource, name=None)\n",
            "  139696457725056: TensorSpec(shape=(), dtype=tf.resource, name=None)\n",
            "  139696457725760: TensorSpec(shape=(), dtype=tf.resource, name=None)\n",
            "  139696457778272: TensorSpec(shape=(), dtype=tf.resource, name=None)\n",
            "  139696457726112: TensorSpec(shape=(), dtype=tf.resource, name=None)\n",
            "  139696457724880: TensorSpec(shape=(), dtype=tf.resource, name=None)\n",
            "  139696457782144: TensorSpec(shape=(), dtype=tf.resource, name=None)\n",
            "  139696457781616: TensorSpec(shape=(), dtype=tf.resource, name=None)\n",
            "  139696457785488: TensorSpec(shape=(), dtype=tf.resource, name=None)\n",
            "  139696457782848: TensorSpec(shape=(), dtype=tf.resource, name=None)\n",
            "  139696457783728: TensorSpec(shape=(), dtype=tf.resource, name=None)\n",
            "  139696457789888: TensorSpec(shape=(), dtype=tf.resource, name=None)\n",
            "  139696457789536: TensorSpec(shape=(), dtype=tf.resource, name=None)\n",
            "  139696457790944: TensorSpec(shape=(), dtype=tf.resource, name=None)\n",
            "  139696457791120: TensorSpec(shape=(), dtype=tf.resource, name=None)\n",
            "  139696457792000: TensorSpec(shape=(), dtype=tf.resource, name=None)\n",
            "  139696457256976: TensorSpec(shape=(), dtype=tf.resource, name=None)\n",
            "  139696457256448: TensorSpec(shape=(), dtype=tf.resource, name=None)\n",
            "  139696457260320: TensorSpec(shape=(), dtype=tf.resource, name=None)\n",
            "  139696457257680: TensorSpec(shape=(), dtype=tf.resource, name=None)\n",
            "  139696457258560: TensorSpec(shape=(), dtype=tf.resource, name=None)\n",
            "  139696457264896: TensorSpec(shape=(), dtype=tf.resource, name=None)\n",
            "  139696457264544: TensorSpec(shape=(), dtype=tf.resource, name=None)\n",
            "  139696457268768: TensorSpec(shape=(), dtype=tf.resource, name=None)\n",
            "  139696457266128: TensorSpec(shape=(), dtype=tf.resource, name=None)\n",
            "  139696457267008: TensorSpec(shape=(), dtype=tf.resource, name=None)\n",
            "  139696457142288: TensorSpec(shape=(), dtype=tf.resource, name=None)\n",
            "  139696457141936: TensorSpec(shape=(), dtype=tf.resource, name=None)\n",
            "  139696457146160: TensorSpec(shape=(), dtype=tf.resource, name=None)\n",
            "  139696457143520: TensorSpec(shape=(), dtype=tf.resource, name=None)\n",
            "  139696457144400: TensorSpec(shape=(), dtype=tf.resource, name=None)\n",
            "  139696457150560: TensorSpec(shape=(), dtype=tf.resource, name=None)\n",
            "  139696457150208: TensorSpec(shape=(), dtype=tf.resource, name=None)\n",
            "  139696457151616: TensorSpec(shape=(), dtype=tf.resource, name=None)\n",
            "  139696457151792: TensorSpec(shape=(), dtype=tf.resource, name=None)\n",
            "  139696457152672: TensorSpec(shape=(), dtype=tf.resource, name=None)\n",
            "  139696457027952: TensorSpec(shape=(), dtype=tf.resource, name=None)\n",
            "  139696457027600: TensorSpec(shape=(), dtype=tf.resource, name=None)\n",
            "  139696457031824: TensorSpec(shape=(), dtype=tf.resource, name=None)\n",
            "  139696457029184: TensorSpec(shape=(), dtype=tf.resource, name=None)\n",
            "  139696457030064: TensorSpec(shape=(), dtype=tf.resource, name=None)\n",
            "  139696457035696: TensorSpec(shape=(), dtype=tf.resource, name=None)\n",
            "  139696457035168: TensorSpec(shape=(), dtype=tf.resource, name=None)\n",
            "  139696457039040: TensorSpec(shape=(), dtype=tf.resource, name=None)\n",
            "  139696457036400: TensorSpec(shape=(), dtype=tf.resource, name=None)\n",
            "  139696457037280: TensorSpec(shape=(), dtype=tf.resource, name=None)\n",
            "  139696456978096: TensorSpec(shape=(), dtype=tf.resource, name=None)\n",
            "  139696456977744: TensorSpec(shape=(), dtype=tf.resource, name=None)\n",
            "  139696456981968: TensorSpec(shape=(), dtype=tf.resource, name=None)\n",
            "  139696456979328: TensorSpec(shape=(), dtype=tf.resource, name=None)\n",
            "  139696456980208: TensorSpec(shape=(), dtype=tf.resource, name=None)\n",
            "  139696456985664: TensorSpec(shape=(), dtype=tf.resource, name=None)\n",
            "  139696456985136: TensorSpec(shape=(), dtype=tf.resource, name=None)\n",
            "  139696456989008: TensorSpec(shape=(), dtype=tf.resource, name=None)\n",
            "  139696456986368: TensorSpec(shape=(), dtype=tf.resource, name=None)\n",
            "  139696456987248: TensorSpec(shape=(), dtype=tf.resource, name=None)\n",
            "  139696456895472: TensorSpec(shape=(), dtype=tf.resource, name=None)\n",
            "  139696456895120: TensorSpec(shape=(), dtype=tf.resource, name=None)\n",
            "  139696456899344: TensorSpec(shape=(), dtype=tf.resource, name=None)\n",
            "  139696456896704: TensorSpec(shape=(), dtype=tf.resource, name=None)\n",
            "  139696456897584: TensorSpec(shape=(), dtype=tf.resource, name=None)\n",
            "  139696456903744: TensorSpec(shape=(), dtype=tf.resource, name=None)\n",
            "  139696456903392: TensorSpec(shape=(), dtype=tf.resource, name=None)\n",
            "  139696456907616: TensorSpec(shape=(), dtype=tf.resource, name=None)\n",
            "  139696456904976: TensorSpec(shape=(), dtype=tf.resource, name=None)\n",
            "  139696456905856: TensorSpec(shape=(), dtype=tf.resource, name=None)\n",
            "  139696457681200: TensorSpec(shape=(), dtype=tf.resource, name=None)\n",
            "  139696457680848: TensorSpec(shape=(), dtype=tf.resource, name=None)\n",
            "  139696457685072: TensorSpec(shape=(), dtype=tf.resource, name=None)\n",
            "  139696457682432: TensorSpec(shape=(), dtype=tf.resource, name=None)\n",
            "  139696457683312: TensorSpec(shape=(), dtype=tf.resource, name=None)\n",
            "  139696457688768: TensorSpec(shape=(), dtype=tf.resource, name=None)\n",
            "  139696457688240: TensorSpec(shape=(), dtype=tf.resource, name=None)\n",
            "  139696457692112: TensorSpec(shape=(), dtype=tf.resource, name=None)\n",
            "  139696457689472: TensorSpec(shape=(), dtype=tf.resource, name=None)\n",
            "  139696457690352: TensorSpec(shape=(), dtype=tf.resource, name=None)\n",
            "  139696457437728: TensorSpec(shape=(), dtype=tf.resource, name=None)\n",
            "  139696457437200: TensorSpec(shape=(), dtype=tf.resource, name=None)\n",
            "  139696457441072: TensorSpec(shape=(), dtype=tf.resource, name=None)\n",
            "  139696457438432: TensorSpec(shape=(), dtype=tf.resource, name=None)\n",
            "  139696457439312: TensorSpec(shape=(), dtype=tf.resource, name=None)\n",
            "  139696457448112: TensorSpec(shape=(), dtype=tf.resource, name=None)\n",
            "  139693818593872: TensorSpec(shape=(), dtype=tf.resource, name=None)\n",
            "  139693818595984: TensorSpec(shape=(), dtype=tf.resource, name=None)\n",
            "  139696457448288: TensorSpec(shape=(), dtype=tf.resource, name=None)\n",
            "  139693818593696: TensorSpec(shape=(), dtype=tf.resource, name=None)\n",
            "  139693818600032: TensorSpec(shape=(), dtype=tf.resource, name=None)\n",
            "  139693818599680: TensorSpec(shape=(), dtype=tf.resource, name=None)\n",
            "  139693818603904: TensorSpec(shape=(), dtype=tf.resource, name=None)\n",
            "  139693818601264: TensorSpec(shape=(), dtype=tf.resource, name=None)\n",
            "  139693818602144: TensorSpec(shape=(), dtype=tf.resource, name=None)\n",
            "  139693818608304: TensorSpec(shape=(), dtype=tf.resource, name=None)\n",
            "  139693818284688: TensorSpec(shape=(), dtype=tf.resource, name=None)\n",
            "  139693818282400: TensorSpec(shape=(), dtype=tf.resource, name=None)\n",
            "  139693818283632: TensorSpec(shape=(), dtype=tf.resource, name=None)\n",
            "  139693818282048: TensorSpec(shape=(), dtype=tf.resource, name=None)\n",
            "  139693818289088: TensorSpec(shape=(), dtype=tf.resource, name=None)\n",
            "  139693818288736: TensorSpec(shape=(), dtype=tf.resource, name=None)\n",
            "  139693818292960: TensorSpec(shape=(), dtype=tf.resource, name=None)\n",
            "  139693818290320: TensorSpec(shape=(), dtype=tf.resource, name=None)\n",
            "  139693818291200: TensorSpec(shape=(), dtype=tf.resource, name=None)\n",
            "  139693818297360: TensorSpec(shape=(), dtype=tf.resource, name=None)\n",
            "  139693818072048: TensorSpec(shape=(), dtype=tf.resource, name=None)\n",
            "  139693818069584: TensorSpec(shape=(), dtype=tf.resource, name=None)\n",
            "  139693818069056: TensorSpec(shape=(), dtype=tf.resource, name=None)\n",
            "  139693818069232: TensorSpec(shape=(), dtype=tf.resource, name=None)\n",
            "  139693818075920: TensorSpec(shape=(), dtype=tf.resource, name=None)\n",
            "  139693818075392: TensorSpec(shape=(), dtype=tf.resource, name=None)\n",
            "  139693818079264: TensorSpec(shape=(), dtype=tf.resource, name=None)\n",
            "  139693818076624: TensorSpec(shape=(), dtype=tf.resource, name=None)\n",
            "  139693818077504: TensorSpec(shape=(), dtype=tf.resource, name=None)\n",
            "  139693818083488: TensorSpec(shape=(), dtype=tf.resource, name=None)\n",
            "  139693817692224: TensorSpec(shape=(), dtype=tf.resource, name=None)\n",
            "  139693817694336: TensorSpec(shape=(), dtype=tf.resource, name=None)\n",
            "  139693818084016: TensorSpec(shape=(), dtype=tf.resource, name=None)\n",
            "  139693818083664: TensorSpec(shape=(), dtype=tf.resource, name=None)\n",
            "  139693817698384: TensorSpec(shape=(), dtype=tf.resource, name=None)\n",
            "  139693817698032: TensorSpec(shape=(), dtype=tf.resource, name=None)\n",
            "  139693817702256: TensorSpec(shape=(), dtype=tf.resource, name=None)\n",
            "  139693817699616: TensorSpec(shape=(), dtype=tf.resource, name=None)\n",
            "  139693817700496: TensorSpec(shape=(), dtype=tf.resource, name=None)\n",
            "  139693817706656: TensorSpec(shape=(), dtype=tf.resource, name=None)\n",
            "  139693818266192: TensorSpec(shape=(), dtype=tf.resource, name=None)\n",
            "  139693818268304: TensorSpec(shape=(), dtype=tf.resource, name=None)\n",
            "  139693817707360: TensorSpec(shape=(), dtype=tf.resource, name=None)\n",
            "  139693818266016: TensorSpec(shape=(), dtype=tf.resource, name=None)\n",
            "  139693818272176: TensorSpec(shape=(), dtype=tf.resource, name=None)\n",
            "  139693818271824: TensorSpec(shape=(), dtype=tf.resource, name=None)\n",
            "  139693818276048: TensorSpec(shape=(), dtype=tf.resource, name=None)\n",
            "  139693818273408: TensorSpec(shape=(), dtype=tf.resource, name=None)\n",
            "  139693818274288: TensorSpec(shape=(), dtype=tf.resource, name=None)\n",
            "  139693818280448: TensorSpec(shape=(), dtype=tf.resource, name=None)\n",
            "  139693818137056: TensorSpec(shape=(), dtype=tf.resource, name=None)\n",
            "  139693818135296: TensorSpec(shape=(), dtype=tf.resource, name=None)\n",
            "  139693818279568: TensorSpec(shape=(), dtype=tf.resource, name=None)\n",
            "  139693818134592: TensorSpec(shape=(), dtype=tf.resource, name=None)\n",
            "  139693818140928: TensorSpec(shape=(), dtype=tf.resource, name=None)\n",
            "  139693818140400: TensorSpec(shape=(), dtype=tf.resource, name=None)\n",
            "  139693818144272: TensorSpec(shape=(), dtype=tf.resource, name=None)\n",
            "  139693818141632: TensorSpec(shape=(), dtype=tf.resource, name=None)\n",
            "  139693818142512: TensorSpec(shape=(), dtype=tf.resource, name=None)\n",
            "  139693818148672: TensorSpec(shape=(), dtype=tf.resource, name=None)\n",
            "  139693817741552: TensorSpec(shape=(), dtype=tf.resource, name=None)\n",
            "  139693817743664: TensorSpec(shape=(), dtype=tf.resource, name=None)\n",
            "  139693818149728: TensorSpec(shape=(), dtype=tf.resource, name=None)\n",
            "  139693818147792: TensorSpec(shape=(), dtype=tf.resource, name=None)\n",
            "  139693817747008: TensorSpec(shape=(), dtype=tf.resource, name=None)\n",
            "  139693817746480: TensorSpec(shape=(), dtype=tf.resource, name=None)\n",
            "  139693817750352: TensorSpec(shape=(), dtype=tf.resource, name=None)\n",
            "  139693817747712: TensorSpec(shape=(), dtype=tf.resource, name=None)\n",
            "  139693817748592: TensorSpec(shape=(), dtype=tf.resource, name=None)\n",
            "  139693817754928: TensorSpec(shape=(), dtype=tf.resource, name=None)\n",
            "  139693817755632: TensorSpec(shape=(), dtype=tf.resource, name=None)\n",
            "  139693817660688: TensorSpec(shape=(), dtype=tf.resource, name=None)\n",
            "  139693817755984: TensorSpec(shape=(), dtype=tf.resource, name=None)\n",
            "  139693817754752: TensorSpec(shape=(), dtype=tf.resource, name=None)\n",
            "  139693817665088: TensorSpec(shape=(), dtype=tf.resource, name=None)\n",
            "  139693817664736: TensorSpec(shape=(), dtype=tf.resource, name=None)\n",
            "  139693817668960: TensorSpec(shape=(), dtype=tf.resource, name=None)\n",
            "  139693817666320: TensorSpec(shape=(), dtype=tf.resource, name=None)\n",
            "  139693817667200: TensorSpec(shape=(), dtype=tf.resource, name=None)\n",
            "  139693817673360: TensorSpec(shape=(), dtype=tf.resource, name=None)\n",
            "  139693817593920: TensorSpec(shape=(), dtype=tf.resource, name=None)\n",
            "  139693817596032: TensorSpec(shape=(), dtype=tf.resource, name=None)\n",
            "  139693817674416: TensorSpec(shape=(), dtype=tf.resource, name=None)\n",
            "  139693817674064: TensorSpec(shape=(), dtype=tf.resource, name=None)\n",
            "  139693817599904: TensorSpec(shape=(), dtype=tf.resource, name=None)\n",
            "  139693817599552: TensorSpec(shape=(), dtype=tf.resource, name=None)\n",
            "  139693817603776: TensorSpec(shape=(), dtype=tf.resource, name=None)\n",
            "  139693817601136: TensorSpec(shape=(), dtype=tf.resource, name=None)\n",
            "  139693817602016: TensorSpec(shape=(), dtype=tf.resource, name=None)\n",
            "  139693817607648: TensorSpec(shape=(), dtype=tf.resource, name=None)\n",
            "  139693817607120: TensorSpec(shape=(), dtype=tf.resource, name=None)\n",
            "  139693817607824: TensorSpec(shape=(), dtype=tf.resource, name=None)\n",
            "  139693817608352: TensorSpec(shape=(), dtype=tf.resource, name=None)\n",
            "  139693817609232: TensorSpec(shape=(), dtype=tf.resource, name=None)\n",
            "  139693818320096: TensorSpec(shape=(), dtype=tf.resource, name=None)\n",
            "  139693818319744: TensorSpec(shape=(), dtype=tf.resource, name=None)\n",
            "  139693818323968: TensorSpec(shape=(), dtype=tf.resource, name=None)\n",
            "  139693818321328: TensorSpec(shape=(), dtype=tf.resource, name=None)\n",
            "  139693818322208: TensorSpec(shape=(), dtype=tf.resource, name=None)\n",
            "  139693818327840: TensorSpec(shape=(), dtype=tf.resource, name=None)\n",
            "  139693818327312: TensorSpec(shape=(), dtype=tf.resource, name=None)\n",
            "  139693818328368: TensorSpec(shape=(), dtype=tf.resource, name=None)\n",
            "  139693818328544: TensorSpec(shape=(), dtype=tf.resource, name=None)\n",
            "  139693818329424: TensorSpec(shape=(), dtype=tf.resource, name=None)\n",
            "  139693865587408: TensorSpec(shape=(), dtype=tf.resource, name=None)\n",
            "  139693865587056: TensorSpec(shape=(), dtype=tf.resource, name=None)\n",
            "  139693865591280: TensorSpec(shape=(), dtype=tf.resource, name=None)\n",
            "  139693865588640: TensorSpec(shape=(), dtype=tf.resource, name=None)\n",
            "  139693865589520: TensorSpec(shape=(), dtype=tf.resource, name=None)\n",
            "  139693865595680: TensorSpec(shape=(), dtype=tf.resource, name=None)\n",
            "  139693865590224: TensorSpec(shape=(), dtype=tf.resource, name=None)\n",
            "  139693865596736: TensorSpec(shape=(), dtype=tf.resource, name=None)\n",
            "  139693865596912: TensorSpec(shape=(), dtype=tf.resource, name=None)\n",
            "  139693865597792: TensorSpec(shape=(), dtype=tf.resource, name=None)\n",
            "  139693865669680: TensorSpec(shape=(), dtype=tf.resource, name=None)\n",
            "  139693865669328: TensorSpec(shape=(), dtype=tf.resource, name=None)\n",
            "  139693865673552: TensorSpec(shape=(), dtype=tf.resource, name=None)\n",
            "  139693865670912: TensorSpec(shape=(), dtype=tf.resource, name=None)\n",
            "  139693865671792: TensorSpec(shape=(), dtype=tf.resource, name=None)\n",
            "  139693865677952: TensorSpec(shape=(), dtype=tf.resource, name=None)\n",
            "  139693865678656: TensorSpec(shape=(), dtype=tf.resource, name=None)\n",
            "  139693865616480: TensorSpec(shape=(), dtype=tf.resource, name=None)\n",
            "  139693865679008: TensorSpec(shape=(), dtype=tf.resource, name=None)\n",
            "  139693865677776: TensorSpec(shape=(), dtype=tf.resource, name=None)\n",
            "  139693865620352: TensorSpec(shape=(), dtype=tf.resource, name=None)\n",
            "  139693865619824: TensorSpec(shape=(), dtype=tf.resource, name=None)\n",
            "  139693865623696: TensorSpec(shape=(), dtype=tf.resource, name=None)\n",
            "  139693865621056: TensorSpec(shape=(), dtype=tf.resource, name=None)\n",
            "  139693865621936: TensorSpec(shape=(), dtype=tf.resource, name=None)\n",
            "  139693865761808: TensorSpec(shape=(), dtype=tf.resource, name=None)\n",
            "  139693865492976: TensorSpec(shape=(), dtype=tf.resource, name=None)\n",
            "  139693865103808: TensorSpec(shape=(), dtype=tf.resource, name=None)\n",
            "  139693865255856: TensorSpec(shape=(), dtype=tf.resource, name=None)\n",
            "  139693865257792: TensorSpec(shape=(), dtype=tf.resource, name=None)\n",
            "  139693865256912: TensorSpec(shape=(), dtype=tf.resource, name=None)\n",
            "  139693865257264: TensorSpec(shape=(), dtype=tf.resource, name=None)\n",
            "  139693865089008: TensorSpec(shape=(), dtype=tf.resource, name=None)\n",
            "  139693865492448: TensorSpec(shape=(), dtype=tf.resource, name=None)\n",
            "  139693865496320: TensorSpec(shape=(), dtype=tf.resource, name=None)\n",
            "  139693865493680: TensorSpec(shape=(), dtype=tf.resource, name=None)\n",
            "  139693865494560: TensorSpec(shape=(), dtype=tf.resource, name=None)\n",
            "  139693865391680: TensorSpec(shape=(), dtype=tf.resource, name=None)\n",
            "  139693865209168: TensorSpec(shape=(), dtype=tf.resource, name=None)\n",
            "  139693865206528: TensorSpec(shape=(), dtype=tf.resource, name=None)\n",
            "  139693865206880: TensorSpec(shape=(), dtype=tf.resource, name=None)\n",
            "  139693865208112: TensorSpec(shape=(), dtype=tf.resource, name=None)\n",
            "  139693865628096: TensorSpec(shape=(), dtype=tf.resource, name=None)\n",
            "  139693865090768: TensorSpec(shape=(), dtype=tf.resource, name=None)\n",
            "  139693865748432: TensorSpec(shape=(), dtype=tf.resource, name=None)\n",
            "  139693865089536: TensorSpec(shape=(), dtype=tf.resource, name=None)\n",
            "  139693865089184: TensorSpec(shape=(), dtype=tf.resource, name=None)\n",
            "  139693865391152: TensorSpec(shape=(), dtype=tf.resource, name=None)\n",
            "  139693865395024: TensorSpec(shape=(), dtype=tf.resource, name=None)\n",
            "  139693865392384: TensorSpec(shape=(), dtype=tf.resource, name=None)\n",
            "  139693865393264: TensorSpec(shape=(), dtype=tf.resource, name=None)\n",
            "  139693865627744: TensorSpec(shape=(), dtype=tf.resource, name=None)\n",
            "  139693865629152: TensorSpec(shape=(), dtype=tf.resource, name=None)\n",
            "  139693865629328: TensorSpec(shape=(), dtype=tf.resource, name=None)\n",
            "  139693865630208: TensorSpec(shape=(), dtype=tf.resource, name=None)\n",
            "  139693865263776: TensorSpec(shape=(), dtype=tf.resource, name=None)\n",
            "  139693865486992: TensorSpec(shape=(), dtype=tf.resource, name=None)\n",
            "  139693865213568: TensorSpec(shape=(), dtype=tf.resource, name=None)\n",
            "  139693865263424: TensorSpec(shape=(), dtype=tf.resource, name=None)\n",
            "  139693865267648: TensorSpec(shape=(), dtype=tf.resource, name=None)\n",
            "  139693865265008: TensorSpec(shape=(), dtype=tf.resource, name=None)\n",
            "  139693865265888: TensorSpec(shape=(), dtype=tf.resource, name=None)\n",
            "  139693865752304: TensorSpec(shape=(), dtype=tf.resource, name=None)\n",
            "  139693865075280: TensorSpec(shape=(), dtype=tf.resource, name=None)\n",
            "  139693865077216: TensorSpec(shape=(), dtype=tf.resource, name=None)\n",
            "  139693865076336: TensorSpec(shape=(), dtype=tf.resource, name=None)\n",
            "  139693865076688: TensorSpec(shape=(), dtype=tf.resource, name=None)\n",
            "  139693865399952: TensorSpec(shape=(), dtype=tf.resource, name=None)\n",
            "  139693865213216: TensorSpec(shape=(), dtype=tf.resource, name=None)\n",
            "  139693865217440: TensorSpec(shape=(), dtype=tf.resource, name=None)\n",
            "  139693865214800: TensorSpec(shape=(), dtype=tf.resource, name=None)\n",
            "  139693865215680: TensorSpec(shape=(), dtype=tf.resource, name=None)\n",
            "  139693865095888: TensorSpec(shape=(), dtype=tf.resource, name=None)\n",
            "  139693865751952: TensorSpec(shape=(), dtype=tf.resource, name=None)\n",
            "  139693865756176: TensorSpec(shape=(), dtype=tf.resource, name=None)\n",
            "  139693865753536: TensorSpec(shape=(), dtype=tf.resource, name=None)\n",
            "  139693865754416: TensorSpec(shape=(), dtype=tf.resource, name=None)\n",
            "  139693865400128: TensorSpec(shape=(), dtype=tf.resource, name=None)\n",
            "  139693865485408: TensorSpec(shape=(), dtype=tf.resource, name=None)\n",
            "  139693865400480: TensorSpec(shape=(), dtype=tf.resource, name=None)\n",
            "  139693865399248: TensorSpec(shape=(), dtype=tf.resource, name=None)\n",
            "  139693865095536: TensorSpec(shape=(), dtype=tf.resource, name=None)\n",
            "  139693865099760: TensorSpec(shape=(), dtype=tf.resource, name=None)\n",
            "  139693865097120: TensorSpec(shape=(), dtype=tf.resource, name=None)\n",
            "  139693865098000: TensorSpec(shape=(), dtype=tf.resource, name=None)\n",
            "  139693865270288: TensorSpec(shape=(), dtype=tf.resource, name=None)\n",
            "  139693864962528: TensorSpec(shape=(), dtype=tf.resource, name=None)\n",
            "  139693865082320: TensorSpec(shape=(), dtype=tf.resource, name=None)\n",
            "  139693865084960: TensorSpec(shape=(), dtype=tf.resource, name=None)\n",
            "  139693865220960: TensorSpec(shape=(), dtype=tf.resource, name=None)\n",
            "  139693865221136: TensorSpec(shape=(), dtype=tf.resource, name=None)\n",
            "  139693865759696: TensorSpec(shape=(), dtype=tf.resource, name=None)\n",
            "  139693865762336: TensorSpec(shape=(), dtype=tf.resource, name=None)\n",
            "  139693865488928: TensorSpec(shape=(), dtype=tf.resource, name=None)\n",
            "  139693865491568: TensorSpec(shape=(), dtype=tf.resource, name=None)\n",
            "  139693865103280: TensorSpec(shape=(), dtype=tf.resource, name=None)\n",
            "  139693865105920: TensorSpec(shape=(), dtype=tf.resource, name=None)\n"
          ]
        }
      ],
      "source": [
        "model.export(\"/mnt/c/Tugas Raihan/Kuliah/Matkul/Semester 6/Bangkit/Machine-Learning-Capstone/model\")"
      ]
    },
    {
      "cell_type": "code",
      "execution_count": 50,
      "metadata": {
        "id": "-ozFM3nxYa03"
      },
      "outputs": [
        {
          "name": "stdout",
          "output_type": "stream",
          "text": [
            "[<KerasTensor shape=(None, None, 64), dtype=float32, sparse=False, name=keras_tensor_864>, <KerasTensor shape=(None, None, 38), dtype=float32, sparse=False, name=keras_tensor_865>]\n"
          ]
        }
      ],
      "source": [
        "print(model.outputs)"
      ]
    },
    {
      "cell_type": "code",
      "execution_count": null,
      "metadata": {
        "id": "nZJgoQmSYa03"
      },
      "outputs": [],
      "source": []
    },
    {
      "cell_type": "code",
      "execution_count": null,
      "metadata": {
        "id": "oIrqpn5LYa03"
      },
      "outputs": [],
      "source": []
    },
    {
      "cell_type": "code",
      "execution_count": null,
      "metadata": {
        "id": "VVwhSblMYa03"
      },
      "outputs": [],
      "source": []
    },
    {
      "cell_type": "code",
      "execution_count": null,
      "metadata": {
        "id": "nesCHqPrYa03"
      },
      "outputs": [],
      "source": []
    },
    {
      "cell_type": "code",
      "execution_count": null,
      "metadata": {
        "id": "CxH5Cj2XYa03"
      },
      "outputs": [],
      "source": []
    },
    {
      "cell_type": "code",
      "execution_count": null,
      "metadata": {
        "id": "7jEXzS4tYa03"
      },
      "outputs": [],
      "source": []
    },
    {
      "cell_type": "code",
      "execution_count": null,
      "metadata": {
        "id": "JnV7D6KIYa03"
      },
      "outputs": [],
      "source": []
    },
    {
      "cell_type": "code",
      "execution_count": null,
      "metadata": {
        "id": "giEuU1pAYa03"
      },
      "outputs": [],
      "source": []
    },
    {
      "cell_type": "code",
      "execution_count": null,
      "metadata": {
        "id": "Zs6YpmN8Ya03"
      },
      "outputs": [],
      "source": []
    }
  ],
  "metadata": {
    "accelerator": "GPU",
    "colab": {
      "gpuType": "T4",
      "provenance": []
    },
    "kernelspec": {
      "display_name": "Python 3 (ipykernel)",
      "language": "python",
      "name": "python3"
    },
    "language_info": {
      "codemirror_mode": {
        "name": "ipython",
        "version": 3
      },
      "file_extension": ".py",
      "mimetype": "text/x-python",
      "name": "python",
      "nbconvert_exporter": "python",
      "pygments_lexer": "ipython3",
      "version": "3.10.12"
    }
  },
  "nbformat": 4,
  "nbformat_minor": 0
}
