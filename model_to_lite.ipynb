{
 "cells": [
  {
   "cell_type": "code",
   "execution_count": 87,
   "metadata": {},
   "outputs": [],
   "source": [
    "import tensorflow as tf\n",
    "import numpy as np\n",
    "import keras_cv\n",
    "import os"
   ]
  },
  {
   "cell_type": "code",
   "execution_count": 88,
   "metadata": {},
   "outputs": [
    {
     "name": "stdout",
     "output_type": "stream",
     "text": [
      "/mnt/c/Tugas Raihan/Kuliah/Matkul/Semester 6/Bangkit/Machine-Learning-Capstone/model\n"
     ]
    }
   ],
   "source": [
    "path = \"/mnt/c/Tugas Raihan/Kuliah/Matkul/Semester 6/Bangkit/Machine-Learning-Capstone/model\"\n",
    "if (not os.path.exists(path)):\n",
    "    path = \"./model\"\n",
    "print(path)"
   ]
  },
  {
   "cell_type": "code",
   "execution_count": 89,
   "metadata": {},
   "outputs": [
    {
     "data": {
      "text/plain": [
       "<tensorflow.lite.python.lite.TFLiteSavedModelConverterV2 at 0x7f0b83daf100>"
      ]
     },
     "execution_count": 89,
     "metadata": {},
     "output_type": "execute_result"
    }
   ],
   "source": [
    "converter = tf.lite.TFLiteConverter.from_saved_model(path)\n",
    "converter"
   ]
  },
  {
   "cell_type": "code",
   "execution_count": 90,
   "metadata": {},
   "outputs": [],
   "source": [
    "converter.optimizations = [tf.lite.Optimize.DEFAULT]\n",
    "converter.target_spec.supported_types = [tf.float16]\n",
    "converter.target_spec.supported_ops = [\n",
    "  tf.lite.OpsSet.TFLITE_BUILTINS, # enable TensorFlow Lite ops.\n",
    "  tf.lite.OpsSet.SELECT_TF_OPS # enable TensorFlow ops.\n",
    "]"
   ]
  },
  {
   "cell_type": "code",
   "execution_count": 91,
   "metadata": {},
   "outputs": [],
   "source": [
    "# def representative_data_gen():\n",
    "#     for input_value, _ in test_batches.take(100):\n",
    "#         yield [input_value]\n",
    "\n",
    "# converter.representative_dataset = representative_data_gen\n",
    "# converter.target_spec.supported_ops = [tf.lite.OpsSet.TFLITE_BUILTINS_INT8]"
   ]
  },
  {
   "cell_type": "code",
   "execution_count": 92,
   "metadata": {},
   "outputs": [
    {
     "name": "stderr",
     "output_type": "stream",
     "text": [
      "W0000 00:00:1717889867.395359  315628 tf_tfl_flatbuffer_helpers.cc:390] Ignored output_format.\n",
      "W0000 00:00:1717889867.395410  315628 tf_tfl_flatbuffer_helpers.cc:393] Ignored drop_control_dependency.\n",
      "2024-06-09 06:37:47.398119: I tensorflow/cc/saved_model/reader.cc:83] Reading SavedModel from: /mnt/c/Tugas Raihan/Kuliah/Matkul/Semester 6/Bangkit/Machine-Learning-Capstone/model\n",
      "2024-06-09 06:37:47.420952: I tensorflow/cc/saved_model/reader.cc:51] Reading meta graph with tags { serve }\n",
      "2024-06-09 06:37:47.420998: I tensorflow/cc/saved_model/reader.cc:146] Reading SavedModel debug info (if present) from: /mnt/c/Tugas Raihan/Kuliah/Matkul/Semester 6/Bangkit/Machine-Learning-Capstone/model\n",
      "2024-06-09 06:37:47.602030: I tensorflow/cc/saved_model/loader.cc:234] Restoring SavedModel bundle.\n",
      "2024-06-09 06:37:48.706995: I tensorflow/cc/saved_model/loader.cc:218] Running initialization op on SavedModel bundle at path: /mnt/c/Tugas Raihan/Kuliah/Matkul/Semester 6/Bangkit/Machine-Learning-Capstone/model\n",
      "2024-06-09 06:37:48.882091: I tensorflow/cc/saved_model/loader.cc:317] SavedModel load for tags { serve }; Status: success: OK. Took 1483949 microseconds.\n",
      "2024-06-09 06:37:49.628981: W tensorflow/compiler/mlir/lite/flatbuffer_export.cc:2996] TFLite interpreter needs to link Flex delegate in order to run the model since it contains the following Select TFop(s):\n",
      "Flex ops: FlexConv2D\n",
      "Details:\n",
      "\ttf.Conv2D(tensor<?x?x?x?xf32>, tensor<1x1x384x128xf32>) -> (tensor<?x?x?x128xf32>) : {data_format = \"NHWC\", dilations = [1, 1, 1, 1], explicit_paddings = [], padding = \"VALID\", strides = [1, 1, 1, 1], use_cudnn_on_gpu = true}\n",
      "\ttf.Conv2D(tensor<?x?x?x?xf32>, tensor<1x1x768x256xf32>) -> (tensor<?x?x?x256xf32>) : {data_format = \"NHWC\", dilations = [1, 1, 1, 1], explicit_paddings = [], padding = \"VALID\", strides = [1, 1, 1, 1], use_cudnn_on_gpu = true}\n",
      "See instructions: https://www.tensorflow.org/lite/guide/ops_select\n"
     ]
    }
   ],
   "source": [
    "tflite_model = converter.convert()"
   ]
  },
  {
   "cell_type": "code",
   "execution_count": 93,
   "metadata": {},
   "outputs": [],
   "source": [
    "tf_lite_model_path = \"/mnt/c/Tugas Raihan/Kuliah/Matkul/Semester 6/Bangkit/Machine-Learning-Capstone\"\n",
    "if (not os.path.exists(tf_lite_model_path)):\n",
    "    tf_lite_model_path = \"./\"\n",
    "tf_lite_model_path = os.path.join(tf_lite_model_path, \"model.tflite\")"
   ]
  },
  {
   "cell_type": "code",
   "execution_count": 94,
   "metadata": {},
   "outputs": [],
   "source": [
    "with open(tf_lite_model_path, 'wb') as f:\n",
    "    f.write(tflite_model)"
   ]
  },
  {
   "cell_type": "code",
   "execution_count": 95,
   "metadata": {},
   "outputs": [
    {
     "name": "stderr",
     "output_type": "stream",
     "text": [
      "2024-06-09 06:37:50.364737: I external/local_xla/xla/stream_executor/cuda/cuda_executor.cc:984] could not open file to read NUMA node: /sys/bus/pci/devices/0000:05:00.0/numa_node\n",
      "Your kernel may have been built without NUMA support.\n",
      "2024-06-09 06:37:50.364860: I external/local_xla/xla/stream_executor/cuda/cuda_executor.cc:984] could not open file to read NUMA node: /sys/bus/pci/devices/0000:05:00.0/numa_node\n",
      "Your kernel may have been built without NUMA support.\n",
      "2024-06-09 06:37:50.364899: I external/local_xla/xla/stream_executor/cuda/cuda_executor.cc:984] could not open file to read NUMA node: /sys/bus/pci/devices/0000:05:00.0/numa_node\n",
      "Your kernel may have been built without NUMA support.\n",
      "2024-06-09 06:37:50.365138: I external/local_xla/xla/stream_executor/cuda/cuda_executor.cc:984] could not open file to read NUMA node: /sys/bus/pci/devices/0000:05:00.0/numa_node\n",
      "Your kernel may have been built without NUMA support.\n",
      "2024-06-09 06:37:50.365152: I tensorflow/core/common_runtime/gpu/gpu_device.cc:2019] Could not identify NUMA node of platform GPU id 0, defaulting to 0.  Your kernel may not have been built with NUMA support.\n",
      "2024-06-09 06:37:50.365187: I external/local_xla/xla/stream_executor/cuda/cuda_executor.cc:984] could not open file to read NUMA node: /sys/bus/pci/devices/0000:05:00.0/numa_node\n",
      "Your kernel may have been built without NUMA support.\n",
      "2024-06-09 06:37:50.365200: I tensorflow/core/common_runtime/gpu/gpu_device.cc:1928] Created device /job:localhost/replica:0/task:0/device:GPU:0 with 9711 MB memory:  -> device: 0, name: NVIDIA GeForce RTX 3060, pci bus id: 0000:05:00.0, compute capability: 8.6\n",
      "2024-06-09 06:37:50.366277: E tensorflow/core/framework/node_def_util.cc:676] NodeDef mentions attribute use_inter_op_parallelism which is not in the op definition: Op<name=Conv2D; signature=input:T, filter:T -> output:T; attr=T:type,allowed=[DT_HALF, DT_BFLOAT16, DT_FLOAT, DT_DOUBLE, DT_INT32]; attr=strides:list(int); attr=use_cudnn_on_gpu:bool,default=true; attr=padding:string,allowed=[\"SAME\", \"VALID\", \"EXPLICIT\"]; attr=explicit_paddings:list(int),default=[]; attr=data_format:string,default=\"NHWC\",allowed=[\"NHWC\", \"NCHW\"]; attr=dilations:list(int),default=[1, 1, 1, 1]> This may be expected if your graph generating binary is newer  than this binary. Unknown attributes will be ignored. NodeDef: {{node Conv2D}}\n"
     ]
    }
   ],
   "source": [
    "interpreter = tf.lite.Interpreter(model_path=tf_lite_model_path)\n",
    "# interpreter.allocate_tensors()\n",
    "\n",
    "# input_details = interpreter.get_input_details()\n",
    "# output_details = interpreter.get_output_details()"
   ]
  },
  {
   "cell_type": "code",
   "execution_count": 96,
   "metadata": {},
   "outputs": [],
   "source": [
    "my_signature = interpreter.get_signature_runner()"
   ]
  },
  {
   "cell_type": "code",
   "execution_count": 97,
   "metadata": {},
   "outputs": [
    {
     "name": "stdout",
     "output_type": "stream",
     "text": [
      "{'serving_default': {'inputs': ['keras_tensor_244'], 'outputs': ['boxes', 'classes']}}\n"
     ]
    }
   ],
   "source": [
    "print(interpreter.get_signature_list())"
   ]
  },
  {
   "cell_type": "code",
   "execution_count": 98,
   "metadata": {},
   "outputs": [],
   "source": [
    "input_data = tf.random.normal([1, 640, 640, 3])\n",
    "result = my_signature(keras_tensor_244=input_data)"
   ]
  },
  {
   "cell_type": "code",
   "execution_count": 99,
   "metadata": {},
   "outputs": [
    {
     "name": "stdout",
     "output_type": "stream",
     "text": [
      "{'boxes': array([[[ -1.1049697 ,   4.844403  ,   2.3852112 , ...,  -0.97693956,\n",
      "          -2.131545  ,  -3.5537477 ],\n",
      "        [ -1.9275856 ,   2.74876   ,   2.5082667 , ...,  -0.7930606 ,\n",
      "          -1.9815745 ,   0.35560164],\n",
      "        [ -1.0750083 ,   1.7881688 ,   3.3977122 , ...,  -0.19822016,\n",
      "          -1.4174019 ,   3.518303  ],\n",
      "        ...,\n",
      "        [-10.436209  ,  -5.5797825 ,  -4.1584496 , ...,  -3.9686363 ,\n",
      "          -2.5731235 ,  -1.7645925 ],\n",
      "        [-10.6657715 ,  -6.672385  ,  -4.8223925 , ...,  -3.9721613 ,\n",
      "          -2.3584127 ,  -2.2848423 ],\n",
      "        [ -2.068705  ,  -2.5260563 ,  -5.7882495 , ...,  -2.5957546 ,\n",
      "           0.7775184 ,  -0.7574772 ]]], dtype=float32), 'classes': array([[[2.88384035e-03, 3.61869950e-03, 5.34343114e-03, ...,\n",
      "         2.17150291e-03, 8.04141047e-04, 1.44095437e-04],\n",
      "        [2.59727193e-03, 1.10785058e-03, 2.86988518e-03, ...,\n",
      "         5.01710805e-04, 1.38996023e-04, 1.12839016e-05],\n",
      "        [1.29708683e-03, 4.15275164e-04, 1.11259334e-03, ...,\n",
      "         1.48547260e-04, 2.86637041e-05, 4.65545236e-06],\n",
      "        ...,\n",
      "        [2.77169220e-05, 1.25667674e-03, 1.04000140e-03, ...,\n",
      "         4.45243755e-12, 9.99861598e-01, 5.85268325e-13],\n",
      "        [6.81874440e-07, 3.32970667e-05, 9.36622673e-05, ...,\n",
      "         5.11889657e-14, 9.99905646e-01, 1.13809625e-14],\n",
      "        [7.18927860e-01, 9.99920011e-01, 9.87982810e-01, ...,\n",
      "         3.33208341e-08, 1.00000000e+00, 1.93644019e-06]]], dtype=float32)}\n"
     ]
    }
   ],
   "source": [
    "print(result)"
   ]
  },
  {
   "cell_type": "code",
   "execution_count": 100,
   "metadata": {},
   "outputs": [],
   "source": [
    "# input_data = tf.random.normal(input_details[0]['shape'], mean=0, stddev=1)\n",
    "# interpreter.set_tensor(input_details[0]['index'], input_data)\n",
    "\n",
    "# interpreter.invoke()\n",
    "# tf_lite_output = interpreter.get_tensor(output_details[0]['index'])\n",
    "# print(tf_lite_output)"
   ]
  }
 ],
 "metadata": {
  "kernelspec": {
   "display_name": "Python 3 (ipykernel)",
   "language": "python",
   "name": "python3"
  },
  "language_info": {
   "codemirror_mode": {
    "name": "ipython",
    "version": 3
   },
   "file_extension": ".py",
   "mimetype": "text/x-python",
   "name": "python",
   "nbconvert_exporter": "python",
   "pygments_lexer": "ipython3",
   "version": "3.10.12"
  }
 },
 "nbformat": 4,
 "nbformat_minor": 2
}
